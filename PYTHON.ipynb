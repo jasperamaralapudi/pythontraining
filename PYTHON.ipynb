{
  "nbformat": 4,
  "nbformat_minor": 0,
  "metadata": {
    "colab": {
      "provenance": []
    },
    "kernelspec": {
      "name": "python3",
      "display_name": "Python 3"
    },
    "language_info": {
      "name": "python"
    }
  },
  "cells": [
    {
      "cell_type": "markdown",
      "source": [
        "# **DAY 1 - Operators**"
      ],
      "metadata": {
        "id": "XYV49z2CcUME"
      }
    },
    {
      "cell_type": "markdown",
      "source": [
        "bitwise operators"
      ],
      "metadata": {
        "id": "0Y8VUM4HMXvd"
      }
    },
    {
      "cell_type": "code",
      "source": [
        "a=10\n",
        "b=5\n",
        "print(a&b)\n",
        "print(a|b)\n",
        "print(a^b)\n",
        "print(~a)\n",
        "print(a>>2)\n",
        "print(a<<2)"
      ],
      "metadata": {
        "colab": {
          "base_uri": "https://localhost:8080/"
        },
        "id": "g5jJVCdkMP50",
        "outputId": "25a7174a-01e0-44d0-a809-81de4214d662"
      },
      "execution_count": 2,
      "outputs": [
        {
          "output_type": "stream",
          "name": "stdout",
          "text": [
            "0\n",
            "15\n",
            "15\n",
            "-11\n",
            "2\n",
            "40\n"
          ]
        }
      ]
    },
    {
      "cell_type": "markdown",
      "source": [
        "# **DAY 2 - Precedence & Associtivity, If-else, Pseudocodes**"
      ],
      "metadata": {
        "id": "_VeK04qaII9G"
      }
    },
    {
      "cell_type": "markdown",
      "source": [
        "**One Way Selection**"
      ],
      "metadata": {
        "id": "jQobFXbZVba5"
      }
    },
    {
      "cell_type": "code",
      "source": [
        "amnt =int(input())\n",
        "if amnt>=500:\n",
        "  print(amnt+40)"
      ],
      "metadata": {
        "colab": {
          "base_uri": "https://localhost:8080/"
        },
        "id": "W973S8UiVZVl",
        "outputId": "9943681d-8dcb-47c4-ce4d-303fed50092f"
      },
      "execution_count": null,
      "outputs": [
        {
          "output_type": "stream",
          "name": "stdout",
          "text": [
            "76576\n",
            "76616\n"
          ]
        }
      ]
    },
    {
      "cell_type": "markdown",
      "source": [
        " **Two Way Selection**\n"
      ],
      "metadata": {
        "id": "zmKs-jUcUU_N"
      }
    },
    {
      "cell_type": "code",
      "execution_count": null,
      "metadata": {
        "colab": {
          "base_uri": "https://localhost:8080/"
        },
        "id": "F-H7S462Tq7O",
        "outputId": "1255b814-0845-457c-e0ab-618aab5477dd"
      },
      "outputs": [
        {
          "output_type": "stream",
          "name": "stdout",
          "text": [
            "65\n",
            "Free Delivery\n"
          ]
        }
      ],
      "source": [
        "amnt =int(input())\n",
        "if amnt>=500:\n",
        "  print(amnt+40)\n",
        "else:\n",
        "  print(\"Free Delivery\")"
      ]
    },
    {
      "cell_type": "markdown",
      "source": [
        "**MultiWay Selection**"
      ],
      "metadata": {
        "id": "bTtEq1H4U-hh"
      }
    },
    {
      "cell_type": "code",
      "source": [
        "num =int(input())\n",
        "if num>0:\n",
        "  print(\"Positive\")\n",
        "elif num<0:\n",
        "  print(\"Negative\" )\n",
        "else:\n",
        "  print(\"Zero\")"
      ],
      "metadata": {
        "colab": {
          "base_uri": "https://localhost:8080/"
        },
        "id": "0F9AFd4SVG7U",
        "outputId": "c9a854f0-c442-4db6-9f7f-ada50420b4bf"
      },
      "execution_count": null,
      "outputs": [
        {
          "output_type": "stream",
          "name": "stdout",
          "text": [
            "6\n",
            "Positive\n"
          ]
        }
      ]
    },
    {
      "cell_type": "code",
      "source": [
        "direction =input(\"Enter a single character for direction: \")\n",
        "if direction==\"w\" or direction==\"W\":\n",
        "    print(\">>West\")\n",
        "elif direction==\"s\" or direction==\"S\":\n",
        "    print(\">>South\")\n",
        "elif direction==\"e\" or direction==\"E\":\n",
        "    print(\">>East\")\n",
        "elif direction==\"n\" or direction==\"N\":\n",
        "    print(\">>North\")\n",
        "else:\n",
        "  print(\"Invalid Input\")"
      ],
      "metadata": {
        "colab": {
          "base_uri": "https://localhost:8080/"
        },
        "id": "7d9uSwqiX5Kg",
        "outputId": "e36802bc-598f-42c2-abb1-48ad69c228cc"
      },
      "execution_count": null,
      "outputs": [
        {
          "output_type": "stream",
          "name": "stdout",
          "text": [
            "Enter a single character for direction: w\n",
            ">>West\n"
          ]
        }
      ]
    },
    {
      "cell_type": "markdown",
      "source": [
        "**Sequence Range**"
      ],
      "metadata": {
        "id": "1NZKYa-B9d81"
      }
    },
    {
      "cell_type": "code",
      "source": [
        "for i in range(25,10,-2):\n",
        "  print(i,end=' ')"
      ],
      "metadata": {
        "colab": {
          "base_uri": "https://localhost:8080/"
        },
        "id": "8HT4hOMQ9ieR",
        "outputId": "2745c2d8-abad-4b2c-d6f7-fbea242adc64"
      },
      "execution_count": null,
      "outputs": [
        {
          "output_type": "stream",
          "name": "stdout",
          "text": [
            "25 23 21 19 17 15 13 11 "
          ]
        }
      ]
    },
    {
      "cell_type": "code",
      "source": [
        "for i in range(50,101,1):\n",
        "  if i%7==0:\n",
        "    print(i,end=' ')"
      ],
      "metadata": {
        "colab": {
          "base_uri": "https://localhost:8080/"
        },
        "id": "AbEPhVHB9-Eh",
        "outputId": "741dfe23-6554-4d14-cd8f-5b1daffc440c"
      },
      "execution_count": null,
      "outputs": [
        {
          "output_type": "stream",
          "name": "stdout",
          "text": [
            "56 63 70 77 84 91 98 "
          ]
        }
      ]
    },
    {
      "cell_type": "code",
      "source": [
        "for i in range(50,101,1):\n",
        "  if i%7==0 and i%3==0:\n",
        "    print(i,end=' ')"
      ],
      "metadata": {
        "colab": {
          "base_uri": "https://localhost:8080/"
        },
        "id": "eNOzv1xy_EaO",
        "outputId": "103df63f-ebde-40b9-9326-dc6bcbdbfb97"
      },
      "execution_count": null,
      "outputs": [
        {
          "output_type": "stream",
          "name": "stdout",
          "text": [
            "63 84 "
          ]
        }
      ]
    },
    {
      "cell_type": "code",
      "source": [
        "for i in range(50,101,1):\n",
        "  if i%7==0 or i%3==0:\n",
        "    print(i,end=' ')"
      ],
      "metadata": {
        "colab": {
          "base_uri": "https://localhost:8080/"
        },
        "id": "8k48hPUm_oh6",
        "outputId": "e7da41da-f465-4127-ea81-6de69ba395ec"
      },
      "execution_count": null,
      "outputs": [
        {
          "output_type": "stream",
          "name": "stdout",
          "text": [
            "51 54 56 57 60 63 66 69 70 72 75 77 78 81 84 87 90 91 93 96 98 99 "
          ]
        }
      ]
    },
    {
      "cell_type": "code",
      "source": [
        "username=\"Jasper\"\n",
        "password=1234523\n",
        "for i in range(3):\n",
        "  input1=input(\"Enter username: \")\n",
        "  input2=int(input(\"Enter password: \"))\n",
        "  if input1==username and input2==password:\n",
        "    print(\"Login Successful!\")\n",
        "    break\n",
        "  else:\n",
        "    if i==2:\n",
        "      print(\"Authentication Failed. You are blocked for 24 hours.\")\n",
        "    else:\n",
        "      print(\"Wrong Password. Authentication Failed. Try again\")"
      ],
      "metadata": {
        "colab": {
          "base_uri": "https://localhost:8080/"
        },
        "id": "XYWqBsy1AF8g",
        "outputId": "dd1e383f-9712-40af-b0a7-845cd39c1138"
      },
      "execution_count": null,
      "outputs": [
        {
          "output_type": "stream",
          "name": "stdout",
          "text": [
            "Enter username: Jasper\n",
            "Enter password: 1234523\n",
            "Login Successful!\n"
          ]
        }
      ]
    },
    {
      "cell_type": "code",
      "source": [
        "print(60&13)"
      ],
      "metadata": {
        "colab": {
          "base_uri": "https://localhost:8080/"
        },
        "id": "mGiw40TKOBuy",
        "outputId": "b2353e96-e0b0-40e1-c712-1951bd7d9dd7"
      },
      "execution_count": null,
      "outputs": [
        {
          "output_type": "stream",
          "name": "stdout",
          "text": [
            "12\n"
          ]
        }
      ]
    },
    {
      "cell_type": "code",
      "source": [
        "a=12\n",
        "b=5\n",
        "c=8\n",
        "d=(a**12 - b**5)or (c**8/2)\n",
        "print(d)"
      ],
      "metadata": {
        "colab": {
          "base_uri": "https://localhost:8080/"
        },
        "id": "kuCvbxxvlwaa",
        "outputId": "cd2529aa-f7d9-4e8a-cb2b-d4c0923035a3"
      },
      "execution_count": null,
      "outputs": [
        {
          "output_type": "stream",
          "name": "stdout",
          "text": [
            "8916100445131\n"
          ]
        }
      ]
    },
    {
      "cell_type": "markdown",
      "source": [
        "# **DAY 3 - Loops , Strings**"
      ],
      "metadata": {
        "id": "rJj9wP2DDMXF"
      }
    },
    {
      "cell_type": "markdown",
      "source": [
        "**Problem Statement**"
      ],
      "metadata": {
        "id": "XDwt-UVsC5vo"
      }
    },
    {
      "cell_type": "code",
      "source": [
        "nmbr=int(input())"
      ],
      "metadata": {
        "id": "1kXpnoV-DCvy"
      },
      "execution_count": null,
      "outputs": []
    },
    {
      "cell_type": "markdown",
      "source": [
        "**Problem Statement**\n",
        "Sum of all non prime digits in a number"
      ],
      "metadata": {
        "id": "1kHXlFaOCsZe"
      }
    },
    {
      "cell_type": "code",
      "source": [
        "nmbr=int(input())\n",
        "sum =0\n",
        "while nmbr>0:\n",
        "  dgt=nmbr%10\n",
        "  for i in range(2,dgt):\n",
        "    if nmbr%i==0:\n",
        "       sum=sum+dgt\n",
        "  nmbr=nmbr//10\n",
        "print(sum)"
      ],
      "metadata": {
        "colab": {
          "base_uri": "https://localhost:8080/"
        },
        "id": "6ctfYyKtBYto",
        "outputId": "75479af5-269b-4d5c-f471-06cdcb793f2b"
      },
      "execution_count": null,
      "outputs": [
        {
          "output_type": "stream",
          "name": "stdout",
          "text": [
            "45673\n",
            "27\n"
          ]
        }
      ]
    },
    {
      "cell_type": "markdown",
      "source": [
        "Nested Loop"
      ],
      "metadata": {
        "id": "o69dasamFWOt"
      }
    },
    {
      "cell_type": "code",
      "source": [
        "for i in range(1,4):\n",
        "  for j in range(1,4):\n",
        "    print(i, end=' ')\n",
        "  print()"
      ],
      "metadata": {
        "colab": {
          "base_uri": "https://localhost:8080/"
        },
        "id": "2NuhaT_PFYVO",
        "outputId": "7c3461bb-641d-404b-ece6-71d4b68a49cc"
      },
      "execution_count": null,
      "outputs": [
        {
          "output_type": "stream",
          "name": "stdout",
          "text": [
            "1 1 1 \n",
            "2 2 2 \n",
            "3 3 3 \n"
          ]
        }
      ]
    },
    {
      "cell_type": "code",
      "source": [
        "for i in range( 1,6):\n",
        "  for j in range(1,i+1):\n",
        "    print(j, end=' ')\n",
        "  print()"
      ],
      "metadata": {
        "colab": {
          "base_uri": "https://localhost:8080/"
        },
        "id": "Ont_MkFPKw-l",
        "outputId": "b7575172-118d-41fb-961f-d681aec98ac7"
      },
      "execution_count": null,
      "outputs": [
        {
          "output_type": "stream",
          "name": "stdout",
          "text": [
            "1 \n",
            "1 2 \n",
            "1 2 3 \n",
            "1 2 3 4 \n",
            "1 2 3 4 5 \n"
          ]
        }
      ]
    },
    {
      "cell_type": "code",
      "source": [
        "for i in range( 5,0,-1):\n",
        "  for j in range(1,i+1):\n",
        "    print(j, end=' ')\n",
        "  print()"
      ],
      "metadata": {
        "colab": {
          "base_uri": "https://localhost:8080/"
        },
        "id": "7mx6L6NLIlfm",
        "outputId": "2633b02a-3cdf-4b26-900d-a89c5511cff4"
      },
      "execution_count": null,
      "outputs": [
        {
          "output_type": "stream",
          "name": "stdout",
          "text": [
            "1 2 3 4 5 \n",
            "1 2 3 4 \n",
            "1 2 3 \n",
            "1 2 \n",
            "1 \n"
          ]
        }
      ]
    },
    {
      "cell_type": "code",
      "source": [
        "for i in range(5,0,-1):\n",
        "  for j in range(i,0,-1):\n",
        "    print(j, end=' ')\n",
        "  print()"
      ],
      "metadata": {
        "colab": {
          "base_uri": "https://localhost:8080/"
        },
        "id": "oy_ZCCqXLv6w",
        "outputId": "ce14c5c5-29d1-46ac-cccc-abbe85e359ca"
      },
      "execution_count": null,
      "outputs": [
        {
          "output_type": "stream",
          "name": "stdout",
          "text": [
            "5 4 3 2 1 \n",
            "4 3 2 1 \n",
            "3 2 1 \n",
            "2 1 \n",
            "1 \n"
          ]
        }
      ]
    },
    {
      "cell_type": "code",
      "source": [
        "for i  in range(1,6):\n",
        "  for j in range(1,6):\n",
        "    print(\"%2d\"%(i*j),\"\\t\", end=' ')\n",
        "  print()"
      ],
      "metadata": {
        "colab": {
          "base_uri": "https://localhost:8080/"
        },
        "id": "o8s7z7U_MwXS",
        "outputId": "4950b443-0b42-45cb-e52a-89be88bd5289"
      },
      "execution_count": null,
      "outputs": [
        {
          "output_type": "stream",
          "name": "stdout",
          "text": [
            " 1 \t  2 \t  3 \t  4 \t  5 \t \n",
            " 2 \t  4 \t  6 \t  8 \t 10 \t \n",
            " 3 \t  6 \t  9 \t 12 \t 15 \t \n",
            " 4 \t  8 \t 12 \t 16 \t 20 \t \n",
            " 5 \t 10 \t 15 \t 20 \t 25 \t \n"
          ]
        }
      ]
    },
    {
      "cell_type": "markdown",
      "source": [
        "The else Statement Used With Loops"
      ],
      "metadata": {
        "id": "Mk8OhXMTUeWY"
      }
    },
    {
      "cell_type": "code",
      "source": [
        "for num in range(5):\n",
        "  print(f\"Current Number: {num}\")\n",
        "else:\n",
        "  print(\"Loop Completed Normally\")"
      ],
      "metadata": {
        "colab": {
          "base_uri": "https://localhost:8080/"
        },
        "id": "iZZymEN4UkOd",
        "outputId": "af128067-1f10-4e28-87c7-3b0487e7397c"
      },
      "execution_count": null,
      "outputs": [
        {
          "output_type": "stream",
          "name": "stdout",
          "text": [
            "Current Number: 0\n",
            "Current Number: 1\n",
            "Current Number: 2\n",
            "Current Number: 3\n",
            "Current Number: 4\n",
            "Loop Completed Normally\n"
          ]
        }
      ]
    },
    {
      "cell_type": "code",
      "source": [
        "for num in range(5):\n",
        "  print(f\"Current Number: {num}\")\n",
        "  if num==3:\n",
        "    break\n",
        "else:\n",
        "  print(\"Loop Completed Normally\")"
      ],
      "metadata": {
        "colab": {
          "base_uri": "https://localhost:8080/"
        },
        "id": "WlsqXM03U1V_",
        "outputId": "78809f36-2a75-4097-8015-c4f03567c687"
      },
      "execution_count": null,
      "outputs": [
        {
          "output_type": "stream",
          "name": "stdout",
          "text": [
            "Current Number: 0\n",
            "Current Number: 1\n",
            "Current Number: 2\n",
            "Current Number: 3\n"
          ]
        }
      ]
    },
    {
      "cell_type": "code",
      "source": [
        "count =0\n",
        "while count<10:\n",
        "  print(f\"Current Number: {count}\")\n",
        "  count=count+1\n",
        "else:\n",
        "  print(\"Loop Completed Normally\")"
      ],
      "metadata": {
        "colab": {
          "base_uri": "https://localhost:8080/"
        },
        "id": "AtRO0c1YXAQI",
        "outputId": "65778970-2da7-47a8-c370-3825cb56d1c7"
      },
      "execution_count": null,
      "outputs": [
        {
          "output_type": "stream",
          "name": "stdout",
          "text": [
            "Current Number: 0\n",
            "Current Number: 1\n",
            "Current Number: 2\n",
            "Current Number: 3\n",
            "Current Number: 4\n",
            "Current Number: 5\n",
            "Current Number: 6\n",
            "Current Number: 7\n",
            "Current Number: 8\n",
            "Current Number: 9\n",
            "Loop Completed Normally\n"
          ]
        }
      ]
    },
    {
      "cell_type": "code",
      "source": [
        "count =0\n",
        "while count<10:\n",
        "  print(f\"Current Number: {count}\")\n",
        "  count=count+1\n",
        "  if count>5:\n",
        "    break\n",
        "else:\n",
        "  print(\"Loop Completed Normally\")"
      ],
      "metadata": {
        "colab": {
          "base_uri": "https://localhost:8080/"
        },
        "id": "5gM_4ZnFXYrt",
        "outputId": "a06791f8-b0c9-45d7-d137-0486615f1ce4"
      },
      "execution_count": null,
      "outputs": [
        {
          "output_type": "stream",
          "name": "stdout",
          "text": [
            "Current Number: 0\n",
            "Current Number: 1\n",
            "Current Number: 2\n",
            "Current Number: 3\n",
            "Current Number: 4\n",
            "Current Number: 5\n"
          ]
        }
      ]
    },
    {
      "cell_type": "code",
      "source": [
        "count =0\n",
        "while count<10:\n",
        "  print(f\"Current Number: {count}\")\n",
        "  count=count+1\n",
        "  if count>5:\n",
        "    continue\n",
        "else:\n",
        "  print(\"Loop Completed Normally\")"
      ],
      "metadata": {
        "colab": {
          "base_uri": "https://localhost:8080/"
        },
        "id": "xIdZCk8vXkxl",
        "outputId": "4daf8167-5dd7-46dc-a037-7e8174194604"
      },
      "execution_count": null,
      "outputs": [
        {
          "output_type": "stream",
          "name": "stdout",
          "text": [
            "Current Number: 0\n",
            "Current Number: 1\n",
            "Current Number: 2\n",
            "Current Number: 3\n",
            "Current Number: 4\n",
            "Current Number: 5\n",
            "Current Number: 6\n",
            "Current Number: 7\n",
            "Current Number: 8\n",
            "Current Number: 9\n",
            "Loop Completed Normally\n"
          ]
        }
      ]
    },
    {
      "cell_type": "markdown",
      "source": [
        "***String***: Series of characters delimited by single, double or even triple quotes."
      ],
      "metadata": {
        "id": "2Ft477j4bDLw"
      }
    },
    {
      "cell_type": "markdown",
      "source": [
        "Multiline String:\n",
        "3 ways\n",
        "\n",
        "1.  Ends with\\\n",
        "2.  \"\"\"some msg\"\"\" or '''some msg'''\n",
        "3. ('one msg'\n",
        "      '2nd line')\n",
        "\n"
      ],
      "metadata": {
        "id": "d6tJgCPUcPc7"
      }
    },
    {
      "cell_type": "code",
      "source": [
        "print(\"Welcome to \\\n",
        "python \\\n",
        "programing\")\n",
        "print('''some msg\n",
        "2nd line''')\n",
        "print(\"some msg \"\n",
        "      \"2nd line\")"
      ],
      "metadata": {
        "colab": {
          "base_uri": "https://localhost:8080/",
          "height": 106
        },
        "collapsed": true,
        "id": "_Wf8eXwFcW5n",
        "outputId": "eca1b606-03b1-4425-b2b9-45dd3b2bf214"
      },
      "execution_count": null,
      "outputs": [
        {
          "output_type": "error",
          "ename": "SyntaxError",
          "evalue": "unterminated string literal (detected at line 2) (<ipython-input-54-ce03a8919aec>, line 1)",
          "traceback": [
            "\u001b[0;36m  File \u001b[0;32m\"<ipython-input-54-ce03a8919aec>\"\u001b[0;36m, line \u001b[0;32m1\u001b[0m\n\u001b[0;31m    print(\"Welcome to \\\u001b[0m\n\u001b[0m          ^\u001b[0m\n\u001b[0;31mSyntaxError\u001b[0m\u001b[0;31m:\u001b[0m unterminated string literal (detected at line 2)\n"
          ]
        }
      ]
    },
    {
      "cell_type": "code",
      "source": [
        "x =5\n",
        "y =10\n",
        "z =(x<y) ==True\n",
        "print(z)"
      ],
      "metadata": {
        "colab": {
          "base_uri": "https://localhost:8080/"
        },
        "id": "ffXDczGPft9d",
        "outputId": "58b3ff2a-fc04-4466-c387-150652044f7d"
      },
      "execution_count": null,
      "outputs": [
        {
          "output_type": "stream",
          "name": "stdout",
          "text": [
            "True\n"
          ]
        }
      ]
    },
    {
      "cell_type": "code",
      "source": [
        "name=\"Amarlapudi Jasper\"\n",
        "print(name[-6:-2])\n",
        "print(name[-8:-12:-1])\n",
        "print(name[-14:-11])\n",
        "print(name[3:-11])\n",
        "print(name[11:-2])"
      ],
      "metadata": {
        "colab": {
          "base_uri": "https://localhost:8080/"
        },
        "id": "0TGmgmzB9PKL",
        "outputId": "54fcd391-f468-4889-f46f-3e60ef415361"
      },
      "execution_count": null,
      "outputs": [
        {
          "output_type": "stream",
          "name": "stdout",
          "text": [
            "Jasp\n",
            "idup\n",
            "rla\n",
            "rla\n",
            "Jasp\n"
          ]
        }
      ]
    },
    {
      "cell_type": "code",
      "source": [
        "str1=\"Jasper\"\n",
        "print(str1.isalpha())\n",
        "str2=\"12412\"\n",
        "print(str2.isdigit())\n",
        "print(str2.isalnum())\n",
        "print(str1.isdigit() )\n",
        "str3=\"Jasper123\"\n",
        "print(str3.isalnum())\n",
        "str4=\"jasper\"\n",
        "print(str4.islower())\n",
        "str5=\"JASPER\"\n",
        "print(str5.isupper())\n",
        "str6=\"Jasper\"\n",
        "print(str6.startswith(\"J\"))\n",
        "print(str6.endswith(\"r \"))"
      ],
      "metadata": {
        "colab": {
          "base_uri": "https://localhost:8080/"
        },
        "id": "i-Dt2XcnBau8",
        "outputId": "3f4df395-1c9e-46d0-fcfb-64c2fbbe2c3f"
      },
      "execution_count": null,
      "outputs": [
        {
          "output_type": "stream",
          "name": "stdout",
          "text": [
            "True\n",
            "True\n",
            "True\n",
            "False\n",
            "True\n",
            "True\n",
            "True\n",
            "True\n",
            "False\n"
          ]
        }
      ]
    },
    {
      "cell_type": "code",
      "source": [
        "s=\"Welcome to Python programming\"\n",
        "print(s.find(\"Python\",0,10)) #it is not present within given range so it prints -1\n",
        "print(s.find(\"Python\"))\n",
        "print(s.replace(\"P\",\"p\"))"
      ],
      "metadata": {
        "colab": {
          "base_uri": "https://localhost:8080/"
        },
        "id": "zrPLywcbDjb2",
        "outputId": "ba2fbe81-a32f-439b-a8a9-fe6fd7392ca0"
      },
      "execution_count": null,
      "outputs": [
        {
          "output_type": "stream",
          "name": "stdout",
          "text": [
            "-1\n",
            "11\n",
            "Welcome to python programming\n"
          ]
        }
      ]
    },
    {
      "cell_type": "code",
      "source": [
        "ord('a')\n"
      ],
      "metadata": {
        "colab": {
          "base_uri": "https://localhost:8080/"
        },
        "id": "eqgaZxHyKH7N",
        "outputId": "639c238f-8227-421a-be3b-59513d72dce3"
      },
      "execution_count": null,
      "outputs": [
        {
          "output_type": "execute_result",
          "data": {
            "text/plain": [
              "97"
            ]
          },
          "metadata": {},
          "execution_count": 55
        }
      ]
    },
    {
      "cell_type": "code",
      "source": [
        "for i in range(0,128):\n",
        "  print(i,' -->', chr(i),end='\\n')"
      ],
      "metadata": {
        "colab": {
          "base_uri": "https://localhost:8080/"
        },
        "collapsed": true,
        "id": "vkYpoA27Kj2u",
        "outputId": "47f46571-600e-4222-9eff-925310733410"
      },
      "execution_count": null,
      "outputs": [
        {
          "output_type": "stream",
          "name": "stdout",
          "text": [
            "0  --> \u0000\n",
            "1  --> \u0001\n",
            "2  --> \u0002\n",
            "3  --> \u0003\n",
            "4  --> \u0004\n",
            "5  --> \u0005\n",
            "6  --> \u0006\n",
            "7  --> \u0007\n",
            "8  --> \b\n",
            "9  --> \t\n",
            "10  --> \n",
            "\n",
            "11  --> \u000b\n",
            "12  --> \f\n",
            "13  --> \r\n",
            "14  --> \u000e\n",
            "15  --> \u000f\n",
            "16  --> \u0010\n",
            "17  --> \u0011\n",
            "18  --> \u0012\n",
            "19  --> \u0013\n",
            "20  --> \u0014\n",
            "21  --> \u0015\n",
            "22  --> \u0016\n",
            "23  --> \u0017\n",
            "24  --> \u0018\n",
            "25  --> \u0019\n",
            "26  --> \u001a\n",
            "27  --> \u001b\n",
            "28  --> \u001c\n",
            "29  --> \u001d\n",
            "30  --> \u001e\n",
            "31  --> \u001f\n",
            "32  -->  \n",
            "33  --> !\n",
            "34  --> \"\n",
            "35  --> #\n",
            "36  --> $\n",
            "37  --> %\n",
            "38  --> &\n",
            "39  --> '\n",
            "40  --> (\n",
            "41  --> )\n",
            "42  --> *\n",
            "43  --> +\n",
            "44  --> ,\n",
            "45  --> -\n",
            "46  --> .\n",
            "47  --> /\n",
            "48  --> 0\n",
            "49  --> 1\n",
            "50  --> 2\n",
            "51  --> 3\n",
            "52  --> 4\n",
            "53  --> 5\n",
            "54  --> 6\n",
            "55  --> 7\n",
            "56  --> 8\n",
            "57  --> 9\n",
            "58  --> :\n",
            "59  --> ;\n",
            "60  --> <\n",
            "61  --> =\n",
            "62  --> >\n",
            "63  --> ?\n",
            "64  --> @\n",
            "65  --> A\n",
            "66  --> B\n",
            "67  --> C\n",
            "68  --> D\n",
            "69  --> E\n",
            "70  --> F\n",
            "71  --> G\n",
            "72  --> H\n",
            "73  --> I\n",
            "74  --> J\n",
            "75  --> K\n",
            "76  --> L\n",
            "77  --> M\n",
            "78  --> N\n",
            "79  --> O\n",
            "80  --> P\n",
            "81  --> Q\n",
            "82  --> R\n",
            "83  --> S\n",
            "84  --> T\n",
            "85  --> U\n",
            "86  --> V\n",
            "87  --> W\n",
            "88  --> X\n",
            "89  --> Y\n",
            "90  --> Z\n",
            "91  --> [\n",
            "92  --> \\\n",
            "93  --> ]\n",
            "94  --> ^\n",
            "95  --> _\n",
            "96  --> `\n",
            "97  --> a\n",
            "98  --> b\n",
            "99  --> c\n",
            "100  --> d\n",
            "101  --> e\n",
            "102  --> f\n",
            "103  --> g\n",
            "104  --> h\n",
            "105  --> i\n",
            "106  --> j\n",
            "107  --> k\n",
            "108  --> l\n",
            "109  --> m\n",
            "110  --> n\n",
            "111  --> o\n",
            "112  --> p\n",
            "113  --> q\n",
            "114  --> r\n",
            "115  --> s\n",
            "116  --> t\n",
            "117  --> u\n",
            "118  --> v\n",
            "119  --> w\n",
            "120  --> x\n",
            "121  --> y\n",
            "122  --> z\n",
            "123  --> {\n",
            "124  --> |\n",
            "125  --> }\n",
            "126  --> ~\n",
            "127  --> \n"
          ]
        }
      ]
    },
    {
      "cell_type": "code",
      "source": [
        "name =\"Jasper\"\n",
        "for i in name:\n",
        "  print( ord(i) )"
      ],
      "metadata": {
        "colab": {
          "base_uri": "https://localhost:8080/"
        },
        "id": "uxGp-tqOL00K",
        "outputId": "40158604-6ab4-4e18-9c66-1d72a9ef35d1"
      },
      "execution_count": null,
      "outputs": [
        {
          "output_type": "stream",
          "name": "stdout",
          "text": [
            "74\n",
            "97\n",
            "115\n",
            "112\n",
            "101\n",
            "114\n"
          ]
        }
      ]
    },
    {
      "cell_type": "code",
      "source": [
        "def remove_last_n_chars(string, n):\n",
        "    return string[:-n]\n",
        "\n",
        "print(remove_last_n_chars(\"Programming\", 3))  # Output: Programmi\n"
      ],
      "metadata": {
        "colab": {
          "base_uri": "https://localhost:8080/"
        },
        "id": "wvTw_MQ8pWKG",
        "outputId": "4371b278-c05c-4628-deb4-b3601c230a1f"
      },
      "execution_count": null,
      "outputs": [
        {
          "output_type": "stream",
          "name": "stdout",
          "text": [
            "Programm\n"
          ]
        }
      ]
    },
    {
      "cell_type": "markdown",
      "source": [
        "# **DAY 4 - Lists & Tuples**"
      ],
      "metadata": {
        "id": "utXkTVytEoMZ"
      }
    },
    {
      "cell_type": "markdown",
      "source": [
        "**List:** combination of comma seperated different elements or items, enclosed in square brackets, it is zero-indexed"
      ],
      "metadata": {
        "id": "ktF1XVPkFwHV"
      }
    },
    {
      "cell_type": "code",
      "source": [
        "lst=[23,43,\"jasper\",34.23,True]\n",
        "print(lst)\n",
        "print(type(lst))"
      ],
      "metadata": {
        "colab": {
          "base_uri": "https://localhost:8080/"
        },
        "id": "tT6h_vzQHPkd",
        "outputId": "e9d8630a-1239-4e09-8875-228fbd2ca507"
      },
      "execution_count": null,
      "outputs": [
        {
          "output_type": "stream",
          "name": "stdout",
          "text": [
            "[23, 43, 'jasper', 34.23, True]\n",
            "<class 'list'>\n"
          ]
        }
      ]
    },
    {
      "cell_type": "code",
      "source": [
        "lst1 = [10,20,30 ]\n",
        "lst2 = [40,50,60 ]\n",
        "lst3 = lst1+lst2 #concatenation\n",
        "print(lst3)\n",
        "print(lst1*3) #repetition"
      ],
      "metadata": {
        "colab": {
          "base_uri": "https://localhost:8080/"
        },
        "id": "WfYHZMCDFD1P",
        "outputId": "1273d1d3-f8bc-4828-c76f-a49d4558c8e6"
      },
      "execution_count": null,
      "outputs": [
        {
          "output_type": "stream",
          "name": "stdout",
          "text": [
            "[10, 20, 30, 40, 50, 60]\n",
            "[10, 20, 30, 10, 20, 30, 10, 20, 30]\n"
          ]
        }
      ]
    },
    {
      "cell_type": "markdown",
      "source": [
        "Accessing values by using slice operations: same as string concept"
      ],
      "metadata": {
        "id": "OYimRMsGHnAQ"
      }
    },
    {
      "cell_type": "markdown",
      "source": [
        "Built-in *Functions*\n",
        "\n",
        "\n",
        "1.   len\n",
        "2.   max\n",
        "3. min\n",
        "4. sum\n",
        "5. any: if any elt is True: returns True\n",
        "6. all: if all elts are true: returns True\n",
        "7. sorted: returns sorted list, list remains unchanged\n",
        "8. reversed: used for reversing the list. it gives result\n",
        "\n"
      ],
      "metadata": {
        "id": "YIk1msQjIVDz"
      }
    },
    {
      "cell_type": "code",
      "source": [
        "print(len(lst))\n",
        "print(min(lst1))\n",
        "print(max(lst2))\n",
        "print(sum(lst2))\n",
        "print(any(lst1))\n",
        "print(sorted(lst1))\n",
        "print(reversed(lst1))\n",
        "print(list(reversed(lst1)))\n",
        "print(all(lst1))"
      ],
      "metadata": {
        "colab": {
          "base_uri": "https://localhost:8080/"
        },
        "id": "Nl9TEQ28Ht2P",
        "outputId": "2abc3537-a5bb-4356-ae2b-ac50a627dcc2"
      },
      "execution_count": null,
      "outputs": [
        {
          "output_type": "stream",
          "name": "stdout",
          "text": [
            "5\n",
            "10\n",
            "60\n",
            "150\n",
            "True\n",
            "[10, 20, 30]\n",
            "<list_reverseiterator object at 0x7f515de05120>\n",
            "[30, 20, 10]\n",
            "True\n"
          ]
        }
      ]
    },
    {
      "cell_type": "markdown",
      "source": [
        "**Methods**\n",
        "1. append(): add an element to end of the list\n",
        "modifies the original list and does nt return a new list\n",
        "2. count(): counts the number of occurences of an element in a list, if elt is not present it prints 0\n",
        "3. index() : find the index of an elt, if elt is not present it throws ValueError\n",
        "4. insert(): insert an elt at a specified position within a list, take two parameter: first parameter: index, second parameter: elt\n",
        "5. pop(): remove and return elt from a specified index in a list\n",
        "6. sort(): sorts in ascending order\n",
        "7. extend(): add the elements of an iterable such as a list, tuple, or another iterable to the end of an existing list.\n",
        "8. remove(): removes the specified elt not based on index like in pop . if not present throws value error\n",
        "9. reverse(): reverse the order of elements in a list. it changes permanently\n",
        "10. copy():\n",
        "11. clear(): removes all elts and makes list empty. doesn't return anything\n",
        "\n",
        "\n",
        "---\n",
        "\n",
        " dir(list)\n",
        " help(k.append)"
      ],
      "metadata": {
        "id": "X9g7dnS5JgPC"
      }
    },
    {
      "cell_type": "code",
      "source": [
        "k= [10,20,30,10,23,20,30,10 ]\n",
        "print(k.count(10))\n",
        "print(k.index(30))\n",
        "print(k.index(30,2)) #includes 2\n",
        "#print(k.index(30,1,2)) #2 is excluded throws error\n",
        "print(k.index(30,2,6))\n",
        "k.insert(2,'J')\n",
        "print(k)\n",
        "k.insert(9,'A')\n",
        "print(k)\n",
        "k.insert(21,'S') #inserts at 10 at end\n",
        "print(k)\n",
        "k.insert(-2,'P')\n",
        "print(k)\n",
        "k.insert(-21,'E') #insert in at beginning\n",
        "print(k)\n",
        "k.pop() #returns deleted value\n",
        "#print(k)\n",
        "k.pop(3)\n",
        "print(k)\n",
        "#k.pop(33) #throws error"
      ],
      "metadata": {
        "colab": {
          "base_uri": "https://localhost:8080/"
        },
        "id": "tmxlUUAVJ0ND",
        "outputId": "426f41f1-87ea-4f78-cc6a-c4709051ccf3"
      },
      "execution_count": null,
      "outputs": [
        {
          "output_type": "stream",
          "name": "stdout",
          "text": [
            "3\n",
            "2\n",
            "2\n",
            "2\n",
            "[10, 20, 'J', 30, 10, 23, 20, 30, 10]\n",
            "[10, 20, 'J', 30, 10, 23, 20, 30, 10, 'A']\n",
            "[10, 20, 'J', 30, 10, 23, 20, 30, 10, 'A', 'S']\n",
            "[10, 20, 'J', 30, 10, 23, 20, 30, 10, 'P', 'A', 'S']\n",
            "['E', 10, 20, 'J', 30, 10, 23, 20, 30, 10, 'P', 'A', 'S']\n",
            "['E', 10, 20, 30, 10, 23, 20, 30, 10, 'P', 'A']\n"
          ]
        }
      ]
    },
    {
      "cell_type": "code",
      "source": [
        "J= [44,22,11,55,33]\n",
        "print(J)\n",
        "J.sort()\n",
        "print(J)"
      ],
      "metadata": {
        "colab": {
          "base_uri": "https://localhost:8080/"
        },
        "id": "YCKEjKx2Ppy-",
        "outputId": "9c4cdfcf-30f5-4c10-d444-735b38119cd3"
      },
      "execution_count": null,
      "outputs": [
        {
          "output_type": "stream",
          "name": "stdout",
          "text": [
            "[44, 22, 11, 55, 33]\n",
            "[11, 22, 33, 44, 55]\n"
          ]
        }
      ]
    },
    {
      "cell_type": "code",
      "source": [
        "J=[11,22]\n",
        "L=[33,44]\n",
        "J.extend(L)\n",
        "print(J)\n",
        "print(L)"
      ],
      "metadata": {
        "colab": {
          "base_uri": "https://localhost:8080/"
        },
        "id": "4IKlDmmfRE-6",
        "outputId": "b48ecbfc-a57e-4987-f1df-0119e541a293"
      },
      "execution_count": null,
      "outputs": [
        {
          "output_type": "stream",
          "name": "stdout",
          "text": [
            "[11, 22, 33, 44]\n",
            "[33, 44]\n"
          ]
        }
      ]
    },
    {
      "cell_type": "code",
      "source": [
        "print(k)\n",
        "k.remove(30)\n",
        "print(k)\n",
        "#k.remove(30) #throws error"
      ],
      "metadata": {
        "colab": {
          "base_uri": "https://localhost:8080/"
        },
        "id": "HlrD9Cp_R2xF",
        "outputId": "97a6cb05-1f2d-4366-92d9-5513ef0e08a4"
      },
      "execution_count": null,
      "outputs": [
        {
          "output_type": "stream",
          "name": "stdout",
          "text": [
            "['E', 10, 20, 10, 23, 20, 30, 10, 'P', 'A']\n",
            "['E', 10, 20, 10, 23, 20, 10, 'P', 'A']\n"
          ]
        }
      ]
    },
    {
      "cell_type": "code",
      "source": [
        "print(k)\n",
        "k.reverse()\n",
        "print(k)"
      ],
      "metadata": {
        "colab": {
          "base_uri": "https://localhost:8080/"
        },
        "id": "x96lks2LSLmH",
        "outputId": "4a9026d7-15dc-46c5-fb4c-67cbf46ab530"
      },
      "execution_count": null,
      "outputs": [
        {
          "output_type": "stream",
          "name": "stdout",
          "text": [
            "['E', 10, 20, 10, 23, 20, 10, 'P', 'A']\n",
            "['A', 'P', 10, 20, 23, 10, 20, 10, 'E']\n"
          ]
        }
      ]
    },
    {
      "cell_type": "code",
      "source": [
        "dir(list)"
      ],
      "metadata": {
        "colab": {
          "base_uri": "https://localhost:8080/"
        },
        "id": "qDYxLcQ6UlLE",
        "outputId": "ecf287be-5adb-45e3-9837-f48597674238"
      },
      "execution_count": null,
      "outputs": [
        {
          "output_type": "execute_result",
          "data": {
            "text/plain": [
              "['__add__',\n",
              " '__class__',\n",
              " '__class_getitem__',\n",
              " '__contains__',\n",
              " '__delattr__',\n",
              " '__delitem__',\n",
              " '__dir__',\n",
              " '__doc__',\n",
              " '__eq__',\n",
              " '__format__',\n",
              " '__ge__',\n",
              " '__getattribute__',\n",
              " '__getitem__',\n",
              " '__gt__',\n",
              " '__hash__',\n",
              " '__iadd__',\n",
              " '__imul__',\n",
              " '__init__',\n",
              " '__init_subclass__',\n",
              " '__iter__',\n",
              " '__le__',\n",
              " '__len__',\n",
              " '__lt__',\n",
              " '__mul__',\n",
              " '__ne__',\n",
              " '__new__',\n",
              " '__reduce__',\n",
              " '__reduce_ex__',\n",
              " '__repr__',\n",
              " '__reversed__',\n",
              " '__rmul__',\n",
              " '__setattr__',\n",
              " '__setitem__',\n",
              " '__sizeof__',\n",
              " '__str__',\n",
              " '__subclasshook__',\n",
              " 'append',\n",
              " 'clear',\n",
              " 'copy',\n",
              " 'count',\n",
              " 'extend',\n",
              " 'index',\n",
              " 'insert',\n",
              " 'pop',\n",
              " 'remove',\n",
              " 'reverse',\n",
              " 'sort']"
            ]
          },
          "metadata": {},
          "execution_count": 52
        }
      ]
    },
    {
      "cell_type": "code",
      "source": [
        "dir(tuple)"
      ],
      "metadata": {
        "colab": {
          "base_uri": "https://localhost:8080/"
        },
        "id": "YYNG_bFuUrQH",
        "outputId": "589a016d-75fa-4fee-ba17-b61f7193b725"
      },
      "execution_count": null,
      "outputs": [
        {
          "output_type": "execute_result",
          "data": {
            "text/plain": [
              "['__add__',\n",
              " '__class__',\n",
              " '__class_getitem__',\n",
              " '__contains__',\n",
              " '__delattr__',\n",
              " '__dir__',\n",
              " '__doc__',\n",
              " '__eq__',\n",
              " '__format__',\n",
              " '__ge__',\n",
              " '__getattribute__',\n",
              " '__getitem__',\n",
              " '__getnewargs__',\n",
              " '__gt__',\n",
              " '__hash__',\n",
              " '__init__',\n",
              " '__init_subclass__',\n",
              " '__iter__',\n",
              " '__le__',\n",
              " '__len__',\n",
              " '__lt__',\n",
              " '__mul__',\n",
              " '__ne__',\n",
              " '__new__',\n",
              " '__reduce__',\n",
              " '__reduce_ex__',\n",
              " '__repr__',\n",
              " '__rmul__',\n",
              " '__setattr__',\n",
              " '__sizeof__',\n",
              " '__str__',\n",
              " '__subclasshook__',\n",
              " 'count',\n",
              " 'index']"
            ]
          },
          "metadata": {},
          "execution_count": 53
        }
      ]
    },
    {
      "cell_type": "code",
      "source": [
        "dir(dict)"
      ],
      "metadata": {
        "colab": {
          "base_uri": "https://localhost:8080/"
        },
        "id": "J271oKesUu7J",
        "outputId": "f7c69878-530a-4784-9a4c-2a510493e66b"
      },
      "execution_count": null,
      "outputs": [
        {
          "output_type": "execute_result",
          "data": {
            "text/plain": [
              "['__class__',\n",
              " '__class_getitem__',\n",
              " '__contains__',\n",
              " '__delattr__',\n",
              " '__delitem__',\n",
              " '__dir__',\n",
              " '__doc__',\n",
              " '__eq__',\n",
              " '__format__',\n",
              " '__ge__',\n",
              " '__getattribute__',\n",
              " '__getitem__',\n",
              " '__gt__',\n",
              " '__hash__',\n",
              " '__init__',\n",
              " '__init_subclass__',\n",
              " '__ior__',\n",
              " '__iter__',\n",
              " '__le__',\n",
              " '__len__',\n",
              " '__lt__',\n",
              " '__ne__',\n",
              " '__new__',\n",
              " '__or__',\n",
              " '__reduce__',\n",
              " '__reduce_ex__',\n",
              " '__repr__',\n",
              " '__reversed__',\n",
              " '__ror__',\n",
              " '__setattr__',\n",
              " '__setitem__',\n",
              " '__sizeof__',\n",
              " '__str__',\n",
              " '__subclasshook__',\n",
              " 'clear',\n",
              " 'copy',\n",
              " 'fromkeys',\n",
              " 'get',\n",
              " 'items',\n",
              " 'keys',\n",
              " 'pop',\n",
              " 'popitem',\n",
              " 'setdefault',\n",
              " 'update',\n",
              " 'values']"
            ]
          },
          "metadata": {},
          "execution_count": 54
        }
      ]
    },
    {
      "cell_type": "code",
      "source": [
        "help(k.clear)"
      ],
      "metadata": {
        "colab": {
          "base_uri": "https://localhost:8080/"
        },
        "id": "UIc5qEvDVH9S",
        "outputId": "cb66b02b-5558-48de-b808-f72ceab48aa1"
      },
      "execution_count": null,
      "outputs": [
        {
          "output_type": "stream",
          "name": "stdout",
          "text": [
            "Help on built-in function clear:\n",
            "\n",
            "clear() method of builtins.list instance\n",
            "    Remove all items from list.\n",
            "\n"
          ]
        }
      ]
    },
    {
      "cell_type": "code",
      "source": [
        "dir(str)"
      ],
      "metadata": {
        "colab": {
          "base_uri": "https://localhost:8080/"
        },
        "id": "EENTxL_FVZ5m",
        "outputId": "6584e16b-5e9c-4092-a543-541b38733118"
      },
      "execution_count": null,
      "outputs": [
        {
          "output_type": "execute_result",
          "data": {
            "text/plain": [
              "['__add__',\n",
              " '__class__',\n",
              " '__contains__',\n",
              " '__delattr__',\n",
              " '__dir__',\n",
              " '__doc__',\n",
              " '__eq__',\n",
              " '__format__',\n",
              " '__ge__',\n",
              " '__getattribute__',\n",
              " '__getitem__',\n",
              " '__getnewargs__',\n",
              " '__gt__',\n",
              " '__hash__',\n",
              " '__init__',\n",
              " '__init_subclass__',\n",
              " '__iter__',\n",
              " '__le__',\n",
              " '__len__',\n",
              " '__lt__',\n",
              " '__mod__',\n",
              " '__mul__',\n",
              " '__ne__',\n",
              " '__new__',\n",
              " '__reduce__',\n",
              " '__reduce_ex__',\n",
              " '__repr__',\n",
              " '__rmod__',\n",
              " '__rmul__',\n",
              " '__setattr__',\n",
              " '__sizeof__',\n",
              " '__str__',\n",
              " '__subclasshook__',\n",
              " 'capitalize',\n",
              " 'casefold',\n",
              " 'center',\n",
              " 'count',\n",
              " 'encode',\n",
              " 'endswith',\n",
              " 'expandtabs',\n",
              " 'find',\n",
              " 'format',\n",
              " 'format_map',\n",
              " 'index',\n",
              " 'isalnum',\n",
              " 'isalpha',\n",
              " 'isascii',\n",
              " 'isdecimal',\n",
              " 'isdigit',\n",
              " 'isidentifier',\n",
              " 'islower',\n",
              " 'isnumeric',\n",
              " 'isprintable',\n",
              " 'isspace',\n",
              " 'istitle',\n",
              " 'isupper',\n",
              " 'join',\n",
              " 'ljust',\n",
              " 'lower',\n",
              " 'lstrip',\n",
              " 'maketrans',\n",
              " 'partition',\n",
              " 'removeprefix',\n",
              " 'removesuffix',\n",
              " 'replace',\n",
              " 'rfind',\n",
              " 'rindex',\n",
              " 'rjust',\n",
              " 'rpartition',\n",
              " 'rsplit',\n",
              " 'rstrip',\n",
              " 'split',\n",
              " 'splitlines',\n",
              " 'startswith',\n",
              " 'strip',\n",
              " 'swapcase',\n",
              " 'title',\n",
              " 'translate',\n",
              " 'upper',\n",
              " 'zfill']"
            ]
          },
          "metadata": {},
          "execution_count": 56
        }
      ]
    },
    {
      "cell_type": "markdown",
      "source": [
        "Cloning Lists: cloning allows you to work with a copy of the data without affecting the original list.\n",
        "slice operation is used to clone a list."
      ],
      "metadata": {
        "id": "9r6BYMpTVruZ"
      }
    },
    {
      "cell_type": "code",
      "source": [
        "k=[ 11,22,33,44,55]\n",
        "v= k[:]\n",
        "id(k)\n",
        "id(v)\n",
        "k.pop()\n",
        "print(v)\n",
        "print(k)"
      ],
      "metadata": {
        "colab": {
          "base_uri": "https://localhost:8080/"
        },
        "id": "YK1VFAzpXHZY",
        "outputId": "c4a544d7-7397-4110-f336-724758f116fa"
      },
      "execution_count": null,
      "outputs": [
        {
          "output_type": "stream",
          "name": "stdout",
          "text": [
            "[11, 22, 33, 44, 55]\n",
            "[11, 22, 33, 44]\n"
          ]
        }
      ]
    },
    {
      "cell_type": "markdown",
      "source": [
        "Looping in lists"
      ],
      "metadata": {
        "id": "ibhVXsYNXiif"
      }
    },
    {
      "cell_type": "code",
      "source": [
        "lst=[11,22,33,44,55]\n",
        "for i in lst:\n",
        "  print(i,end=' ')\n",
        "print()\n",
        "ind =0\n",
        "while ind<len(lst):\n",
        "  print(lst[ind],end=' ')\n",
        "  ind=ind+1\n"
      ],
      "metadata": {
        "colab": {
          "base_uri": "https://localhost:8080/"
        },
        "id": "SIS6f7irXmKJ",
        "outputId": "9bdcdbb6-2f42-41ce-92c9-e100fe5b4552"
      },
      "execution_count": null,
      "outputs": [
        {
          "output_type": "stream",
          "name": "stdout",
          "text": [
            "11 22 33 44 55 \n",
            "11 22 33 44 55 "
          ]
        }
      ]
    },
    {
      "cell_type": "markdown",
      "source": [
        "**Using the enumerate and range functions**"
      ],
      "metadata": {
        "id": "sXl4mqChXpZG"
      }
    },
    {
      "cell_type": "code",
      "source": [
        "lst=[11,22,33,44,55]\n",
        "for i,j in enumerate(lst):\n",
        "  print(i,j)"
      ],
      "metadata": {
        "colab": {
          "base_uri": "https://localhost:8080/"
        },
        "id": "Lkh12222X-if",
        "outputId": "55a3bd2c-4c35-4e39-d10c-612d32250ccf"
      },
      "execution_count": null,
      "outputs": [
        {
          "output_type": "stream",
          "name": "stdout",
          "text": [
            "0 11\n",
            "1 22\n",
            "2 33\n",
            "3 44\n",
            "4 55\n"
          ]
        }
      ]
    },
    {
      "cell_type": "markdown",
      "source": [
        "List Comprehension"
      ],
      "metadata": {
        "id": "Wt7K8AJqcepy"
      }
    },
    {
      "cell_type": "code",
      "source": [
        "lst=[1,2,3,4,5]\n",
        "dbllst=[i**2 for i in lst]\n",
        "print(dbllst)"
      ],
      "metadata": {
        "colab": {
          "base_uri": "https://localhost:8080/"
        },
        "id": "XdTYEDC1cgNM",
        "outputId": "ecf8c497-ce58-4720-89f7-5b9921b3103a"
      },
      "execution_count": null,
      "outputs": [
        {
          "output_type": "stream",
          "name": "stdout",
          "text": [
            "[1, 4, 9, 16, 25]\n"
          ]
        }
      ]
    },
    {
      "cell_type": "code",
      "source": [
        "lst=[-1,2,-3,4,5]\n",
        "pstvlst=[i for i in lst if i>0]\n",
        "print(pstvlst)"
      ],
      "metadata": {
        "colab": {
          "base_uri": "https://localhost:8080/"
        },
        "id": "9NkYahWedeXi",
        "outputId": "09149cfe-ecaf-4844-de37-d95459b147b3"
      },
      "execution_count": null,
      "outputs": [
        {
          "output_type": "stream",
          "name": "stdout",
          "text": [
            "[2, 4, 5]\n"
          ]
        }
      ]
    },
    {
      "cell_type": "code",
      "source": [
        "lst=[-1,2,-3,4,5]\n",
        "oddlst=[i for i in lst if i%2!=0]\n",
        "print(oddlst)"
      ],
      "metadata": {
        "colab": {
          "base_uri": "https://localhost:8080/"
        },
        "id": "nTaS2WlJdyKX",
        "outputId": "0e0994d1-0bfd-4512-b51a-86ef1406324b"
      },
      "execution_count": null,
      "outputs": [
        {
          "output_type": "stream",
          "name": "stdout",
          "text": [
            "[-1, -3, 5]\n"
          ]
        }
      ]
    },
    {
      "cell_type": "markdown",
      "source": [
        "Read values into a list"
      ],
      "metadata": {
        "id": "SJ0qBKZoeThi"
      }
    },
    {
      "cell_type": "code",
      "source": [
        "lst=[ ]\n",
        "noe =int(input(\"Enter number of elements: \"))\n",
        "for i in range(noe):\n",
        "  elt=int(input(\"Enter element: \"))\n",
        "  lst.append(elt)\n",
        "print(lst)"
      ],
      "metadata": {
        "colab": {
          "base_uri": "https://localhost:8080/"
        },
        "id": "su-YSX8IeVoq",
        "outputId": "6469ac31-ea7f-4a21-a674-d118daf54671"
      },
      "execution_count": null,
      "outputs": [
        {
          "output_type": "stream",
          "name": "stdout",
          "text": [
            "Enter number of elements: 5\n",
            "Enter element: 13\n",
            "Enter element: 435\n",
            "Enter element: 23\n",
            "Enter element: 45\n",
            "Enter element: 23\n",
            "[13, 435, 23, 45, 23]\n"
          ]
        }
      ]
    },
    {
      "cell_type": "markdown",
      "source": [
        "using while loop"
      ],
      "metadata": {
        "id": "4gQXQ-nUftyU"
      }
    },
    {
      "cell_type": "code",
      "source": [
        "lst=[ ]\n",
        "ele =int(input(\"Enter element: \"))\n",
        "ind=0\n",
        "while ele!=0:\n",
        "  lst.append(elt)\n",
        "  ele=int(input(\"Enter element: \"))\n",
        "\n",
        "print(lst)"
      ],
      "metadata": {
        "colab": {
          "base_uri": "https://localhost:8080/"
        },
        "id": "LNC5W6lVfwpc",
        "outputId": "03d03d32-87be-4783-8241-e9ff2af63cfe"
      },
      "execution_count": null,
      "outputs": [
        {
          "output_type": "stream",
          "name": "stdout",
          "text": [
            "Enter element: 3\n",
            "Enter element: 2\n",
            "Enter element: 2\n",
            "Enter element: 7\n",
            "Enter element: 3\n",
            "Enter element: 0\n",
            "[23, 23, 23, 23, 23]\n"
          ]
        }
      ]
    },
    {
      "cell_type": "markdown",
      "source": [
        "create a program that takes a new list and returns a new list contatining only the unique elements from the original list"
      ],
      "metadata": {
        "id": "vMHYdlLWhBea"
      }
    },
    {
      "cell_type": "code",
      "source": [
        "lst=[10,20,20,30,40,40,50 ]\n",
        "newlst=[ ]\n",
        "for i in lst :\n",
        "  if i not in newlst:\n",
        "    newlst.append(i)\n",
        "print(f\"Original list: {lst}\")\n",
        "print(f\"New list: {newlst}\")"
      ],
      "metadata": {
        "colab": {
          "base_uri": "https://localhost:8080/"
        },
        "id": "rQTPBnkphZhs",
        "outputId": "0f9791ad-edd6-41c3-e1a5-4aabd1891976"
      },
      "execution_count": null,
      "outputs": [
        {
          "output_type": "stream",
          "name": "stdout",
          "text": [
            "Original list: [10, 20, 20, 30, 40, 40, 50]\n",
            "New list: [10, 20, 30, 40, 50]\n"
          ]
        }
      ]
    },
    {
      "cell_type": "markdown",
      "source": [
        "create a program that takes a list and returns two new lists, first list containing positive numbers. second list containing negative numbers."
      ],
      "metadata": {
        "id": "2o-uDsvqj2aU"
      }
    },
    {
      "cell_type": "code",
      "source": [
        "lst=[-10,20,-20,30,-40,40,-50 ]\n",
        "pstvlst =[ ]\n",
        "ngtvlst=[ ]\n",
        "for i in lst:\n",
        "  if i>0:\n",
        "    pstvlst.append(i)\n",
        "  elif i<0:\n",
        "    ngtvlst.append(i)\n",
        "print(f\"Original list: {lst}\")\n",
        "print(f\"Positive list: {pstvlst}\")\n",
        "print(f\"Negative list: {ngtvlst}\")\n",
        "print(len(lst))\n",
        "print(len(pstvlst))\n",
        "print(len(ngtvlst))"
      ],
      "metadata": {
        "colab": {
          "base_uri": "https://localhost:8080/"
        },
        "id": "ixlmI3R2j5sQ",
        "outputId": "420c99dd-dff5-4eb4-d986-8533ecca7f26"
      },
      "execution_count": null,
      "outputs": [
        {
          "output_type": "stream",
          "name": "stdout",
          "text": [
            "Original list: [-10, 20, -20, 30, -40, 40, -50]\n",
            "Positive list: [20, 30, 40]\n",
            "Negative list: [-10, -20, -40, -50]\n",
            "7\n",
            "3\n",
            "4\n"
          ]
        }
      ]
    },
    {
      "cell_type": "code",
      "source": [
        "alst=['a','b','c','d','e','f','g','h','i','j' ]\n",
        "nmbr=int(input( ))\n",
        "\n",
        "bc=' '\n",
        "while nmbr>0:\n",
        "  dgt=nmbr%10\n",
        "  bc= alst[dgt] + bc\n",
        "  nmbr=nmbr//10\n",
        "\n",
        "print(bc)\n"
      ],
      "metadata": {
        "colab": {
          "base_uri": "https://localhost:8080/"
        },
        "id": "_knK9UVKmlaB",
        "outputId": "7b22267f-dc75-4e55-897e-78e47d7a92b1"
      },
      "execution_count": null,
      "outputs": [
        {
          "output_type": "stream",
          "name": "stdout",
          "text": [
            "1039\n",
            "badj \n"
          ]
        }
      ]
    },
    {
      "cell_type": "code",
      "source": [
        "nmlst=[]\n",
        "acnlst=[]\n",
        "trnslst=[]\n",
        "ch='y'\n",
        "while ch=='y':\n",
        "    nm=input(\"Enter name: \")\n",
        "    nmlst.append(nm)\n",
        "    while True:\n",
        "        acno=int(input(\"Enter acno: \"))\n",
        "        cacno=int(input(\"Confirm acno:\"))\n",
        "        if acno==cacno:\n",
        "            break\n",
        "        else:\n",
        "            print(\"Invalid acno,try again\")\n",
        "    acnlst.append(acno)\n",
        "    tl=int(input(\"Enter tl: \"))\n",
        "    trnslst.append(tl)\n",
        "    ch=input(\"Do u want to continue? press y/n:\")\n",
        "    if ch=='y':\n",
        "        continue\n",
        "    break\n",
        "\n",
        "print(\"Name\\tA\\C No\\tTransferLimit\")\n",
        "print('-'*30)\n",
        "for i in range(len(nmlst)):\n",
        "    print(nmlst[i],\"\\t\",acnlst[i],\"\\t\",trnslst[i],\"\\t\")\n",
        "    print()\n"
      ],
      "metadata": {
        "id": "sayN40M5qMZ4",
        "colab": {
          "base_uri": "https://localhost:8080/"
        },
        "outputId": "df27d9f2-3cbe-4a1c-b5ef-1e405276c65b"
      },
      "execution_count": null,
      "outputs": [
        {
          "output_type": "stream",
          "name": "stdout",
          "text": [
            "Enter name: jasper\n",
            "Enter acno: 1234\n",
            "Confirm acno:1234\n",
            "Enter tl: 543\n",
            "Do u want to continue .press y/n:y\n",
            "Enter name: laxmi\n",
            "Enter acno: 345\n",
            "Confirm acno:345\n",
            "Enter tl: 543\n",
            "Do u want to continue .press y/n:n\n",
            "Name\tA\\C No\tTransferLimit\n",
            "------------------------------\n",
            "jasper \t 1234 \t 543 \t\n",
            "\n",
            "laxmi \t 345 \t 543 \t\n",
            "\n"
          ]
        }
      ]
    },
    {
      "cell_type": "markdown",
      "source": [
        "**Tuple**\n",
        "Similar to lists, but differs in two things.\n",
        "1. Sequence of comma-seperated elements between parenthesis\n",
        "2. immutable objects\n",
        "\n",
        "\n",
        "---\n",
        "\n",
        "\n",
        "Syntax:  tuplevar=(val1,val2,val3,..valn)"
      ],
      "metadata": {
        "id": "yBPqPPRrBwXi"
      }
    },
    {
      "cell_type": "code",
      "source": [
        "tpl =(11,22,'K','V',True,False)\n",
        "print(tpl)"
      ],
      "metadata": {
        "colab": {
          "base_uri": "https://localhost:8080/"
        },
        "id": "B6EAf2umCO3g",
        "outputId": "0d63e1b8-1a66-4933-cdca-633ab013f800"
      },
      "execution_count": null,
      "outputs": [
        {
          "output_type": "stream",
          "name": "stdout",
          "text": [
            "(11, 22, 'K', 'V', True, False)\n"
          ]
        }
      ]
    },
    {
      "cell_type": "markdown",
      "source": [
        "Accessing in tuple: name of a tuple, indices, slice operation"
      ],
      "metadata": {
        "id": "7HUtAMF1D5b5"
      }
    },
    {
      "cell_type": "markdown",
      "source": [
        "Looping in a tuple:"
      ],
      "metadata": {
        "id": "qeAug43hED4C"
      }
    },
    {
      "cell_type": "code",
      "source": [
        "tpl=(11,22,33,44,55)\n",
        "for i in tpl:\n",
        "  print(i,end=' ')\n",
        "print()\n",
        "ind=0\n",
        "while ind<len(tpl):\n",
        "  print(tpl[ind],end=' ')\n",
        "  ind=ind+1\n",
        "print()\n",
        "for i in range(len(tpl)):\n",
        "  print(tpl[i],end=' ')"
      ],
      "metadata": {
        "colab": {
          "base_uri": "https://localhost:8080/"
        },
        "id": "50IPLL-VEG5q",
        "outputId": "da22fc14-1f05-4fca-df2a-23b1c5dca2cf"
      },
      "execution_count": null,
      "outputs": [
        {
          "output_type": "stream",
          "name": "stdout",
          "text": [
            "11 22 33 44 55 \n",
            "11 22 33 44 55 \n",
            "11 22 33 44 55 "
          ]
        }
      ]
    },
    {
      "cell_type": "markdown",
      "source": [
        "Tuple operations:\n",
        "1. immutable\n",
        "2. cant modify or delete individual elements\n",
        "3. can use 'del' to delete entire tuple\n",
        "4. tuple can have lists as its elements to make it mutable\n",
        "5. nested tuples"
      ],
      "metadata": {
        "id": "crJfT0APE4PQ"
      }
    },
    {
      "cell_type": "markdown",
      "source": [
        "Tuple Assignment:\n",
        "1. tuple to tuple: (x, y)=(10,20\n",
        "2."
      ],
      "metadata": {
        "id": "RncuvIBJHpt9"
      }
    },
    {
      "cell_type": "markdown",
      "source": [
        "Unpack a tuple:\n",
        "1. use * operator, for unpacking elts of a tuple into a individual elts"
      ],
      "metadata": {
        "id": "1nJUW10sIJ7F"
      }
    },
    {
      "cell_type": "code",
      "source": [
        "k=(11,22,33,44 )\n",
        "print(k)\n",
        "s=(1,2,k,3,4)\n",
        "print(s)\n",
        "s=(1,2,*k,3,4)\n",
        "print(s)"
      ],
      "metadata": {
        "colab": {
          "base_uri": "https://localhost:8080/"
        },
        "id": "ihWLkyo-Ip6J",
        "outputId": "e654326a-fa67-46cf-f50f-e5911dc39827"
      },
      "execution_count": null,
      "outputs": [
        {
          "output_type": "stream",
          "name": "stdout",
          "text": [
            "(11, 22, 33, 44)\n",
            "(1, 2, (11, 22, 33, 44), 3, 4)\n",
            "(1, 2, 11, 22, 33, 44, 3, 4)\n"
          ]
        }
      ]
    },
    {
      "cell_type": "code",
      "source": [
        "t=(22,5)\n",
        "#d,m=divmod(t) #throws error\n",
        "d,m=divmod(*t)\n",
        "print(d);print(m)"
      ],
      "metadata": {
        "colab": {
          "base_uri": "https://localhost:8080/"
        },
        "id": "TtVexegmJBal",
        "outputId": "a67f708d-8783-4cdc-abbe-37ea6fd1bc36"
      },
      "execution_count": null,
      "outputs": [
        {
          "output_type": "stream",
          "name": "stdout",
          "text": [
            "4\n",
            "2\n"
          ]
        }
      ]
    },
    {
      "cell_type": "markdown",
      "source": [
        "Packing into a tuple:\n",
        "packing refers to the process of collecting multiple values into a single tuple."
      ],
      "metadata": {
        "id": "yQG_-qMGJt7C"
      }
    },
    {
      "cell_type": "code",
      "source": [
        "k=11,22,19\n",
        "print(k)\n",
        "#k,v=11,22,19 #throws value error"
      ],
      "metadata": {
        "colab": {
          "base_uri": "https://localhost:8080/"
        },
        "id": "tSPsDOr9KPs0",
        "outputId": "1664ea0a-5188-4fa8-ffed-0b789bc7d61c"
      },
      "execution_count": null,
      "outputs": [
        {
          "output_type": "stream",
          "name": "stdout",
          "text": [
            "(11, 22, 19)\n"
          ]
        }
      ]
    },
    {
      "cell_type": "code",
      "source": [
        "*k,v=11,22,19\n",
        "print(k)\n",
        "print(v)"
      ],
      "metadata": {
        "colab": {
          "base_uri": "https://localhost:8080/"
        },
        "id": "bqI1uXwjKbZs",
        "outputId": "1c9fb0ce-ec21-485d-dacf-6ab667f0d762"
      },
      "execution_count": null,
      "outputs": [
        {
          "output_type": "stream",
          "name": "stdout",
          "text": [
            "[11, 22]\n",
            "19\n"
          ]
        }
      ]
    },
    {
      "cell_type": "code",
      "source": [
        "k,*v=11,22,19\n",
        "print(k)\n",
        "print(v)"
      ],
      "metadata": {
        "colab": {
          "base_uri": "https://localhost:8080/"
        },
        "id": "2ULQS3DFKnBS",
        "outputId": "fe19981d-226e-4657-bc81-b6f424227d13"
      },
      "execution_count": null,
      "outputs": [
        {
          "output_type": "stream",
          "name": "stdout",
          "text": [
            "11\n",
            "[22, 19]\n"
          ]
        }
      ]
    },
    {
      "cell_type": "code",
      "source": [
        "*f,s,t=(11,22,33,44,55)\n",
        "print(f)\n",
        "print(s)\n",
        "print(t)\n",
        "print(f,s,t)"
      ],
      "metadata": {
        "colab": {
          "base_uri": "https://localhost:8080/"
        },
        "id": "6EyOuXRDLDXr",
        "outputId": "5a1aed73-c6d5-4d3d-bcf0-ebb7424b113a"
      },
      "execution_count": null,
      "outputs": [
        {
          "output_type": "stream",
          "name": "stdout",
          "text": [
            "[11, 22, 33]\n",
            "44\n",
            "55\n",
            "[11, 22, 33] 44 55\n"
          ]
        }
      ]
    },
    {
      "cell_type": "markdown",
      "source": [
        "Disposable variable _: used to ignore"
      ],
      "metadata": {
        "id": "VhUOvFmIL9z7"
      }
    },
    {
      "cell_type": "code",
      "source": [
        "f,*_,l=(11,22,33,44,55)\n",
        "print(f );print(l);print(_)"
      ],
      "metadata": {
        "colab": {
          "base_uri": "https://localhost:8080/"
        },
        "id": "YyHnEPsVMJuK",
        "outputId": "9a671482-733f-47cb-b6be-1435be3d48ac"
      },
      "execution_count": null,
      "outputs": [
        {
          "output_type": "stream",
          "name": "stdout",
          "text": [
            "11\n",
            "55\n",
            "[22, 33, 44]\n"
          ]
        }
      ]
    },
    {
      "cell_type": "markdown",
      "source": [
        "Built-in functions on tuples: same as lists"
      ],
      "metadata": {
        "id": "1WvK9hFWMKSh"
      }
    },
    {
      "cell_type": "markdown",
      "source": [
        "Attributes and methods of Tuple"
      ],
      "metadata": {
        "id": "MosVOuKcMSAg"
      }
    },
    {
      "cell_type": "code",
      "source": [
        "dir(tuple)"
      ],
      "metadata": {
        "colab": {
          "base_uri": "https://localhost:8080/"
        },
        "id": "Izf492mAMWJp",
        "outputId": "230b00ce-620c-4547-a67b-51c565b58c1f",
        "collapsed": true
      },
      "execution_count": null,
      "outputs": [
        {
          "output_type": "execute_result",
          "data": {
            "text/plain": [
              "['__add__',\n",
              " '__class__',\n",
              " '__class_getitem__',\n",
              " '__contains__',\n",
              " '__delattr__',\n",
              " '__dir__',\n",
              " '__doc__',\n",
              " '__eq__',\n",
              " '__format__',\n",
              " '__ge__',\n",
              " '__getattribute__',\n",
              " '__getitem__',\n",
              " '__getnewargs__',\n",
              " '__gt__',\n",
              " '__hash__',\n",
              " '__init__',\n",
              " '__init_subclass__',\n",
              " '__iter__',\n",
              " '__le__',\n",
              " '__len__',\n",
              " '__lt__',\n",
              " '__mul__',\n",
              " '__ne__',\n",
              " '__new__',\n",
              " '__reduce__',\n",
              " '__reduce_ex__',\n",
              " '__repr__',\n",
              " '__rmul__',\n",
              " '__setattr__',\n",
              " '__sizeof__',\n",
              " '__str__',\n",
              " '__subclasshook__',\n",
              " 'count',\n",
              " 'index']"
            ]
          },
          "metadata": {},
          "execution_count": 102
        }
      ]
    },
    {
      "cell_type": "markdown",
      "source": [
        "zip() Function:\n",
        "1. The zip() function takes multiple iterables (such as lists, tuples, or any other sequences ) and aggregates them elt-wise into a single iterator.\n",
        "2. It returns an iterator of tuples where the ith tuple cntains the ith elt from eachof input iterables"
      ],
      "metadata": {
        "id": "KHa_kbEXNDNq"
      }
    },
    {
      "cell_type": "code",
      "source": [
        "plyrs=[ \"kohli\",\"rohit\"]\n",
        "jrsys= [18,45 ]\n",
        "tm =list(zip(plyrs,jrsys))\n",
        "print(tuple(tm))\n",
        "print(list(tm))\n"
      ],
      "metadata": {
        "colab": {
          "base_uri": "https://localhost:8080/"
        },
        "id": "hb7nyw80N-iW",
        "outputId": "669e7b8a-19df-4511-959a-9d39786dbe6a"
      },
      "execution_count": null,
      "outputs": [
        {
          "output_type": "stream",
          "name": "stdout",
          "text": [
            "(('kohli', 18), ('rohit', 45))\n",
            "[('kohli', 18), ('rohit', 45)]\n"
          ]
        }
      ]
    },
    {
      "cell_type": "code",
      "source": [
        "nmtpl=( )\n",
        "acntpl= ()\n",
        "trnstpl= ()\n",
        "nmlst = list(nmtpl)\n",
        "acnlst = list(acntpl)\n",
        "trnslst = list(trnstpl)\n",
        "ch='y'\n",
        "while ch=='y':\n",
        "    nm=input(\"Enter name: \")\n",
        "\n",
        "    nmlst.append(nm)\n",
        "    while True:\n",
        "        acno=int(input(\"Enter acno: \"))\n",
        "        cacno=int(input(\"Confirm acno:\"))\n",
        "        if acno==cacno:\n",
        "            break\n",
        "        else:\n",
        "            print(\"Invalid acno,try again\")\n",
        "\n",
        "    acnlst.append(acno)\n",
        "    tl=int(input(\"Enter tl: \"))\n",
        "\n",
        "    trnslst.append(tl)\n",
        "    ch=input(\"Do u want to continue? press y/n:\")\n",
        "    if ch=='y':\n",
        "        continue\n",
        "    break\n",
        "print(trnslst)\n",
        "print(acnlst)\n",
        "print(nmlst)\n",
        "trnstpl=tuple(trnslst)\n",
        "acntpl=tuple(acnlst)\n",
        "nmtpl=tuple(nmlst)\n",
        "print(\"Name\\tA\\C No\\tTransferLimit\")\n",
        "print('-'*30)\n",
        "for i in range(len(nmtpl)):\n",
        "    print(nmtpl[i],\"\\t\",acntpl[i],\"\\t\",trnstpl[i],\"\\t\")\n",
        "    print()"
      ],
      "metadata": {
        "colab": {
          "base_uri": "https://localhost:8080/"
        },
        "id": "UNtOMqVdXg-j",
        "outputId": "41b9b3f4-c1e8-48e4-bcad-780266d3c321"
      },
      "execution_count": null,
      "outputs": [
        {
          "output_type": "stream",
          "name": "stdout",
          "text": [
            "Enter name: jasper\n",
            "Enter acno: 123\n",
            "Confirm acno:123\n",
            "Enter tl: 234\n",
            "Do u want to continue? press y/n:y\n",
            "Enter name: laxmi\n",
            "Enter acno: 234\n",
            "Confirm acno:234\n",
            "Enter tl: 6\n",
            "Do u want to continue? press y/n:n\n",
            "[234, 6]\n",
            "[123, 234]\n",
            "['jasper', 'laxmi']\n",
            "Name\tA\\C No\tTransferLimit\n",
            "------------------------------\n",
            "jasper \t 123 \t 234 \t\n",
            "\n",
            "laxmi \t 234 \t 6 \t\n",
            "\n"
          ]
        }
      ]
    },
    {
      "cell_type": "code",
      "source": [
        "\n",
        "grocery_items = [\n",
        "    (\"Apples\", 3.5), (\"Oranges\", 2.0), (\"Cucumbers\", 1.8),\n",
        "    (\"Eggs (dozen)\", 4.5), (\"Dates\", 5.0)\n",
        "]\n",
        "cart = []\n",
        "\n",
        "while True:\n",
        "    print(\"\\n1. View Items\\n2. Add to Cart\\n3. View Cart\\n4. Generate Bill\\n5. Exit\")\n",
        "    choice = int(input(\"\\nEnter choice: \"))\n",
        "\n",
        "    if choice == 1:\n",
        "        print(\"\\nItem         Price/unit\")\n",
        "        for i, (item, price) in enumerate(grocery_items, 1):\n",
        "            print(str(i) + \". \" + item.ljust(10) + \" ₹\" + str(price).rjust(6))\n",
        "\n",
        "    elif choice == 2:\n",
        "        for i, (item, price) in enumerate(grocery_items, 1):\n",
        "            print(str(i) + \". \" + item.ljust(10) + \" ₹\" + str(price).rjust(6))\n",
        "        choice = int(input(\"\\nEnter item number: \")) - 1\n",
        "        if 0 <= choice < len(grocery_items):\n",
        "            quantity = int(input(\"Enter quantity: \"))\n",
        "            cart.append((grocery_items[choice][0], grocery_items[choice][1], quantity))\n",
        "            print(grocery_items[choice][0] + \" added!\")\n",
        "\n",
        "    elif choice == 3:\n",
        "        if cart:\n",
        "            print(\"\\nItem         Price/unit  Quantity\")\n",
        "            for item, price, quantity in cart:\n",
        "                print(item.ljust(10) + \" ₹\" + str(price).rjust(6) + \" \" + str(quantity).rjust(10))\n",
        "        else:\n",
        "            print(\"\\nCart is empty.\")\n",
        "\n",
        "    elif choice == 4:\n",
        "        if cart:\n",
        "            total = 0\n",
        "            print(\"\\nItem         Price/unit  Quantity    Total\")\n",
        "            for item, price, quantity in cart:\n",
        "                item_total = price * quantity\n",
        "                total += item_total\n",
        "                print(item.ljust(10) + \" ₹\" + str(price).rjust(6) + \" \" + str(quantity).rjust(10) + \" ₹\" + str(item_total).rjust(6))\n",
        "            print(\"\\nTotal Bill: ₹\" + str(total).rjust(6))\n",
        "        else:\n",
        "            print(\"\\nCart is empty.\")\n",
        "\n",
        "    elif choice == 5:\n",
        "        print(\"Thank you for shopping!\")\n",
        "        break\n",
        "    else:\n",
        "        print(\"Invalid choice!\")\n"
      ],
      "metadata": {
        "colab": {
          "base_uri": "https://localhost:8080/"
        },
        "id": "85eS1dAdtzrN",
        "outputId": "0dcd02d6-aaa4-44e7-8dde-b95602a6b794"
      },
      "execution_count": null,
      "outputs": [
        {
          "output_type": "stream",
          "name": "stdout",
          "text": [
            "\n",
            "1. View Items\n",
            "2. Add to Cart\n",
            "3. View Cart\n",
            "4. Generate Bill\n",
            "5. Exit\n",
            "\n",
            "Enter choice: 1\n",
            "\n",
            "Item         Price/unit\n",
            "1. Apples     ₹   3.5\n",
            "2. Oranges    ₹   2.0\n",
            "3. Cucumbers  ₹   1.8\n",
            "4. Eggs (dozen) ₹   4.5\n",
            "5. Dates      ₹   5.0\n",
            "\n",
            "1. View Items\n",
            "2. Add to Cart\n",
            "3. View Cart\n",
            "4. Generate Bill\n",
            "5. Exit\n",
            "\n",
            "Enter choice: 2\n",
            "1. Apples     ₹   3.5\n",
            "2. Oranges    ₹   2.0\n",
            "3. Cucumbers  ₹   1.8\n",
            "4. Eggs (dozen) ₹   4.5\n",
            "5. Dates      ₹   5.0\n",
            "\n",
            "Enter item number: 5\n",
            "Enter quantity: 2\n",
            "Dates added!\n",
            "\n",
            "1. View Items\n",
            "2. Add to Cart\n",
            "3. View Cart\n",
            "4. Generate Bill\n",
            "5. Exit\n",
            "\n",
            "Enter choice: 2\n",
            "1. Apples     ₹   3.5\n",
            "2. Oranges    ₹   2.0\n",
            "3. Cucumbers  ₹   1.8\n",
            "4. Eggs (dozen) ₹   4.5\n",
            "5. Dates      ₹   5.0\n",
            "\n",
            "Enter item number: 3\n",
            "Enter quantity: 3\n",
            "Cucumbers added!\n",
            "\n",
            "1. View Items\n",
            "2. Add to Cart\n",
            "3. View Cart\n",
            "4. Generate Bill\n",
            "5. Exit\n",
            "\n",
            "Enter choice: 3\n",
            "\n",
            "Item         Price/unit  Quantity\n",
            "Dates      ₹   5.0          2\n",
            "Cucumbers  ₹   1.8          3\n",
            "\n",
            "1. View Items\n",
            "2. Add to Cart\n",
            "3. View Cart\n",
            "4. Generate Bill\n",
            "5. Exit\n",
            "\n",
            "Enter choice: 4\n",
            "\n",
            "Item         Price/unit  Quantity    Total\n",
            "Dates      ₹   5.0          2 ₹  10.0\n",
            "Cucumbers  ₹   1.8          3 ₹   5.4\n",
            "\n",
            "Total Bill: ₹  15.4\n",
            "\n",
            "1. View Items\n",
            "2. Add to Cart\n",
            "3. View Cart\n",
            "4. Generate Bill\n",
            "5. Exit\n",
            "\n",
            "Enter choice: 5\n",
            "Thank you for shopping!\n"
          ]
        }
      ]
    },
    {
      "cell_type": "markdown",
      "source": [
        "# **DAY 5 - Sets & Dictionaries**"
      ],
      "metadata": {
        "id": "6qijGApkIL6O"
      }
    },
    {
      "cell_type": "markdown",
      "source": [
        "Sets:"
      ],
      "metadata": {
        "id": "7ZFZCeR0IRRB"
      }
    },
    {
      "cell_type": "code",
      "source": [
        "s= {} #default: dictionary\n",
        "print(type(s))"
      ],
      "metadata": {
        "colab": {
          "base_uri": "https://localhost:8080/"
        },
        "id": "MgA2iaQpMSw0",
        "outputId": "54749238-7cd7-4841-ea93-241ec73d81d0"
      },
      "execution_count": null,
      "outputs": [
        {
          "output_type": "stream",
          "name": "stdout",
          "text": [
            "<class 'dict'>\n"
          ]
        }
      ]
    },
    {
      "cell_type": "code",
      "source": [
        "s =set() #correct way to initialize empty set\n",
        "print(type(s))"
      ],
      "metadata": {
        "colab": {
          "base_uri": "https://localhost:8080/"
        },
        "id": "3aNaN5cCMiyA",
        "outputId": "a89be1e7-a805-44c9-b846-b080c80e192b"
      },
      "execution_count": null,
      "outputs": [
        {
          "output_type": "stream",
          "name": "stdout",
          "text": [
            "<class 'set'>\n"
          ]
        }
      ]
    },
    {
      "cell_type": "markdown",
      "source": [
        "we never write exected output for set, because this is unordered collectioin"
      ],
      "metadata": {
        "id": "3RSFK-kBNNia"
      }
    },
    {
      "cell_type": "code",
      "source": [
        "k={1122,2192,22191,' k v ',True,1122}\n",
        "print(k)\n",
        "v={1122,2192,22191, True, 1122, ' k v '}\n",
        "print(v)"
      ],
      "metadata": {
        "colab": {
          "base_uri": "https://localhost:8080/"
        },
        "id": "NJdgISZXOewe",
        "outputId": "b484ff75-6dab-4308-d1a8-88be9024ec92"
      },
      "execution_count": null,
      "outputs": [
        {
          "output_type": "stream",
          "name": "stdout",
          "text": [
            "{2192, ' k v ', 1122, True, 22191}\n",
            "{2192, True, 1122, ' k v ', 22191}\n"
          ]
        }
      ]
    },
    {
      "cell_type": "code",
      "source": [
        "j={2005, True, 18}\n",
        "print(j)"
      ],
      "metadata": {
        "colab": {
          "base_uri": "https://localhost:8080/"
        },
        "id": "ZJgcE1SYOiKl",
        "outputId": "6fe2d775-6643-4bfd-f45e-20e350f54d8c"
      },
      "execution_count": null,
      "outputs": [
        {
          "output_type": "stream",
          "name": "stdout",
          "text": [
            "{True, 18, 2005}\n"
          ]
        }
      ]
    },
    {
      "cell_type": "markdown",
      "source": [
        "we can use tuples and strings in set but not lists"
      ],
      "metadata": {
        "id": "6NinKtzePcF8"
      }
    },
    {
      "cell_type": "code",
      "source": [
        "l={1, 5, (2,True),'a'}\n",
        "print(l)"
      ],
      "metadata": {
        "colab": {
          "base_uri": "https://localhost:8080/"
        },
        "id": "OtbI8STmPPMx",
        "outputId": "5da369c5-07cb-424e-fd23-aacb3e4876a3"
      },
      "execution_count": null,
      "outputs": [
        {
          "output_type": "stream",
          "name": "stdout",
          "text": [
            "{1, 5, 'a', (2, True)}\n"
          ]
        }
      ]
    },
    {
      "cell_type": "code",
      "source": [
        "a={1,5, [ 2, True],'a'}\n",
        "print(a) #throws type error"
      ],
      "metadata": {
        "colab": {
          "base_uri": "https://localhost:8080/"
        },
        "collapsed": true,
        "id": "gBoMelGdPgDp",
        "outputId": "d834a860-f324-45ec-d12e-601b35699b6a"
      },
      "execution_count": null,
      "outputs": [
        {
          "output_type": "error",
          "ename": "TypeError",
          "evalue": "unhashable type: 'list'",
          "traceback": [
            "\u001b[0;31m---------------------------------------------------------------------------\u001b[0m",
            "\u001b[0;31mTypeError\u001b[0m                                 Traceback (most recent call last)",
            "\u001b[0;32m<ipython-input-10-3aacc16d974d>\u001b[0m in \u001b[0;36m<cell line: 1>\u001b[0;34m()\u001b[0m\n\u001b[0;32m----> 1\u001b[0;31m \u001b[0ma\u001b[0m\u001b[0;34m=\u001b[0m\u001b[0;34m{\u001b[0m\u001b[0;36m1\u001b[0m\u001b[0;34m,\u001b[0m\u001b[0;36m5\u001b[0m\u001b[0;34m,\u001b[0m \u001b[0;34m[\u001b[0m \u001b[0;36m2\u001b[0m\u001b[0;34m,\u001b[0m \u001b[0;32mTrue\u001b[0m\u001b[0;34m]\u001b[0m\u001b[0;34m,\u001b[0m\u001b[0;34m'a'\u001b[0m\u001b[0;34m}\u001b[0m\u001b[0;34m\u001b[0m\u001b[0;34m\u001b[0m\u001b[0m\n\u001b[0m\u001b[1;32m      2\u001b[0m \u001b[0mprint\u001b[0m\u001b[0;34m(\u001b[0m\u001b[0ma\u001b[0m\u001b[0;34m)\u001b[0m\u001b[0;34m\u001b[0m\u001b[0;34m\u001b[0m\u001b[0m\n",
            "\u001b[0;31mTypeError\u001b[0m: unhashable type: 'list'"
          ]
        }
      ]
    },
    {
      "cell_type": "markdown",
      "source": [
        "accessing element in set: loops , no indices  or slice operations\n",
        "\n",
        "\n"
      ],
      "metadata": {
        "id": "7SHsAcpNQfOq"
      }
    },
    {
      "cell_type": "code",
      "source": [
        "print(l[ 0]) #raises type error"
      ],
      "metadata": {
        "colab": {
          "base_uri": "https://localhost:8080/",
          "height": 146
        },
        "id": "BFUDkMTDQjut",
        "outputId": "e9159376-58c7-4c83-bbda-8a2d352f7552"
      },
      "execution_count": null,
      "outputs": [
        {
          "output_type": "error",
          "ename": "TypeError",
          "evalue": "'set' object is not subscriptable",
          "traceback": [
            "\u001b[0;31m---------------------------------------------------------------------------\u001b[0m",
            "\u001b[0;31mTypeError\u001b[0m                                 Traceback (most recent call last)",
            "\u001b[0;32m<ipython-input-11-266604e35798>\u001b[0m in \u001b[0;36m<cell line: 1>\u001b[0;34m()\u001b[0m\n\u001b[0;32m----> 1\u001b[0;31m \u001b[0mprint\u001b[0m\u001b[0;34m(\u001b[0m\u001b[0ml\u001b[0m\u001b[0;34m[\u001b[0m \u001b[0;36m0\u001b[0m\u001b[0;34m]\u001b[0m\u001b[0;34m)\u001b[0m\u001b[0;34m\u001b[0m\u001b[0;34m\u001b[0m\u001b[0m\n\u001b[0m",
            "\u001b[0;31mTypeError\u001b[0m: 'set' object is not subscriptable"
          ]
        }
      ]
    },
    {
      "cell_type": "code",
      "source": [
        "st={11,22,33,44,55}\n",
        "for i in st:\n",
        "  print(i, end=' ')"
      ],
      "metadata": {
        "colab": {
          "base_uri": "https://localhost:8080/"
        },
        "id": "mb3VrPeHQpx0",
        "outputId": "16b54969-3daa-419b-a649-3a7c6d34eddc"
      },
      "execution_count": null,
      "outputs": [
        {
          "output_type": "stream",
          "name": "stdout",
          "text": [
            "33 22 55 11 44 "
          ]
        }
      ]
    },
    {
      "cell_type": "code",
      "source": [
        "st={11,22,33,44,55}\n",
        "for i,j in enumerate(st):\n",
        "  print(i,j, end=' ')\n",
        "  print()"
      ],
      "metadata": {
        "colab": {
          "base_uri": "https://localhost:8080/"
        },
        "id": "VCaXIsGaRNUc",
        "outputId": "6754aabf-00c6-458f-a04b-0028da689f81"
      },
      "execution_count": null,
      "outputs": [
        {
          "output_type": "stream",
          "name": "stdout",
          "text": [
            "0 33 \n",
            "1 22 \n",
            "2 55 \n",
            "3 11 \n",
            "4 44 \n"
          ]
        }
      ]
    },
    {
      "cell_type": "markdown",
      "source": [
        "Methods:\n",
        "1. add"
      ],
      "metadata": {
        "id": "X_yGgeh5SSKm"
      }
    },
    {
      "cell_type": "code",
      "source": [
        "l.add(2000)\n",
        "print(l)"
      ],
      "metadata": {
        "colab": {
          "base_uri": "https://localhost:8080/"
        },
        "id": "Z6rpreLCSWoQ",
        "outputId": "874c533c-8c12-43e1-ac7c-00a8542212d3"
      },
      "execution_count": null,
      "outputs": [
        {
          "output_type": "stream",
          "name": "stdout",
          "text": [
            "{1, 5, (2, True), 'a', 2000}\n"
          ]
        }
      ]
    },
    {
      "cell_type": "markdown",
      "source": [
        "2. copy"
      ],
      "metadata": {
        "id": "igWaarDeS47O"
      }
    },
    {
      "cell_type": "markdown",
      "source": [
        "3. clear: there  is memory but no elements"
      ],
      "metadata": {
        "id": "-KZqPJuES8dV"
      }
    },
    {
      "cell_type": "markdown",
      "source": [
        "4. discard"
      ],
      "metadata": {
        "id": "knRClQxdTDXt"
      }
    },
    {
      "cell_type": "code",
      "source": [
        "l.discard(18)\n",
        "print(l)\n",
        "l.discard(55)\n",
        "print(l)"
      ],
      "metadata": {
        "colab": {
          "base_uri": "https://localhost:8080/"
        },
        "id": "ItNN551eTWB2",
        "outputId": "c97b2942-30bc-4006-c9b2-32db9a139ff3"
      },
      "execution_count": null,
      "outputs": [
        {
          "output_type": "stream",
          "name": "stdout",
          "text": [
            "{1, 5, (2, True), 'a', 2000}\n",
            "{1, 5, (2, True), 'a', 2000}\n"
          ]
        }
      ]
    },
    {
      "cell_type": "code",
      "source": [
        "dir(set)"
      ],
      "metadata": {
        "colab": {
          "base_uri": "https://localhost:8080/"
        },
        "id": "UZUjz4W6T0pP",
        "outputId": "4de7ea39-bd32-46be-ac1a-3098d2910e97"
      },
      "execution_count": null,
      "outputs": [
        {
          "output_type": "execute_result",
          "data": {
            "text/plain": [
              "['__and__',\n",
              " '__class__',\n",
              " '__class_getitem__',\n",
              " '__contains__',\n",
              " '__delattr__',\n",
              " '__dir__',\n",
              " '__doc__',\n",
              " '__eq__',\n",
              " '__format__',\n",
              " '__ge__',\n",
              " '__getattribute__',\n",
              " '__gt__',\n",
              " '__hash__',\n",
              " '__iand__',\n",
              " '__init__',\n",
              " '__init_subclass__',\n",
              " '__ior__',\n",
              " '__isub__',\n",
              " '__iter__',\n",
              " '__ixor__',\n",
              " '__le__',\n",
              " '__len__',\n",
              " '__lt__',\n",
              " '__ne__',\n",
              " '__new__',\n",
              " '__or__',\n",
              " '__rand__',\n",
              " '__reduce__',\n",
              " '__reduce_ex__',\n",
              " '__repr__',\n",
              " '__ror__',\n",
              " '__rsub__',\n",
              " '__rxor__',\n",
              " '__setattr__',\n",
              " '__sizeof__',\n",
              " '__str__',\n",
              " '__sub__',\n",
              " '__subclasshook__',\n",
              " '__xor__',\n",
              " 'add',\n",
              " 'clear',\n",
              " 'copy',\n",
              " 'difference',\n",
              " 'difference_update',\n",
              " 'discard',\n",
              " 'intersection',\n",
              " 'intersection_update',\n",
              " 'isdisjoint',\n",
              " 'issubset',\n",
              " 'issuperset',\n",
              " 'pop',\n",
              " 'remove',\n",
              " 'symmetric_difference',\n",
              " 'symmetric_difference_update',\n",
              " 'union',\n",
              " 'update']"
            ]
          },
          "metadata": {},
          "execution_count": 20
        }
      ]
    },
    {
      "cell_type": "markdown",
      "source": [
        "5. pop"
      ],
      "metadata": {
        "id": "r0Uxm45wT3hV"
      }
    },
    {
      "cell_type": "code",
      "source": [
        "l.pop()\n",
        "print(l)"
      ],
      "metadata": {
        "colab": {
          "base_uri": "https://localhost:8080/"
        },
        "id": "_Zdiiyv5UC_B",
        "outputId": "7ec09d56-fd41-4316-bf19-3e9715d251d4"
      },
      "execution_count": null,
      "outputs": [
        {
          "output_type": "stream",
          "name": "stdout",
          "text": [
            "{5, (2, True), 'a', 2000}\n"
          ]
        }
      ]
    },
    {
      "cell_type": "markdown",
      "source": [
        "6. remove"
      ],
      "metadata": {
        "id": "t52ftFtqT801"
      }
    },
    {
      "cell_type": "code",
      "source": [
        "l.remove(18)\n",
        "print(l)"
      ],
      "metadata": {
        "colab": {
          "base_uri": "https://localhost:8080/",
          "height": 165
        },
        "id": "ye7x5SytUL-v",
        "outputId": "fcd84cfc-37ba-4b10-b305-c806257e9751"
      },
      "execution_count": null,
      "outputs": [
        {
          "output_type": "error",
          "ename": "KeyError",
          "evalue": "18",
          "traceback": [
            "\u001b[0;31m---------------------------------------------------------------------------\u001b[0m",
            "\u001b[0;31mKeyError\u001b[0m                                  Traceback (most recent call last)",
            "\u001b[0;32m<ipython-input-22-7d55264270a5>\u001b[0m in \u001b[0;36m<cell line: 1>\u001b[0;34m()\u001b[0m\n\u001b[0;32m----> 1\u001b[0;31m \u001b[0ml\u001b[0m\u001b[0;34m.\u001b[0m\u001b[0mremove\u001b[0m\u001b[0;34m(\u001b[0m\u001b[0;36m18\u001b[0m\u001b[0;34m)\u001b[0m\u001b[0;34m\u001b[0m\u001b[0;34m\u001b[0m\u001b[0m\n\u001b[0m\u001b[1;32m      2\u001b[0m \u001b[0mprint\u001b[0m\u001b[0;34m(\u001b[0m\u001b[0ml\u001b[0m\u001b[0;34m)\u001b[0m\u001b[0;34m\u001b[0m\u001b[0;34m\u001b[0m\u001b[0m\n",
            "\u001b[0;31mKeyError\u001b[0m: 18"
          ]
        }
      ]
    },
    {
      "cell_type": "markdown",
      "source": [
        "7. update in list its extend"
      ],
      "metadata": {
        "id": "jpKrte6GUSli"
      }
    },
    {
      "cell_type": "code",
      "source": [
        "st={11,22,33,44,55}\n",
        "print(st)\n",
        "st1={66,77}\n",
        "st.update(st1)\n",
        "print(st)\n",
        "print(st1)"
      ],
      "metadata": {
        "colab": {
          "base_uri": "https://localhost:8080/"
        },
        "id": "zau8i-vlUTw4",
        "outputId": "a630ac4f-f38e-4511-dbec-2edfc6b01fbe"
      },
      "execution_count": null,
      "outputs": [
        {
          "output_type": "stream",
          "name": "stdout",
          "text": [
            "{33, 22, 55, 11, 44}\n",
            "{33, 66, 22, 55, 11, 44, 77}\n",
            "{66, 77}\n"
          ]
        }
      ]
    },
    {
      "cell_type": "markdown",
      "source": [
        "8. union: ignores dups follows basic property of sets"
      ],
      "metadata": {
        "id": "KTE1MN3YVPQe"
      }
    },
    {
      "cell_type": "code",
      "source": [
        "print(st.union(st1))\n",
        "print(st1)\n"
      ],
      "metadata": {
        "colab": {
          "base_uri": "https://localhost:8080/",
          "height": 238
        },
        "id": "7MAHzgCaVQkR",
        "outputId": "18998d3f-a8fd-44eb-a2e9-6c073ecb0353"
      },
      "execution_count": null,
      "outputs": [
        {
          "output_type": "stream",
          "name": "stdout",
          "text": [
            "{33, 66, 11, 44, 77, 22, 55}\n",
            "{66, 77}\n"
          ]
        },
        {
          "output_type": "error",
          "ename": "TypeError",
          "evalue": "unsupported operand type(s) for |: 'set' and 'int'",
          "traceback": [
            "\u001b[0;31m---------------------------------------------------------------------------\u001b[0m",
            "\u001b[0;31mTypeError\u001b[0m                                 Traceback (most recent call last)",
            "\u001b[0;32m<ipython-input-29-ae04bb4cacc8>\u001b[0m in \u001b[0;36m<cell line: 3>\u001b[0;34m()\u001b[0m\n\u001b[1;32m      1\u001b[0m \u001b[0mprint\u001b[0m\u001b[0;34m(\u001b[0m\u001b[0mst\u001b[0m\u001b[0;34m.\u001b[0m\u001b[0munion\u001b[0m\u001b[0;34m(\u001b[0m\u001b[0mst1\u001b[0m\u001b[0;34m)\u001b[0m\u001b[0;34m)\u001b[0m\u001b[0;34m\u001b[0m\u001b[0;34m\u001b[0m\u001b[0m\n\u001b[1;32m      2\u001b[0m \u001b[0mprint\u001b[0m\u001b[0;34m(\u001b[0m\u001b[0mst1\u001b[0m\u001b[0;34m)\u001b[0m\u001b[0;34m\u001b[0m\u001b[0;34m\u001b[0m\u001b[0m\n\u001b[0;32m----> 3\u001b[0;31m \u001b[0mst\u001b[0m\u001b[0;34m=\u001b[0m\u001b[0mst\u001b[0m \u001b[0;34m|\u001b[0m \u001b[0mj\u001b[0m\u001b[0;34m\u001b[0m\u001b[0;34m\u001b[0m\u001b[0m\n\u001b[0m\u001b[1;32m      4\u001b[0m \u001b[0mprint\u001b[0m\u001b[0;34m(\u001b[0m\u001b[0mst\u001b[0m\u001b[0;34m)\u001b[0m\u001b[0;34m\u001b[0m\u001b[0;34m\u001b[0m\u001b[0m\n",
            "\u001b[0;31mTypeError\u001b[0m: unsupported operand type(s) for |: 'set' and 'int'"
          ]
        }
      ]
    },
    {
      "cell_type": "markdown",
      "source": [
        "9. intersection"
      ],
      "metadata": {
        "id": "_V9TLWl7WqKG"
      }
    },
    {
      "cell_type": "code",
      "source": [
        "a={11,22,33}\n",
        "b= {22,44,11,55}\n",
        "print(a.intersection(b))\n",
        "print(a)"
      ],
      "metadata": {
        "colab": {
          "base_uri": "https://localhost:8080/"
        },
        "id": "Q8GYDMnfXsXd",
        "outputId": "f0c468e1-921f-4b6c-d5fd-595ded51f448"
      },
      "execution_count": null,
      "outputs": [
        {
          "output_type": "stream",
          "name": "stdout",
          "text": [
            "{11, 22}\n",
            "{33, 11, 22}\n"
          ]
        }
      ]
    },
    {
      "cell_type": "markdown",
      "source": [
        "10. intersection update"
      ],
      "metadata": {
        "id": "kBM-VJzzX5ih"
      }
    },
    {
      "cell_type": "code",
      "source": [
        "print(a.intersection_update(b))\n",
        "print(a)"
      ],
      "metadata": {
        "colab": {
          "base_uri": "https://localhost:8080/"
        },
        "id": "4ubQsuQQX8M1",
        "outputId": "30caa5d4-36c3-476e-f4b7-7b3c58c3dfca"
      },
      "execution_count": null,
      "outputs": [
        {
          "output_type": "stream",
          "name": "stdout",
          "text": [
            "None\n",
            "{11, 22}\n"
          ]
        }
      ]
    },
    {
      "cell_type": "markdown",
      "source": [
        "11. difference"
      ],
      "metadata": {
        "id": "rppAZBTrZXx1"
      }
    },
    {
      "cell_type": "code",
      "source": [
        "k={33,22,11,44}\n",
        "v = {33,66,44,55}\n",
        "k.difference(v)"
      ],
      "metadata": {
        "colab": {
          "base_uri": "https://localhost:8080/"
        },
        "id": "QNJJuQY9Zxnw",
        "outputId": "6935ccea-a394-4bb9-b964-c94be1ad00e8"
      },
      "execution_count": null,
      "outputs": [
        {
          "output_type": "execute_result",
          "data": {
            "text/plain": [
              "{11, 22}"
            ]
          },
          "metadata": {},
          "execution_count": 41
        }
      ]
    },
    {
      "cell_type": "code",
      "source": [
        "j ={23,43,12,23,44}\n",
        "a ={23,12,65,33}\n",
        "b=j-a\n",
        "print(b)"
      ],
      "metadata": {
        "colab": {
          "base_uri": "https://localhost:8080/"
        },
        "id": "IjE2sm3baD4a",
        "outputId": "d0a0495f-ea4d-4601-dc2e-f86282bd2e94"
      },
      "execution_count": null,
      "outputs": [
        {
          "output_type": "stream",
          "name": "stdout",
          "text": [
            "{43, 44}\n"
          ]
        }
      ]
    },
    {
      "cell_type": "code",
      "source": [
        "j ={23,43,12,23,44}\n",
        "a ={23,12,65,33}\n",
        "j.difference(a)\n"
      ],
      "metadata": {
        "colab": {
          "base_uri": "https://localhost:8080/"
        },
        "id": "jzW7T0-iaV6o",
        "outputId": "a09d03e3-c666-4491-bbb3-3c6c435d700a"
      },
      "execution_count": null,
      "outputs": [
        {
          "output_type": "execute_result",
          "data": {
            "text/plain": [
              "{43, 44}"
            ]
          },
          "metadata": {},
          "execution_count": 48
        }
      ]
    },
    {
      "cell_type": "markdown",
      "source": [
        "12. difference update"
      ],
      "metadata": {
        "id": "WEEHN9dFasoD"
      }
    },
    {
      "cell_type": "code",
      "source": [
        "j ={23,43,12,23,44}\n",
        "a ={23,12,65,33}\n",
        "j.difference_update(a)\n",
        "print(j)"
      ],
      "metadata": {
        "colab": {
          "base_uri": "https://localhost:8080/"
        },
        "id": "xNhhUt70aw-R",
        "outputId": "c98a1f99-6fbb-4f8b-a1db-2c11031f9494"
      },
      "execution_count": null,
      "outputs": [
        {
          "output_type": "stream",
          "name": "stdout",
          "text": [
            "{43, 44}\n"
          ]
        }
      ]
    },
    {
      "cell_type": "markdown",
      "source": [
        "13. symmetric difference"
      ],
      "metadata": {
        "id": "JzymJHgQbxv9"
      }
    },
    {
      "cell_type": "code",
      "source": [
        "j ={23,43,12,23,44}\n",
        "a ={23,12,65,33}\n",
        "print(j.symmetric_difference(a))\n",
        "print(j)"
      ],
      "metadata": {
        "colab": {
          "base_uri": "https://localhost:8080/"
        },
        "id": "yc_s9wXmb1I9",
        "outputId": "7f94a36b-e0ea-4743-cdd5-936c44c14499"
      },
      "execution_count": null,
      "outputs": [
        {
          "output_type": "stream",
          "name": "stdout",
          "text": [
            "{65, 33, 43, 44}\n",
            "{43, 12, 44, 23}\n"
          ]
        }
      ]
    },
    {
      "cell_type": "markdown",
      "source": [
        "14.  symmetric difference update"
      ],
      "metadata": {
        "id": "kZT-vB92ciqL"
      }
    },
    {
      "cell_type": "code",
      "source": [
        "print(j.symmetric_difference_update(a))\n",
        "print(j)"
      ],
      "metadata": {
        "colab": {
          "base_uri": "https://localhost:8080/"
        },
        "id": "xccHmMqUcmqD",
        "outputId": "777b7523-37ca-4a90-ec53-326bd762b997"
      },
      "execution_count": null,
      "outputs": [
        {
          "output_type": "stream",
          "name": "stdout",
          "text": [
            "None\n",
            "{65, 33, 43, 44}\n"
          ]
        }
      ]
    },
    {
      "cell_type": "markdown",
      "source": [
        "15. isdisjoint"
      ],
      "metadata": {
        "id": "AGmMRPLmd1S-"
      }
    },
    {
      "cell_type": "code",
      "source": [
        "j ={23,43,12,23,44}\n",
        "a ={23,12,65,33}\n",
        "print(j.isdisjoint(a))\n",
        "print(j)"
      ],
      "metadata": {
        "colab": {
          "base_uri": "https://localhost:8080/"
        },
        "id": "lJocAJF_d24O",
        "outputId": "7a000a0e-abe0-40af-e79f-62e577567b5b"
      },
      "execution_count": null,
      "outputs": [
        {
          "output_type": "stream",
          "name": "stdout",
          "text": [
            "False\n",
            "{43, 12, 44, 23}\n"
          ]
        }
      ]
    },
    {
      "cell_type": "markdown",
      "source": [
        "16. issubset"
      ],
      "metadata": {
        "id": "i3GSvGmeekP0"
      }
    },
    {
      "cell_type": "code",
      "source": [
        "print(j.issubset(a))\n",
        "print(j)"
      ],
      "metadata": {
        "colab": {
          "base_uri": "https://localhost:8080/"
        },
        "id": "DcQHW18BesdL",
        "outputId": "976dd742-007b-411f-b4f6-71e982af21db"
      },
      "execution_count": null,
      "outputs": [
        {
          "output_type": "stream",
          "name": "stdout",
          "text": [
            "False\n",
            "{43, 12, 44, 23}\n"
          ]
        }
      ]
    },
    {
      "cell_type": "markdown",
      "source": [
        "17. issuperset"
      ],
      "metadata": {
        "id": "NL1Al962fBrl"
      }
    },
    {
      "cell_type": "code",
      "source": [
        "print(j.issuperset(a))\n",
        "print(j)"
      ],
      "metadata": {
        "colab": {
          "base_uri": "https://localhost:8080/"
        },
        "id": "C6Hrh4C2fDXf",
        "outputId": "63b14170-849a-4bfc-9c48-0bfb2a8d452c"
      },
      "execution_count": null,
      "outputs": [
        {
          "output_type": "stream",
          "name": "stdout",
          "text": [
            "False\n",
            "{43, 12, 44, 23}\n"
          ]
        }
      ]
    },
    {
      "cell_type": "markdown",
      "source": [
        "Attributes and methods"
      ],
      "metadata": {
        "id": "4BSZjJi7f0G9"
      }
    },
    {
      "cell_type": "code",
      "source": [
        "dir(set)"
      ],
      "metadata": {
        "colab": {
          "base_uri": "https://localhost:8080/"
        },
        "id": "oDPdihNgf3S9",
        "outputId": "d6176278-eef4-43c5-bd53-42c6e0b58e6f"
      },
      "execution_count": null,
      "outputs": [
        {
          "output_type": "execute_result",
          "data": {
            "text/plain": [
              "['__and__',\n",
              " '__class__',\n",
              " '__class_getitem__',\n",
              " '__contains__',\n",
              " '__delattr__',\n",
              " '__dir__',\n",
              " '__doc__',\n",
              " '__eq__',\n",
              " '__format__',\n",
              " '__ge__',\n",
              " '__getattribute__',\n",
              " '__gt__',\n",
              " '__hash__',\n",
              " '__iand__',\n",
              " '__init__',\n",
              " '__init_subclass__',\n",
              " '__ior__',\n",
              " '__isub__',\n",
              " '__iter__',\n",
              " '__ixor__',\n",
              " '__le__',\n",
              " '__len__',\n",
              " '__lt__',\n",
              " '__ne__',\n",
              " '__new__',\n",
              " '__or__',\n",
              " '__rand__',\n",
              " '__reduce__',\n",
              " '__reduce_ex__',\n",
              " '__repr__',\n",
              " '__ror__',\n",
              " '__rsub__',\n",
              " '__rxor__',\n",
              " '__setattr__',\n",
              " '__sizeof__',\n",
              " '__str__',\n",
              " '__sub__',\n",
              " '__subclasshook__',\n",
              " '__xor__',\n",
              " 'add',\n",
              " 'clear',\n",
              " 'copy',\n",
              " 'difference',\n",
              " 'difference_update',\n",
              " 'discard',\n",
              " 'intersection',\n",
              " 'intersection_update',\n",
              " 'isdisjoint',\n",
              " 'issubset',\n",
              " 'issuperset',\n",
              " 'pop',\n",
              " 'remove',\n",
              " 'symmetric_difference',\n",
              " 'symmetric_difference_update',\n",
              " 'union',\n",
              " 'update']"
            ]
          },
          "metadata": {},
          "execution_count": 64
        }
      ]
    },
    {
      "cell_type": "markdown",
      "source": [
        "Application on set:\n"
      ],
      "metadata": {
        "id": "ONhwNVOEioRW"
      }
    },
    {
      "cell_type": "code",
      "source": [
        "students={'jasper','laxmi','varshitha','amrutha','sathwika'}\n",
        "courses = {'maths','english','science','social','python'}\n",
        "enrolled_students=set()\n",
        "enrolled_students.add('jasper' )\n",
        "enrolled_students.add('laxmi' )\n",
        "enrolled_students.add('vashitha' )\n",
        "enrolled_students.add('amrutha' )\n",
        "enrolled_students.add('sathwika'  )\n",
        "for students  in enrolled_students:\n",
        "  print(f\"{students}-{courses}\")\n"
      ],
      "metadata": {
        "colab": {
          "base_uri": "https://localhost:8080/"
        },
        "id": "_ymMh1g1irCL",
        "outputId": "734f5ca0-54d0-4785-c142-c84c77bee2ea"
      },
      "execution_count": null,
      "outputs": [
        {
          "output_type": "stream",
          "name": "stdout",
          "text": [
            "jasper-{'python', 'english', 'social', 'maths', 'science'}\n",
            "laxmi-{'python', 'english', 'social', 'maths', 'science'}\n",
            "sathwika-{'python', 'english', 'social', 'maths', 'science'}\n",
            "amrutha-{'python', 'english', 'social', 'maths', 'science'}\n",
            "vashitha-{'python', 'english', 'social', 'maths', 'science'}\n"
          ]
        }
      ]
    },
    {
      "cell_type": "code",
      "source": [
        "\n",
        "p1=[ ]\n",
        "noe1 =int(input(\"Enter number of movies liked by first person: \"))\n",
        "for i in range(noe1):\n",
        "  elt1= input(\"Enter movie: \")\n",
        "  p1.append(elt1)\n",
        "p2=[ ]\n",
        "noe2 =int(input(\"Enter number of movies liked by second person: \"))\n",
        "for i in range(noe2):\n",
        "  elt2=  input(\"Enter movie: \")\n",
        "  p2.append(elt2)\n",
        "'''p1={'titanic','dots','goblin','vincenzo','hi nanna','amaran','bahubali'}\n",
        "p2={'goblin','when the phone rings','family by choice','amaran','dussehra'}\n",
        "p1.add('space sweepers')\n",
        "p2.add('queen of tears')'''\n",
        "p1=set(p1)\n",
        "p2=set(p2)\n",
        "c='y'\n",
        "\n",
        "while c =='y'  or c =='Y':\n",
        "  print(\"0. commonly liked movies\")\n",
        "  print(\"1. liked by 1st person\")\n",
        "  print(\"2. liked by 2nd person\")\n",
        "  print(\"3. total unique movies liked by both\")\n",
        "  print(\"4. add movies to first person movie list\")\n",
        "  print(\"5. add movies to second person movie list\")\n",
        "  ch=int(input(\"Enter your choice:(0-3): \"))\n",
        "  if ch==0:\n",
        "    print(f\"Commonly liked movies: {p1.intersection(p2)}\")\n",
        "  elif ch==1:\n",
        "    print(f\"Liked by only one  1st person: {p1.difference(p2)}\")\n",
        "  elif ch==2:\n",
        "    print(f\"Liked by only one  2nd person: {p2.difference(p1)}\")\n",
        "  elif ch==3:\n",
        "    print(f\"Total unique movies liked by both: {p1.symmetric_difference(p2)}\")\n",
        "  elif ch==4:\n",
        "    m1=input(\"Enter movie: \")\n",
        "    p1.add(m)\n",
        "    print(f\"Updated movie list of first person: {p1}\")\n",
        "  elif ch==5:\n",
        "    m2=input(\"Enter movie: \")\n",
        "    p2.add(m)\n",
        "    print(f\"Updated movie list of 2nd person: {p2}\")\n",
        "  c=input('Do you want to continue? press y/n: ')"
      ],
      "metadata": {
        "colab": {
          "base_uri": "https://localhost:8080/"
        },
        "id": "u1TNTfcHk2RR",
        "outputId": "563f62ca-0fcb-4774-ee39-f6eb4e4483fb"
      },
      "execution_count": null,
      "outputs": [
        {
          "name": "stdout",
          "output_type": "stream",
          "text": [
            "Enter number of movies liked by first person: 3\n",
            "Enter movie: amaran\n",
            "Enter movie: vincenzo\n",
            "Enter movie: goblin\n",
            "Enter number of movies liked by second person: 3\n",
            "Enter movie: s34\n",
            "Enter movie: 56\n",
            "Enter movie: 435\n",
            "0. commonly liked movies\n",
            "1. liked by 1st person\n",
            "2. liked by 2nd person\n",
            "3. total unique movies liked by both\n",
            "4. add movies to first person movie list\n",
            "5. add movies to second person movie list\n",
            "Enter your choice:(0-3): 6\n",
            "Do you want to continue? press y/n: n\n"
          ]
        }
      ]
    },
    {
      "cell_type": "code",
      "source": [
        "usr_lst=[]\n",
        "movie_lst=[]\n",
        "while True:\n",
        "    choice=int(input(\"Enter your choice:\"))\n",
        "    if choice==1:\n",
        "        usr_nm=input(\"Enter user name:\")\n",
        "        usr_lst.append(usr_nm)\n",
        "    elif choice==2:\n",
        "        usr_nm=input(\"Enter user name:\")\n",
        "        if usr_nm in usr_lst:\n",
        "            movie_nm=input(\"Enter movie names:\")\n",
        "            ml=set(movie_nm.split())\n",
        "            print(ml)\n",
        "        else:\n",
        "            print(\"user does not exist.create new user\")\n",
        "            ch=1\n",
        "    elif choice==3:\n",
        "        print(usr_lst)\n",
        "        continue\n",
        "\n"
      ],
      "metadata": {
        "colab": {
          "base_uri": "https://localhost:8080/",
          "height": 329
        },
        "id": "c6szGqq0v6aI",
        "outputId": "bacaa05c-9a38-495c-9c02-9bf1ed4ce119"
      },
      "execution_count": null,
      "outputs": [
        {
          "name": "stdout",
          "output_type": "stream",
          "text": [
            "Enter your choice:1\n",
            "Enter user name:jasper\n",
            "Enter your choice:2\n",
            "Enter user name:ja\n",
            "user does not exist.create new user\n",
            "Enter your choice:kh\n"
          ]
        },
        {
          "output_type": "error",
          "ename": "ValueError",
          "evalue": "invalid literal for int() with base 10: 'kh'",
          "traceback": [
            "\u001b[0;31m---------------------------------------------------------------------------\u001b[0m",
            "\u001b[0;31mValueError\u001b[0m                                Traceback (most recent call last)",
            "\u001b[0;32m<ipython-input-96-1b399f62fdf6>\u001b[0m in \u001b[0;36m<cell line: 3>\u001b[0;34m()\u001b[0m\n\u001b[1;32m      2\u001b[0m \u001b[0mmovie_lst\u001b[0m\u001b[0;34m=\u001b[0m\u001b[0;34m[\u001b[0m\u001b[0;34m]\u001b[0m\u001b[0;34m\u001b[0m\u001b[0;34m\u001b[0m\u001b[0m\n\u001b[1;32m      3\u001b[0m \u001b[0;32mwhile\u001b[0m \u001b[0;32mTrue\u001b[0m\u001b[0;34m:\u001b[0m\u001b[0;34m\u001b[0m\u001b[0;34m\u001b[0m\u001b[0m\n\u001b[0;32m----> 4\u001b[0;31m     \u001b[0mchoice\u001b[0m\u001b[0;34m=\u001b[0m\u001b[0mint\u001b[0m\u001b[0;34m(\u001b[0m\u001b[0minput\u001b[0m\u001b[0;34m(\u001b[0m\u001b[0;34m\"Enter your choice:\"\u001b[0m\u001b[0;34m)\u001b[0m\u001b[0;34m)\u001b[0m\u001b[0;34m\u001b[0m\u001b[0;34m\u001b[0m\u001b[0m\n\u001b[0m\u001b[1;32m      5\u001b[0m     \u001b[0;32mif\u001b[0m \u001b[0mchoice\u001b[0m\u001b[0;34m==\u001b[0m\u001b[0;36m1\u001b[0m\u001b[0;34m:\u001b[0m\u001b[0;34m\u001b[0m\u001b[0;34m\u001b[0m\u001b[0m\n\u001b[1;32m      6\u001b[0m         \u001b[0musr_nm\u001b[0m\u001b[0;34m=\u001b[0m\u001b[0minput\u001b[0m\u001b[0;34m(\u001b[0m\u001b[0;34m\"Enter user name:\"\u001b[0m\u001b[0;34m)\u001b[0m\u001b[0;34m\u001b[0m\u001b[0;34m\u001b[0m\u001b[0m\n",
            "\u001b[0;31mValueError\u001b[0m: invalid literal for int() with base 10: 'kh'"
          ]
        }
      ]
    },
    {
      "cell_type": "markdown",
      "source": [
        "**Dictionary**"
      ],
      "metadata": {
        "id": "89WjOrQeGGOW"
      }
    },
    {
      "cell_type": "markdown",
      "source": [
        "create empty dictionary"
      ],
      "metadata": {
        "id": "85vtczDgGqGG"
      }
    },
    {
      "cell_type": "code",
      "source": [
        "d={}\n",
        "type(d)\n",
        "print(type(d))"
      ],
      "metadata": {
        "colab": {
          "base_uri": "https://localhost:8080/"
        },
        "id": "K5zg9V20G2JI",
        "outputId": "0dabe2fc-f040-478e-ac35-1e45be35d783"
      },
      "execution_count": null,
      "outputs": [
        {
          "output_type": "stream",
          "name": "stdout",
          "text": [
            "<class 'dict'>\n"
          ]
        }
      ]
    },
    {
      "cell_type": "markdown",
      "source": [
        "Dictionary Properties"
      ],
      "metadata": {
        "id": "oK7YCUpHJQhE"
      }
    },
    {
      "cell_type": "code",
      "source": [
        "d3={'k':'1','z':'22','v':'11'}\n",
        "print(d3)"
      ],
      "metadata": {
        "colab": {
          "base_uri": "https://localhost:8080/"
        },
        "id": "SY_fKYVDIPKw",
        "outputId": "1c22fca6-a145-4864-f74a-522eb925463e"
      },
      "execution_count": null,
      "outputs": [
        {
          "output_type": "stream",
          "name": "stdout",
          "text": [
            "{'k': '1', 'z': '22', 'v': '11'}\n"
          ]
        }
      ]
    },
    {
      "cell_type": "code",
      "source": [
        "d4={'k':'11','z':'22','k':'19'}\n",
        "print(d4)"
      ],
      "metadata": {
        "colab": {
          "base_uri": "https://localhost:8080/"
        },
        "id": "Y3TRYo-hIabr",
        "outputId": "80758683-1878-4267-c405-20dba56a2e1b"
      },
      "execution_count": null,
      "outputs": [
        {
          "output_type": "stream",
          "name": "stdout",
          "text": [
            "{'k': '19', 'z': '22'}\n"
          ]
        }
      ]
    },
    {
      "cell_type": "code",
      "source": [
        "d4={'k':'11','z':'22','k':'11'}\n",
        "print(d4)"
      ],
      "metadata": {
        "colab": {
          "base_uri": "https://localhost:8080/"
        },
        "id": "fjij1deeI4Vp",
        "outputId": "e5d76ee7-3f7a-4877-dba2-db936a46a7db"
      },
      "execution_count": null,
      "outputs": [
        {
          "output_type": "stream",
          "name": "stdout",
          "text": [
            "{'k': '11', 'z': '22'}\n"
          ]
        }
      ]
    },
    {
      "cell_type": "code",
      "source": [
        "d2 = {'a':'65','z':'26','s':'j','pi':3.14}\n",
        "print(d2)"
      ],
      "metadata": {
        "colab": {
          "base_uri": "https://localhost:8080/"
        },
        "id": "yJHdxhFCLVqX",
        "outputId": "9a5d5e2c-8d32-4015-cbd2-ca9b81ae6f3c"
      },
      "execution_count": null,
      "outputs": [
        {
          "output_type": "stream",
          "name": "stdout",
          "text": [
            "{'a': '65', 'z': '26', 's': 'j', 'pi': 3.14}\n"
          ]
        }
      ]
    },
    {
      "cell_type": "code",
      "source": [
        "d2[ 'jasper']='amarlapudi'\n",
        "print( d2)"
      ],
      "metadata": {
        "colab": {
          "base_uri": "https://localhost:8080/"
        },
        "id": "yw-k2LjvMLa_",
        "outputId": "62399fda-4362-4012-974e-974c361e8bd9"
      },
      "execution_count": null,
      "outputs": [
        {
          "output_type": "stream",
          "name": "stdout",
          "text": [
            "{'a': '65', 'z': '26', 's': 'j', 'pi': 3.14, 'jasper': 'amarlapudi'}\n"
          ]
        }
      ]
    },
    {
      "cell_type": "code",
      "source": [
        "print(d2)\n",
        "\n"
      ],
      "metadata": {
        "colab": {
          "base_uri": "https://localhost:8080/"
        },
        "id": "9O0ndSLAMeWQ",
        "outputId": "9624d188-8cdd-4f32-ce6e-182f148a0071"
      },
      "execution_count": null,
      "outputs": [
        {
          "output_type": "stream",
          "name": "stdout",
          "text": [
            "{'a': '65', 'z': '26', 's': 'j', 'pi': 3.14}\n"
          ]
        }
      ]
    },
    {
      "cell_type": "code",
      "source": [
        "d2.clear()\n",
        "print(d2)\n",
        "print(type(d2))"
      ],
      "metadata": {
        "colab": {
          "base_uri": "https://localhost:8080/"
        },
        "id": "cMaVDpPBM1f6",
        "outputId": "284e7da7-0852-4b12-a6a0-4915a606d32f"
      },
      "execution_count": null,
      "outputs": [
        {
          "output_type": "stream",
          "name": "stdout",
          "text": [
            "{}\n",
            "<class 'dict'>\n"
          ]
        }
      ]
    },
    {
      "cell_type": "code",
      "source": [
        "del(d2)"
      ],
      "metadata": {
        "id": "cH8lV35GM_BB"
      },
      "execution_count": null,
      "outputs": []
    },
    {
      "cell_type": "markdown",
      "source": [
        "Nested dictionary"
      ],
      "metadata": {
        "id": "t59Lb_84Nzbk"
      }
    },
    {
      "cell_type": "code",
      "source": [
        "plyrs={'p1':{'nm':'rohit','jrsy':45},\n",
        "       'p2':{'nm':'kohli','jrsy':18}\n",
        "       }\n",
        "for n,j in plyrs.items():\n",
        "  print(n,j)"
      ],
      "metadata": {
        "colab": {
          "base_uri": "https://localhost:8080/"
        },
        "id": "URGghjh3N1Xt",
        "outputId": "dbb5b901-117d-446b-e609-e3210df35373"
      },
      "execution_count": null,
      "outputs": [
        {
          "output_type": "stream",
          "name": "stdout",
          "text": [
            "p1 {'nm': 'rohit', 'jrsy': 45}\n",
            "p2 {'nm': 'kohli', 'jrsy': 18}\n"
          ]
        }
      ]
    },
    {
      "cell_type": "markdown",
      "source": [
        "Methods\n",
        "1. fromkeys"
      ],
      "metadata": {
        "id": "SFOtGjaKPa8a"
      }
    },
    {
      "cell_type": "code",
      "source": [
        "kys=[ 'k','v','s']\n",
        "vls =1122\n",
        "dct=dict.fromkeys(kys,vls)\n",
        "print(dct)"
      ],
      "metadata": {
        "colab": {
          "base_uri": "https://localhost:8080/"
        },
        "id": "qut1qA1tPd7p",
        "outputId": "76145019-2b84-4a3e-9878-64cc2e539925"
      },
      "execution_count": null,
      "outputs": [
        {
          "output_type": "stream",
          "name": "stdout",
          "text": [
            "{'k': 1122, 'v': 1122, 's': 1122}\n"
          ]
        }
      ]
    },
    {
      "cell_type": "code",
      "source": [
        "dct=dict.fromkeys(kys )\n",
        "print(dct)"
      ],
      "metadata": {
        "colab": {
          "base_uri": "https://localhost:8080/"
        },
        "id": "SElAr7DYPyzY",
        "outputId": "eeb49b76-0e17-45f3-9408-107eae75a662"
      },
      "execution_count": null,
      "outputs": [
        {
          "output_type": "stream",
          "name": "stdout",
          "text": [
            "{'k': None, 'v': None, 's': None}\n"
          ]
        }
      ]
    },
    {
      "cell_type": "markdown",
      "source": [
        "2. get"
      ],
      "metadata": {
        "id": "1BRmuHp9QEIX"
      }
    },
    {
      "cell_type": "code",
      "source": [
        "d={'k':11,'v':22,'s':19}\n",
        "print(d.get('k',-1))\n",
        "print(d.get('z',-1))"
      ],
      "metadata": {
        "colab": {
          "base_uri": "https://localhost:8080/"
        },
        "id": "v1hom522QFKi",
        "outputId": "7f6904bb-32b5-4830-ebb4-829de2c32a3e"
      },
      "execution_count": null,
      "outputs": [
        {
          "output_type": "stream",
          "name": "stdout",
          "text": [
            "11\n",
            "-1\n"
          ]
        }
      ]
    },
    {
      "cell_type": "markdown",
      "source": [
        "keys"
      ],
      "metadata": {
        "id": "v1q_l6PlRY74"
      }
    },
    {
      "cell_type": "code",
      "source": [
        "d={'k':11,'v':22,'s':19}\n",
        "for i in d.keys():\n",
        "  print(i,end=' ')"
      ],
      "metadata": {
        "colab": {
          "base_uri": "https://localhost:8080/"
        },
        "id": "3L2WooMhRZ1R",
        "outputId": "a1e3d0c6-2ed9-4aa2-a25f-d64cce50774a"
      },
      "execution_count": null,
      "outputs": [
        {
          "output_type": "stream",
          "name": "stdout",
          "text": [
            "k v s "
          ]
        }
      ]
    },
    {
      "cell_type": "code",
      "source": [
        "d={'k':11,'v':22,'s':19}\n",
        "for i in d :\n",
        "  print(i,end=' ')"
      ],
      "metadata": {
        "colab": {
          "base_uri": "https://localhost:8080/"
        },
        "id": "l_SKyyMLR0tx",
        "outputId": "7d73234c-e060-4f5c-978c-39f7ef48f7a7"
      },
      "execution_count": null,
      "outputs": [
        {
          "output_type": "stream",
          "name": "stdout",
          "text": [
            "k v s "
          ]
        }
      ]
    },
    {
      "cell_type": "markdown",
      "source": [
        "values"
      ],
      "metadata": {
        "id": "fbeITaatSIri"
      }
    },
    {
      "cell_type": "code",
      "source": [
        "d={'k':11,'v':22,'s':19}\n",
        "for i in d.values():\n",
        "  print(i,end=' ')"
      ],
      "metadata": {
        "colab": {
          "base_uri": "https://localhost:8080/"
        },
        "id": "71iMLvyDSGYK",
        "outputId": "97e26914-51f8-4d7f-cd28-4a76c3fb775d"
      },
      "execution_count": null,
      "outputs": [
        {
          "output_type": "stream",
          "name": "stdout",
          "text": [
            "11 22 19 "
          ]
        }
      ]
    },
    {
      "cell_type": "markdown",
      "source": [
        "items"
      ],
      "metadata": {
        "id": "ZoXR9aUdSbtE"
      }
    },
    {
      "cell_type": "code",
      "source": [
        "d={'k':11,'v':22,'s':19}\n",
        "for i in d.items():\n",
        "  print(i,end=' ')"
      ],
      "metadata": {
        "colab": {
          "base_uri": "https://localhost:8080/"
        },
        "id": "0X5p63b_SchT",
        "outputId": "8cc1c3cb-4260-4745-87b3-ca404ee49d9d"
      },
      "execution_count": null,
      "outputs": [
        {
          "output_type": "stream",
          "name": "stdout",
          "text": [
            "('k', 11) ('v', 22) ('s', 19) "
          ]
        }
      ]
    },
    {
      "cell_type": "markdown",
      "source": [
        "enumerate"
      ],
      "metadata": {
        "id": "YMpDiGssTBir"
      }
    },
    {
      "cell_type": "code",
      "source": [
        "for i,(j,k) in enumerate(d.items()):\n",
        "  print(i ,j,k)"
      ],
      "metadata": {
        "colab": {
          "base_uri": "https://localhost:8080/"
        },
        "id": "FfV6aMI1TDIJ",
        "outputId": "fa91dd49-8b9d-4ca6-8353-d598442eac0e"
      },
      "execution_count": null,
      "outputs": [
        {
          "output_type": "stream",
          "name": "stdout",
          "text": [
            "0 k 11\n",
            "1 v 22\n",
            "2 s 19\n"
          ]
        }
      ]
    },
    {
      "cell_type": "markdown",
      "source": [
        "pop"
      ],
      "metadata": {
        "id": "BdOzyMo6TzAN"
      }
    },
    {
      "cell_type": "markdown",
      "source": [
        "popitem"
      ],
      "metadata": {
        "id": "SpgODNbnVIog"
      }
    },
    {
      "cell_type": "markdown",
      "source": [
        "update"
      ],
      "metadata": {
        "id": "8RfUhaeSVKAL"
      }
    },
    {
      "cell_type": "markdown",
      "source": [
        "setdefault"
      ],
      "metadata": {
        "id": "OCqeWpNaVoGn"
      }
    },
    {
      "cell_type": "markdown",
      "source": [
        "copy"
      ],
      "metadata": {
        "id": "T6RTbbJUW9Xf"
      }
    },
    {
      "cell_type": "markdown",
      "source": [
        "clear"
      ],
      "metadata": {
        "id": "pZn-iWZwW-el"
      }
    },
    {
      "cell_type": "code",
      "source": [
        "dir(dict)"
      ],
      "metadata": {
        "colab": {
          "base_uri": "https://localhost:8080/"
        },
        "id": "rpve5k5dXCa3",
        "outputId": "2c9e684b-cb5b-4265-f206-88c07006c4f5"
      },
      "execution_count": null,
      "outputs": [
        {
          "output_type": "execute_result",
          "data": {
            "text/plain": [
              "['__class__',\n",
              " '__class_getitem__',\n",
              " '__contains__',\n",
              " '__delattr__',\n",
              " '__delitem__',\n",
              " '__dir__',\n",
              " '__doc__',\n",
              " '__eq__',\n",
              " '__format__',\n",
              " '__ge__',\n",
              " '__getattribute__',\n",
              " '__getitem__',\n",
              " '__gt__',\n",
              " '__hash__',\n",
              " '__init__',\n",
              " '__init_subclass__',\n",
              " '__ior__',\n",
              " '__iter__',\n",
              " '__le__',\n",
              " '__len__',\n",
              " '__lt__',\n",
              " '__ne__',\n",
              " '__new__',\n",
              " '__or__',\n",
              " '__reduce__',\n",
              " '__reduce_ex__',\n",
              " '__repr__',\n",
              " '__reversed__',\n",
              " '__ror__',\n",
              " '__setattr__',\n",
              " '__setitem__',\n",
              " '__sizeof__',\n",
              " '__str__',\n",
              " '__subclasshook__',\n",
              " 'clear',\n",
              " 'copy',\n",
              " 'fromkeys',\n",
              " 'get',\n",
              " 'items',\n",
              " 'keys',\n",
              " 'pop',\n",
              " 'popitem',\n",
              " 'setdefault',\n",
              " 'update',\n",
              " 'values']"
            ]
          },
          "metadata": {},
          "execution_count": 130
        }
      ]
    },
    {
      "cell_type": "markdown",
      "source": [
        "write a program that reads a string from the keyboard and creates dictionary containing frequency of each character occuring in the string\n",
        "\n",
        "\n"
      ],
      "metadata": {
        "id": "qgnznBpfXJDk"
      }
    },
    {
      "cell_type": "code",
      "source": [
        "name=input()\n",
        "freq={}\n",
        "for elt in name:\n",
        "  if elt in freq:\n",
        "    freq[elt]+=1\n",
        "  else:\n",
        "    freq[elt]=1\n",
        "print(freq)\n"
      ],
      "metadata": {
        "colab": {
          "base_uri": "https://localhost:8080/"
        },
        "id": "IQ1I0mVZXcJd",
        "outputId": "755b21a7-17c9-4535-9c11-0867cd4f8458"
      },
      "execution_count": null,
      "outputs": [
        {
          "output_type": "stream",
          "name": "stdout",
          "text": [
            "laxmiprasanna\n",
            "{'l': 1, 'a': 4, 'x': 1, 'm': 1, 'i': 1, 'p': 1, 'r': 1, 's': 1, 'n': 2}\n"
          ]
        }
      ]
    },
    {
      "cell_type": "markdown",
      "source": [
        "create a dictionary  of 3 usernames and passwords. receive the username and passwords from keyboard and search for them in the dictionary . print appropriate message on the screen based on whether a match is found or not."
      ],
      "metadata": {
        "id": "uffadcFhbVUw"
      }
    },
    {
      "cell_type": "code",
      "source": [
        "dct={'jasper':12345,'laxmi':34567,'prasanna':56789}\n",
        "un=input(\"Enter username: \")\n",
        "pw=int(input(\"Enter password: \"))\n",
        "if dct.get(un)==pw:\n",
        "  print(\"login successful\")\n",
        "else:\n",
        "  print(\"login failed\")"
      ],
      "metadata": {
        "colab": {
          "base_uri": "https://localhost:8080/"
        },
        "id": "H0moahKJb4H3",
        "outputId": "3419a552-f64f-4c95-830f-c3523635fde7"
      },
      "execution_count": null,
      "outputs": [
        {
          "output_type": "stream",
          "name": "stdout",
          "text": [
            "Enter username: jasper\n",
            "Enter password: 12345\n",
            "login successful\n"
          ]
        }
      ]
    },
    {
      "cell_type": "code",
      "source": [
        "person = {\n",
        "    \"name\": \"Jasper\",\n",
        "    \"country\": \"India\"\n",
        "}\n",
        "\n",
        "# Access and print each value using its key\n",
        "print(\"Name:\", person[\"name\"])\n",
        "\n",
        "print(\"Country:\", person[\"country\"])"
      ],
      "metadata": {
        "colab": {
          "base_uri": "https://localhost:8080/"
        },
        "id": "BpDh4YWnmwb5",
        "outputId": "db6169e7-25ab-4649-dc38-d4bef1d43933"
      },
      "execution_count": null,
      "outputs": [
        {
          "output_type": "stream",
          "name": "stdout",
          "text": [
            "Name: Jasper\n",
            "Country: India\n"
          ]
        }
      ]
    },
    {
      "cell_type": "code",
      "source": [
        "person[\"City\"] = \"Warangal\"\n",
        "print(person)\n"
      ],
      "metadata": {
        "colab": {
          "base_uri": "https://localhost:8080/"
        },
        "id": "7spwzR-k670c",
        "outputId": "114d5a95-69fb-4405-8ad6-09c5e717a20a"
      },
      "execution_count": null,
      "outputs": [
        {
          "output_type": "stream",
          "name": "stdout",
          "text": [
            "{'name': 'Jasper', 'country': 'India', 'City': 'Warangal'}\n"
          ]
        }
      ]
    },
    {
      "cell_type": "code",
      "source": [
        "key = \"City\"\n",
        "if key in person:\n",
        "    print(f\"The key '{key}' exists. Value: {person[key]}\")\n",
        "else:\n",
        "    print(f\"The key '{key}' does not exist.\")\n"
      ],
      "metadata": {
        "colab": {
          "base_uri": "https://localhost:8080/"
        },
        "id": "hFZAaX0q7l4A",
        "outputId": "79102376-dae3-47fc-aa2f-5ec99ec0c41d"
      },
      "execution_count": null,
      "outputs": [
        {
          "output_type": "stream",
          "name": "stdout",
          "text": [
            "The key 'City' exists. Value: Warangal\n"
          ]
        }
      ]
    },
    {
      "cell_type": "code",
      "source": [
        "for key, value in person.items():\n",
        "    print(f\"{key}: {value}\")\n"
      ],
      "metadata": {
        "colab": {
          "base_uri": "https://localhost:8080/"
        },
        "id": "cSxieJAf8GrF",
        "outputId": "a0e7b249-3825-4197-998f-880de38b9fdb"
      },
      "execution_count": null,
      "outputs": [
        {
          "output_type": "stream",
          "name": "stdout",
          "text": [
            "name: Jasper\n",
            "country: India\n",
            "City: Warangal\n"
          ]
        }
      ]
    },
    {
      "cell_type": "code",
      "source": [
        "person = {\n",
        "    \"name\": \"Jasper\",\n",
        "    \"country\": \"India\",\n",
        "    \"City\":\"Warangal\"\n",
        "}\n",
        "print(person)\n",
        "\n",
        "\n",
        "# Add a new key-value pair for \"City\"\n",
        "person[\"City\"] = \"Warangal\"\n",
        "del person[\"City\"]\n",
        "\n",
        "# Print the dictionary after removal\n",
        "print(person)\n",
        "\n",
        "# Alternatively, remove using 'pop()'\n",
        "removed_value = person.pop(\"country\")\n",
        "print(f\"Removed value: {removed_value}\")\n",
        "print(person)\n"
      ],
      "metadata": {
        "colab": {
          "base_uri": "https://localhost:8080/"
        },
        "id": "RS7CR4Oj9BGG",
        "outputId": "7f33ae81-674b-4e12-9af6-00447e110aab"
      },
      "execution_count": null,
      "outputs": [
        {
          "output_type": "stream",
          "name": "stdout",
          "text": [
            "{'name': 'Jasper', 'country': 'India', 'City': 'Warangal'}\n",
            "{'name': 'Jasper', 'country': 'India'}\n",
            "Removed value: India\n",
            "{'name': 'Jasper'}\n"
          ]
        }
      ]
    },
    {
      "cell_type": "markdown",
      "source": [
        "# **DAY 6 -  Functions & Recursive Functions**"
      ],
      "metadata": {
        "id": "1IdGQqDdTjk8"
      }
    },
    {
      "cell_type": "markdown",
      "source": [
        "Functions"
      ],
      "metadata": {
        "id": "nVEc3ojBTpXv"
      }
    },
    {
      "cell_type": "markdown",
      "source": [
        "with parameters and with return type:"
      ],
      "metadata": {
        "id": "Opn65tvZhX67"
      }
    },
    {
      "cell_type": "code",
      "source": [
        "def add(n1,n2): #function called #formal parameters\n",
        "  sm=n1+n2\n",
        "  return sm\n",
        "nmbr1=float(input(\"Enter first number: \"))\n",
        "nmbr2=float(input(\"Enter second number: \"))\n",
        "rs=add(nmbr1,nmbr2) #fun call #actual parameters\n",
        "print(f\"The sum  %.2f and  %.2f is   %.2f  \"%(nmbr1,nmbr2,rs))"
      ],
      "metadata": {
        "colab": {
          "base_uri": "https://localhost:8080/"
        },
        "id": "GcgxVn-3fczY",
        "outputId": "234df6e7-f74c-42ba-d846-0be5d294b6aa"
      },
      "execution_count": null,
      "outputs": [
        {
          "output_type": "stream",
          "name": "stdout",
          "text": [
            "Enter first number: 10.5\n",
            "Enter second number: 5.0\n",
            "The sum  10.50 and  5.00 is   15.50  \n"
          ]
        }
      ]
    },
    {
      "cell_type": "markdown",
      "source": [
        "with parameters and without return type"
      ],
      "metadata": {
        "id": "KZHGW3yziGqE"
      }
    },
    {
      "cell_type": "code",
      "source": [
        "def add(n1,n2): #function called #formal parameters\n",
        "  sm=n1+n2\n",
        "  print(f\"The sum  %.2f and  %.2f is   %.2f  \"%(n1,n2,sm))\n",
        "nmbr1=float(input(\"Enter first number: \"))\n",
        "nmbr2=float(input(\"Enter second number: \"))\n",
        "add(nmbr1,nmbr2)\n"
      ],
      "metadata": {
        "colab": {
          "base_uri": "https://localhost:8080/"
        },
        "id": "mQQTC2WAhoOh",
        "outputId": "fe6be620-0c71-48c4-af2e-799a69018d10"
      },
      "execution_count": null,
      "outputs": [
        {
          "output_type": "stream",
          "name": "stdout",
          "text": [
            "Enter first number: 10.5\n",
            "Enter second number: 5.0\n",
            "The sum  10.50 and  5.00 is   15.50  \n"
          ]
        }
      ]
    },
    {
      "cell_type": "markdown",
      "source": [
        "without parameters and without return type"
      ],
      "metadata": {
        "id": "iOq8EuULigSZ"
      }
    },
    {
      "cell_type": "code",
      "source": [
        "def add():\n",
        "  n1=float(input(\"Enter first number: \"))\n",
        "  n2=float(input(\"Enter second number: \"))\n",
        "  rs=n1+n2\n",
        "  print(f\"The sum  %.2f and  %.2f is   %.2f  \"%(n1,n2,rs))\n",
        "add()"
      ],
      "metadata": {
        "colab": {
          "base_uri": "https://localhost:8080/"
        },
        "id": "QGnFas4aik-j",
        "outputId": "58a8daa2-3b59-4aff-9a11-96d726c9493a"
      },
      "execution_count": null,
      "outputs": [
        {
          "output_type": "stream",
          "name": "stdout",
          "text": [
            "Enter first number: 10.5\n",
            "Enter second number: 5.0\n",
            "The sum  10.50 and  5.00 is   15.50  \n"
          ]
        }
      ]
    },
    {
      "cell_type": "markdown",
      "source": [
        "without parameters and with return type"
      ],
      "metadata": {
        "id": "dL9e5eHIjOAX"
      }
    },
    {
      "cell_type": "code",
      "source": [
        "def add():\n",
        "  n1=float(input(\"Enter first number: \"))\n",
        "  n2=float(input(\"Enter second number: \"))\n",
        "  sm=n1+n2n1\n",
        "  return sm\n",
        "rs=add()\n",
        "print(f\"The sum is   %.2f  \"%( rs))"
      ],
      "metadata": {
        "colab": {
          "base_uri": "https://localhost:8080/"
        },
        "id": "VP2a_uzQjSgo",
        "outputId": "d6c888b7-a8c6-4ff8-dec7-d77af66ab98c"
      },
      "execution_count": null,
      "outputs": [
        {
          "output_type": "stream",
          "name": "stdout",
          "text": [
            "Enter first number: 10.5\n",
            "Enter second number: 5.0\n",
            "The sum is   15.50  \n"
          ]
        }
      ]
    },
    {
      "cell_type": "code",
      "source": [
        "def name():\n",
        "  nm=input(\"Enter name: \")\n",
        "  print(\"Your name: \",nm)\n",
        "def rno():\n",
        "  rn= input(\"Enter roll number: \")\n",
        "  print(\"Your roll no.: \",rn)\n",
        "name()\n",
        "rno()"
      ],
      "metadata": {
        "colab": {
          "base_uri": "https://localhost:8080/"
        },
        "id": "9LBf2JB9kQl1",
        "outputId": "c7f638b6-2112-4661-e9a7-14e6e567961a"
      },
      "execution_count": null,
      "outputs": [
        {
          "output_type": "stream",
          "name": "stdout",
          "text": [
            "Enter name: jasper\n",
            "Your name:  jasper\n",
            "Enter roll number: 2203a51535\n",
            "Your roll no.:  2203a51535\n"
          ]
        }
      ]
    },
    {
      "cell_type": "code",
      "source": [
        "def nm():\n",
        "  pass\n",
        "nm #no error"
      ],
      "metadata": {
        "colab": {
          "base_uri": "https://localhost:8080/",
          "height": 104
        },
        "id": "XzHcTIGTl6c-",
        "outputId": "f7d19ed9-bf84-40e4-f901-8fb49936947d"
      },
      "execution_count": null,
      "outputs": [
        {
          "output_type": "execute_result",
          "data": {
            "text/plain": [
              "<function __main__.nm()>"
            ],
            "text/html": [
              "<div style=\"max-width:800px; border: 1px solid var(--colab-border-color);\"><style>\n",
              "      pre.function-repr-contents {\n",
              "        overflow-x: auto;\n",
              "        padding: 8px 12px;\n",
              "        max-height: 500px;\n",
              "      }\n",
              "\n",
              "      pre.function-repr-contents.function-repr-contents-collapsed {\n",
              "        cursor: pointer;\n",
              "        max-height: 100px;\n",
              "      }\n",
              "    </style>\n",
              "    <pre style=\"white-space: initial; background:\n",
              "         var(--colab-secondary-surface-color); padding: 8px 12px;\n",
              "         border-bottom: 1px solid var(--colab-border-color);\"><b>nm</b><br/>def nm()</pre><pre class=\"function-repr-contents function-repr-contents-collapsed\" style=\"\"><a class=\"filepath\" style=\"display:none\" href=\"#\">/content/&lt;ipython-input-12-12e7fc78be0b&gt;</a>&lt;no docstring&gt;</pre></div>"
            ]
          },
          "metadata": {},
          "execution_count": 12
        }
      ]
    },
    {
      "cell_type": "markdown",
      "source": [
        "local variables vs global variables"
      ],
      "metadata": {
        "id": "inmooxCkmSuK"
      }
    },
    {
      "cell_type": "code",
      "source": [
        "n1=1122\n",
        "def show():\n",
        "  n1=2191\n",
        "  n2=22191\n",
        "  print(n1)\n",
        "  print(n2)\n",
        "show()\n",
        "print(n1)\n",
        "#print(n2) #raises NameEroror"
      ],
      "metadata": {
        "colab": {
          "base_uri": "https://localhost:8080/"
        },
        "id": "snyYAWNfmV8w",
        "outputId": "6b10ae68-c7f3-4d36-9e1c-1564a5ed6495"
      },
      "execution_count": null,
      "outputs": [
        {
          "output_type": "stream",
          "name": "stdout",
          "text": [
            "2191\n",
            "22191\n",
            "1122\n"
          ]
        }
      ]
    },
    {
      "cell_type": "code",
      "source": [
        "n1=1122\n",
        "def show():\n",
        "  global n2\n",
        "  n2=2191\n",
        "  n3=22191\n",
        "  print(n1)\n",
        "  print(n2)\n",
        "  print(n3)\n",
        "show()\n",
        "print(n1)\n",
        "print(n2)"
      ],
      "metadata": {
        "colab": {
          "base_uri": "https://localhost:8080/"
        },
        "id": "243GoUM3qEeI",
        "outputId": "8281d69c-ea6a-4aa8-ac36-54f49952ff44"
      },
      "execution_count": null,
      "outputs": [
        {
          "output_type": "stream",
          "name": "stdout",
          "text": [
            "1122\n",
            "2191\n",
            "22191\n",
            "1122\n",
            "2191\n"
          ]
        }
      ]
    },
    {
      "cell_type": "markdown",
      "source": [
        "types of arguments\n",
        "1. positional arguments"
      ],
      "metadata": {
        "id": "lJOJdv9nviyc"
      }
    },
    {
      "cell_type": "code",
      "source": [
        "def details(n,r):\n",
        "  print(n.upper(),r)\n",
        "nm='k v'\n",
        "rnk=1122\n",
        "details(nm,rnk)"
      ],
      "metadata": {
        "colab": {
          "base_uri": "https://localhost:8080/"
        },
        "id": "Bb7w-4nFvlN0",
        "outputId": "62059271-8a52-4695-8c6a-d27a1e70109b"
      },
      "execution_count": null,
      "outputs": [
        {
          "output_type": "stream",
          "name": "stdout",
          "text": [
            "K V 1122\n"
          ]
        }
      ]
    },
    {
      "cell_type": "code",
      "source": [
        "def details(n,r):\n",
        "  print(n.upper(),r)\n",
        "nm='k v'\n",
        "rnk=1122\n",
        "details(rnk,nm) #raises error"
      ],
      "metadata": {
        "colab": {
          "base_uri": "https://localhost:8080/",
          "height": 311
        },
        "id": "-0pa9xofxBUx",
        "outputId": "8f6401a0-ccd3-45d5-a309-d6994bca73fa"
      },
      "execution_count": null,
      "outputs": [
        {
          "output_type": "error",
          "ename": "AttributeError",
          "evalue": "'int' object has no attribute 'upper'",
          "traceback": [
            "\u001b[0;31m---------------------------------------------------------------------------\u001b[0m",
            "\u001b[0;31mAttributeError\u001b[0m                            Traceback (most recent call last)",
            "\u001b[0;32m<ipython-input-20-7e0950a1a151>\u001b[0m in \u001b[0;36m<cell line: 5>\u001b[0;34m()\u001b[0m\n\u001b[1;32m      3\u001b[0m \u001b[0mnm\u001b[0m\u001b[0;34m=\u001b[0m\u001b[0;34m'k v'\u001b[0m\u001b[0;34m\u001b[0m\u001b[0;34m\u001b[0m\u001b[0m\n\u001b[1;32m      4\u001b[0m \u001b[0mrnk\u001b[0m\u001b[0;34m=\u001b[0m\u001b[0;36m1122\u001b[0m\u001b[0;34m\u001b[0m\u001b[0;34m\u001b[0m\u001b[0m\n\u001b[0;32m----> 5\u001b[0;31m \u001b[0mdetails\u001b[0m\u001b[0;34m(\u001b[0m\u001b[0mrnk\u001b[0m\u001b[0;34m,\u001b[0m\u001b[0mnm\u001b[0m\u001b[0;34m)\u001b[0m \u001b[0;31m#raises error\u001b[0m\u001b[0;34m\u001b[0m\u001b[0;34m\u001b[0m\u001b[0m\n\u001b[0m",
            "\u001b[0;32m<ipython-input-20-7e0950a1a151>\u001b[0m in \u001b[0;36mdetails\u001b[0;34m(n, r)\u001b[0m\n\u001b[1;32m      1\u001b[0m \u001b[0;32mdef\u001b[0m \u001b[0mdetails\u001b[0m\u001b[0;34m(\u001b[0m\u001b[0mn\u001b[0m\u001b[0;34m,\u001b[0m\u001b[0mr\u001b[0m\u001b[0;34m)\u001b[0m\u001b[0;34m:\u001b[0m\u001b[0;34m\u001b[0m\u001b[0;34m\u001b[0m\u001b[0m\n\u001b[0;32m----> 2\u001b[0;31m   \u001b[0mprint\u001b[0m\u001b[0;34m(\u001b[0m\u001b[0mn\u001b[0m\u001b[0;34m.\u001b[0m\u001b[0mupper\u001b[0m\u001b[0;34m(\u001b[0m\u001b[0;34m)\u001b[0m\u001b[0;34m,\u001b[0m\u001b[0mr\u001b[0m\u001b[0;34m)\u001b[0m\u001b[0;34m\u001b[0m\u001b[0;34m\u001b[0m\u001b[0m\n\u001b[0m\u001b[1;32m      3\u001b[0m \u001b[0mnm\u001b[0m\u001b[0;34m=\u001b[0m\u001b[0;34m'k v'\u001b[0m\u001b[0;34m\u001b[0m\u001b[0;34m\u001b[0m\u001b[0m\n\u001b[1;32m      4\u001b[0m \u001b[0mrnk\u001b[0m\u001b[0;34m=\u001b[0m\u001b[0;36m1122\u001b[0m\u001b[0;34m\u001b[0m\u001b[0;34m\u001b[0m\u001b[0m\n\u001b[1;32m      5\u001b[0m \u001b[0mdetails\u001b[0m\u001b[0;34m(\u001b[0m\u001b[0mrnk\u001b[0m\u001b[0;34m,\u001b[0m\u001b[0mnm\u001b[0m\u001b[0;34m)\u001b[0m \u001b[0;31m#raises error\u001b[0m\u001b[0;34m\u001b[0m\u001b[0;34m\u001b[0m\u001b[0m\n",
            "\u001b[0;31mAttributeError\u001b[0m: 'int' object has no attribute 'upper'"
          ]
        }
      ]
    },
    {
      "cell_type": "code",
      "source": [
        "def details(n):\n",
        "  print(n.upper(),r)\n",
        "nm='k v'\n",
        "rnk=1122\n",
        "details(rnk,nm)"
      ],
      "metadata": {
        "colab": {
          "base_uri": "https://localhost:8080/",
          "height": 183
        },
        "id": "S2z3-uPAxVMR",
        "outputId": "f3f128a4-ac1f-42ad-ee87-e46c343da664"
      },
      "execution_count": null,
      "outputs": [
        {
          "output_type": "error",
          "ename": "TypeError",
          "evalue": "details() takes 1 positional argument but 2 were given",
          "traceback": [
            "\u001b[0;31m---------------------------------------------------------------------------\u001b[0m",
            "\u001b[0;31mTypeError\u001b[0m                                 Traceback (most recent call last)",
            "\u001b[0;32m<ipython-input-21-6cf93f96cf0a>\u001b[0m in \u001b[0;36m<cell line: 5>\u001b[0;34m()\u001b[0m\n\u001b[1;32m      3\u001b[0m \u001b[0mnm\u001b[0m\u001b[0;34m=\u001b[0m\u001b[0;34m'k v'\u001b[0m\u001b[0;34m\u001b[0m\u001b[0;34m\u001b[0m\u001b[0m\n\u001b[1;32m      4\u001b[0m \u001b[0mrnk\u001b[0m\u001b[0;34m=\u001b[0m\u001b[0;36m1122\u001b[0m\u001b[0;34m\u001b[0m\u001b[0;34m\u001b[0m\u001b[0m\n\u001b[0;32m----> 5\u001b[0;31m \u001b[0mdetails\u001b[0m\u001b[0;34m(\u001b[0m\u001b[0mrnk\u001b[0m\u001b[0;34m,\u001b[0m\u001b[0mnm\u001b[0m\u001b[0;34m)\u001b[0m\u001b[0;34m\u001b[0m\u001b[0;34m\u001b[0m\u001b[0m\n\u001b[0m",
            "\u001b[0;31mTypeError\u001b[0m: details() takes 1 positional argument but 2 were given"
          ]
        }
      ]
    },
    {
      "cell_type": "code",
      "source": [
        "def details(n,r):\n",
        "  print(n.upper(),r)\n",
        "nm='k v'\n",
        "rnk=1122\n",
        "details(nm )"
      ],
      "metadata": {
        "colab": {
          "base_uri": "https://localhost:8080/",
          "height": 183
        },
        "id": "M1nl7VMFxdH4",
        "outputId": "387ad8d9-9446-41c8-969a-5936e1a0d2b2"
      },
      "execution_count": null,
      "outputs": [
        {
          "output_type": "error",
          "ename": "TypeError",
          "evalue": "details() missing 1 required positional argument: 'r'",
          "traceback": [
            "\u001b[0;31m---------------------------------------------------------------------------\u001b[0m",
            "\u001b[0;31mTypeError\u001b[0m                                 Traceback (most recent call last)",
            "\u001b[0;32m<ipython-input-22-e842e1c47c99>\u001b[0m in \u001b[0;36m<cell line: 5>\u001b[0;34m()\u001b[0m\n\u001b[1;32m      3\u001b[0m \u001b[0mnm\u001b[0m\u001b[0;34m=\u001b[0m\u001b[0;34m'k v'\u001b[0m\u001b[0;34m\u001b[0m\u001b[0;34m\u001b[0m\u001b[0m\n\u001b[1;32m      4\u001b[0m \u001b[0mrnk\u001b[0m\u001b[0;34m=\u001b[0m\u001b[0;36m1122\u001b[0m\u001b[0;34m\u001b[0m\u001b[0;34m\u001b[0m\u001b[0m\n\u001b[0;32m----> 5\u001b[0;31m \u001b[0mdetails\u001b[0m\u001b[0;34m(\u001b[0m\u001b[0mnm\u001b[0m \u001b[0;34m)\u001b[0m\u001b[0;34m\u001b[0m\u001b[0;34m\u001b[0m\u001b[0m\n\u001b[0m",
            "\u001b[0;31mTypeError\u001b[0m: details() missing 1 required positional argument: 'r'"
          ]
        }
      ]
    },
    {
      "cell_type": "markdown",
      "source": [
        "2. keyword arguments"
      ],
      "metadata": {
        "id": "k3En2-Z_xuwp"
      }
    },
    {
      "cell_type": "markdown",
      "source": [
        "4. variable length keyword arguments"
      ],
      "metadata": {
        "id": "32sx1qEV3Ttb"
      }
    },
    {
      "cell_type": "code",
      "source": [
        "def printit(**kwargs):\n",
        "  print()\n",
        "  for name, value in kwargs.items():\n",
        "    print(name,value,end=' ')\n",
        "printit(a=10)\n",
        "printit(a=10,b=3.14)\n",
        "printit(a=10,b=3.14,c='jasper')"
      ],
      "metadata": {
        "colab": {
          "base_uri": "https://localhost:8080/"
        },
        "id": "2SmV952U3XtC",
        "outputId": "f878290a-015c-4c8f-fc35-e2a5cf8d2e87"
      },
      "execution_count": null,
      "outputs": [
        {
          "output_type": "stream",
          "name": "stdout",
          "text": [
            "\n",
            "a 10 \n",
            "a 10 b 3.14 \n",
            "a 10 b 3.14 c jasper "
          ]
        }
      ]
    },
    {
      "cell_type": "markdown",
      "source": [
        "5. default arguments"
      ],
      "metadata": {
        "id": "GHFDFGo44ls3"
      }
    },
    {
      "cell_type": "code",
      "source": [
        "def dsply(nm, crs='BTech'):\n",
        "  print('Name: '+nm)\n",
        "  print('Course: '+crs)\n",
        "dsply(nm='jasper')\n",
        "dsply(crs='MCA',nm='laxmi')"
      ],
      "metadata": {
        "colab": {
          "base_uri": "https://localhost:8080/"
        },
        "id": "ZYQaXMm44n2R",
        "outputId": "6a57a903-8cbf-4747-8701-877937fa8b89"
      },
      "execution_count": null,
      "outputs": [
        {
          "output_type": "stream",
          "name": "stdout",
          "text": [
            "Name: jasper\n",
            "Course: BTech\n",
            "Name: laxmi\n",
            "Course: MCA\n"
          ]
        }
      ]
    },
    {
      "cell_type": "markdown",
      "source": [
        "documentation strings"
      ],
      "metadata": {
        "id": "8EX2z1HC6gSM"
      }
    },
    {
      "cell_type": "code",
      "source": [
        "def cb(x):\n",
        "  '''Cube of a number'''\n",
        "  return x**3\n",
        "\n",
        "print(cb.__doc__)\n",
        "cb(5)"
      ],
      "metadata": {
        "colab": {
          "base_uri": "https://localhost:8080/"
        },
        "id": "8ZEFyo436irq",
        "outputId": "700aa1e1-93bb-49c6-89f8-6c2637d49f8d"
      },
      "execution_count": null,
      "outputs": [
        {
          "output_type": "stream",
          "name": "stdout",
          "text": [
            "Cube of a number\n"
          ]
        },
        {
          "output_type": "execute_result",
          "data": {
            "text/plain": [
              "125"
            ]
          },
          "metadata": {},
          "execution_count": 27
        }
      ]
    },
    {
      "cell_type": "code",
      "source": [
        "def pca(l1,l2):\n",
        "  print(l1,l2)\n",
        "lst=[11,22,33,44]\n",
        "tpl=(55,66,77,)\n",
        "pca(lst,tpl)"
      ],
      "metadata": {
        "colab": {
          "base_uri": "https://localhost:8080/"
        },
        "id": "DlYUGHXe7fzV",
        "outputId": "903e8481-2bf8-42f3-c09a-4e342956e845"
      },
      "execution_count": null,
      "outputs": [
        {
          "output_type": "stream",
          "name": "stdout",
          "text": [
            "[11, 22, 33, 44] (55, 66, 77)\n"
          ]
        }
      ]
    },
    {
      "cell_type": "code",
      "source": [
        "def fn1(x):\n",
        "  return x+2\n",
        "def fn2(y):\n",
        "  print(y)\n",
        "fn2(fn1(5))"
      ],
      "metadata": {
        "colab": {
          "base_uri": "https://localhost:8080/"
        },
        "id": "q4_6vZ1V8-qk",
        "outputId": "071d284e-d866-48c0-965a-0c73d2de1460"
      },
      "execution_count": null,
      "outputs": [
        {
          "output_type": "stream",
          "name": "stdout",
          "text": [
            "7\n"
          ]
        }
      ]
    },
    {
      "cell_type": "markdown",
      "source": [
        " inner functions"
      ],
      "metadata": {
        "id": "-ZogU_w293Yi"
      }
    },
    {
      "cell_type": "code",
      "source": [
        "def outerfunc():\n",
        "  def innerfunc():\n",
        "    print('welcome to python')\n",
        "  innerfunc()\n",
        "outerfunc()"
      ],
      "metadata": {
        "colab": {
          "base_uri": "https://localhost:8080/"
        },
        "id": "eD2p_bS295Ig",
        "outputId": "70e4253e-2af4-4d27-a6fb-9d907f5e6c22"
      },
      "execution_count": null,
      "outputs": [
        {
          "output_type": "stream",
          "name": "stdout",
          "text": [
            "welcome to python\n"
          ]
        }
      ]
    },
    {
      "cell_type": "markdown",
      "source": [
        "recursive functions"
      ],
      "metadata": {
        "id": "ZwboCv_u-Wj8"
      }
    },
    {
      "cell_type": "code",
      "source": [
        "def gcdrec(n1,n2):\n",
        "  if n2==0:\n",
        "    return n1\n",
        "  else:\n",
        "    return gcdrec(n2,n1%n2)\n",
        "num1=48\n",
        "num2=18\n",
        "result=gcdrec(num1,num2)\n",
        "print(f\"GCD of {num1} and {num2} is: {result}\")"
      ],
      "metadata": {
        "colab": {
          "base_uri": "https://localhost:8080/"
        },
        "id": "ott3dQ6AUQ6d",
        "outputId": "b033ac3d-ff9a-480b-ab1f-24f5518948f2"
      },
      "execution_count": null,
      "outputs": [
        {
          "output_type": "stream",
          "name": "stdout",
          "text": [
            "GCD of 48 and 18 is: 6\n"
          ]
        }
      ]
    },
    {
      "cell_type": "code",
      "source": [
        "def gcd(n1,n2):\n",
        "  while n2!=0:\n",
        "    n1,n2=n2,n1%n2\n",
        "  return n1\n",
        "num1=48\n",
        "num2=18\n",
        "result=gcdrec(num1,num2)\n",
        "print(f\"GCD of {num1} and {num2} is: {result}\")"
      ],
      "metadata": {
        "colab": {
          "base_uri": "https://localhost:8080/"
        },
        "id": "PxpkHdteV4xm",
        "outputId": "aad5be2b-c924-42c2-e87a-38ade5cddb30"
      },
      "execution_count": null,
      "outputs": [
        {
          "output_type": "stream",
          "name": "stdout",
          "text": [
            "GCD of 48 and 18 is: 6\n"
          ]
        }
      ]
    },
    {
      "cell_type": "code",
      "source": [
        "def fun(x,y):\n",
        "  if x==0:\n",
        "    return y\n",
        "  else:\n",
        "    return fun(x-1,x*y)\n",
        "print(fun(4,2))"
      ],
      "metadata": {
        "colab": {
          "base_uri": "https://localhost:8080/"
        },
        "id": "G0IfOoM3X55d",
        "outputId": "e6d97f46-87d0-42f7-be30-ed32791b3699"
      },
      "execution_count": null,
      "outputs": [
        {
          "output_type": "stream",
          "name": "stdout",
          "text": [
            "48\n"
          ]
        }
      ]
    },
    {
      "cell_type": "code",
      "source": [
        "def fun(num):\n",
        "  if(num==0):\n",
        "    print(\"False\")\n",
        "  if num==1:\n",
        "    print(\"True\")\n",
        "  if num%2==0:\n",
        "    fun(num/2)\n",
        "fun(256)\n"
      ],
      "metadata": {
        "colab": {
          "base_uri": "https://localhost:8080/"
        },
        "id": "eMT-pr3gdToe",
        "outputId": "6e86b44f-6dad-4c46-fad9-b141ad86ce03"
      },
      "execution_count": null,
      "outputs": [
        {
          "output_type": "stream",
          "name": "stdout",
          "text": [
            "True\n"
          ]
        }
      ]
    },
    {
      "cell_type": "markdown",
      "source": [
        "filter function"
      ],
      "metadata": {
        "id": "Dqh45pa3e0Xg"
      }
    },
    {
      "cell_type": "code",
      "source": [
        "def evnchck(n):\n",
        "  return n%2==0\n",
        "nmbrs=range(21,29)\n",
        "evnlst=list(filter(evnchck,nmbrs)) # or list() or set() or tuple() or str()-> work on this\n",
        "print(evnlst);"
      ],
      "metadata": {
        "colab": {
          "base_uri": "https://localhost:8080/"
        },
        "id": "WHId4cEkexYK",
        "outputId": "8a6747e8-3b04-49b6-eed5-c356ce5b5abd"
      },
      "execution_count": null,
      "outputs": [
        {
          "output_type": "stream",
          "name": "stdout",
          "text": [
            "[22, 24, 26, 28]\n"
          ]
        }
      ]
    },
    {
      "cell_type": "markdown",
      "source": [
        "map function"
      ],
      "metadata": {
        "id": "7qwybzNNgarO"
      }
    },
    {
      "cell_type": "code",
      "source": [
        "def sqrt(x):\n",
        "  return x**2\n",
        "nmbrs=[1,2,3,4,5]\n",
        "sqrlst= map(sqrt,nmbrs)\n",
        "print(lis000t(sqrlst))"
      ],
      "metadata": {
        "colab": {
          "base_uri": "https://localhost:8080/"
        },
        "id": "irijNeajgb8l",
        "outputId": "f0ae8b70-a4ec-43ef-918b-c3cbd70ec619"
      },
      "execution_count": null,
      "outputs": [
        {
          "output_type": "stream",
          "name": "stdout",
          "text": [
            "[1, 4, 9, 16, 25]\n"
          ]
        }
      ]
    },
    {
      "cell_type": "markdown",
      "source": [
        "reduce function"
      ],
      "metadata": {
        "id": "3LXyYlXdhZ4G"
      }
    },
    {
      "cell_type": "code",
      "source": [
        "from functools import reduce\n",
        "def add(x,y):\n",
        "  return x+y\n",
        "nmbrs=[1,2,3,4,5]\n",
        "res=reduce(add,nmbrs)\n",
        "print(res)"
      ],
      "metadata": {
        "colab": {
          "base_uri": "https://localhost:8080/"
        },
        "id": "bWYA97ANhbtn",
        "outputId": "fc5b1598-e228-4f9b-bfc5-c04c5a77a7e9"
      },
      "execution_count": null,
      "outputs": [
        {
          "output_type": "stream",
          "name": "stdout",
          "text": [
            "15\n"
          ]
        }
      ]
    },
    {
      "cell_type": "code",
      "source": [
        "from functools import reduce\n",
        "def add(x,y):\n",
        "  return x*y\n",
        "nmbrs=[1,2,3,4,5]\n",
        "res=reduce(add,nmbrs)\n",
        "print(res)"
      ],
      "metadata": {
        "colab": {
          "base_uri": "https://localhost:8080/"
        },
        "id": "Ar__eRFdiRk3",
        "outputId": "70cbe795-8a91-4009-ce72-a49019bf4d9c"
      },
      "execution_count": null,
      "outputs": [
        {
          "output_type": "stream",
          "name": "stdout",
          "text": [
            "120\n"
          ]
        }
      ]
    },
    {
      "cell_type": "code",
      "source": [
        "def count_alphabets_digits(str1):\n",
        "  dct={'calpha':0,'cdigits':0}\n",
        "  for char in str1:\n",
        "    if char.isalpha():\n",
        "      dct['calpha']+=1\n",
        "    if char.isnumeric():\n",
        "      dct['cdigits']+=1\n",
        "  return dct\n",
        "str1=input()\n",
        "res=count_alphabets_digits(str1)\n",
        "print(res)"
      ],
      "metadata": {
        "colab": {
          "base_uri": "https://localhost:8080/"
        },
        "id": "xIxN_0VvjPKm",
        "outputId": "95fce410-541f-477d-bca2-aec60ba127fa"
      },
      "execution_count": null,
      "outputs": [
        {
          "output_type": "stream",
          "name": "stdout",
          "text": [
            "2203a51535\n",
            "{'calpha': 1, 'cdigits': 9}\n"
          ]
        }
      ]
    },
    {
      "cell_type": "markdown",
      "source": [
        "a string is entered through keyboard . write a recursive function to count the number of vowels in the string"
      ],
      "metadata": {
        "id": "PbwcE4shm-B9"
      }
    },
    {
      "cell_type": "code",
      "source": [
        "def countvowels(str2):\n",
        "  vowels='aeiouAEIOU'\n",
        "  if len(str2)==0:\n",
        "    return 0\n",
        "  elif str2[0] in vowels:\n",
        "    return 1+countvowels(str2[1:])\n",
        "  else:\n",
        "    return countvowels(str2[1:])\n",
        "str2=input()\n",
        "res=countvowels(str2)\n",
        "print(res)"
      ],
      "metadata": {
        "colab": {
          "base_uri": "https://localhost:8080/"
        },
        "id": "QoWK6rBUnHYl",
        "outputId": "bda2ff26-fccf-4fbe-f462-9b1e46f91c87"
      },
      "execution_count": null,
      "outputs": [
        {
          "output_type": "stream",
          "name": "stdout",
          "text": [
            "hello world\n",
            "3\n"
          ]
        }
      ]
    },
    {
      "cell_type": "code",
      "source": [
        "def count_vowels(s, index=0, count=0):\n",
        "    if index == len(s):\n",
        "        return count\n",
        "    if s[index].lower() in 'aeiou':\n",
        "        count += 1\n",
        "    return count_vowels(s, index + 1, count)\n",
        "string = input( )\n",
        "vowel_count = count_vowels(string)\n",
        "print( vowel_count  )\n"
      ],
      "metadata": {
        "colab": {
          "base_uri": "https://localhost:8080/"
        },
        "id": "mlPu1NEWqnuD",
        "outputId": "6b61a16d-acd4-4a43-9f96-5e50b8726afe"
      },
      "execution_count": null,
      "outputs": [
        {
          "output_type": "stream",
          "name": "stdout",
          "text": [
            "jdfgwertrsadf\n",
            "2\n"
          ]
        }
      ]
    },
    {
      "cell_type": "code",
      "source": [
        "def remove_tabs_using_translate(input_string):\n",
        "    return input_string.translate(str.maketrans('', '', '\\t'))\n",
        "\n",
        "# Example\n",
        "input_str = \"Hello\\tWorld\"\n",
        "print(remove_tabs_using_translate(input_str))\n"
      ],
      "metadata": {
        "id": "Qe65r4XhsW7B",
        "colab": {
          "base_uri": "https://localhost:8080/"
        },
        "outputId": "3335dada-46e6-4b93-fee9-202a861d36bb"
      },
      "execution_count": null,
      "outputs": [
        {
          "output_type": "stream",
          "name": "stdout",
          "text": [
            "HelloWorld\n"
          ]
        }
      ]
    },
    {
      "cell_type": "markdown",
      "source": [
        "decorative function and lambda function"
      ],
      "metadata": {
        "id": "_DfnXa9Fo_-U"
      }
    },
    {
      "cell_type": "code",
      "source": [
        "def fun(num):\n",
        "  if num>100:\n",
        "    return num-10\n",
        "  return fun(fun(num+11))\n",
        "print(fun(75))"
      ],
      "metadata": {
        "colab": {
          "base_uri": "https://localhost:8080/"
        },
        "id": "dtxjvyPK-STs",
        "outputId": "fd9dbe37-7d00-49ae-c67f-35f27a63e1bd"
      },
      "execution_count": null,
      "outputs": [
        {
          "output_type": "stream",
          "name": "stdout",
          "text": [
            "91\n"
          ]
        }
      ]
    },
    {
      "cell_type": "markdown",
      "source": [
        "# **DAY 7 - Modules, Packages, Exceptional Handling**"
      ],
      "metadata": {
        "id": "1-ESCbnlnEGb"
      }
    },
    {
      "cell_type": "markdown",
      "source": [
        "Module, package and exception handling"
      ],
      "metadata": {
        "id": "7scHXmwSo-n-"
      }
    },
    {
      "cell_type": "markdown",
      "source": [
        "Module"
      ],
      "metadata": {
        "id": "e1LYdRmipM46"
      }
    },
    {
      "cell_type": "code",
      "source": [
        "def nm():\n",
        "  print('Name: ---')\n",
        "def rno():\n",
        "  print('Roll No.:---')\n",
        "\n",
        "print(__name__)\n",
        "nm()\n",
        "rno()"
      ],
      "metadata": {
        "colab": {
          "base_uri": "https://localhost:8080/"
        },
        "id": "NwyaO02lnJNb",
        "outputId": "60393f75-72f1-4f8a-c6da-d9eaca068a73"
      },
      "execution_count": null,
      "outputs": [
        {
          "output_type": "stream",
          "name": "stdout",
          "text": [
            "__main__\n",
            "Name: ---\n",
            "Roll No.:---\n"
          ]
        }
      ]
    },
    {
      "cell_type": "code",
      "source": [
        "def nm():\n",
        "  print('Name: ---')\n",
        "def rno():\n",
        "  print('Roll No.:---')\n",
        "def main():\n",
        "  nm()\n",
        "  rno()\n",
        "if __name__=='__main__':\n",
        "  main()"
      ],
      "metadata": {
        "colab": {
          "base_uri": "https://localhost:8080/"
        },
        "id": "PDj0dQAerEWw",
        "outputId": "e02c1f3c-dabe-49fc-9b0f-d719d2369274"
      },
      "execution_count": null,
      "outputs": [
        {
          "output_type": "stream",
          "name": "stdout",
          "text": [
            "Name: ---\n",
            "Roll No.:---\n"
          ]
        }
      ]
    },
    {
      "cell_type": "markdown",
      "source": [
        "Importing a module"
      ],
      "metadata": {
        "id": "Qdy16hTQsBRx"
      }
    },
    {
      "cell_type": "code",
      "source": [
        "def nm():\n",
        "  print('Name:Jasper')\n",
        "def idd():\n",
        "  print('ID No.:  1535')"
      ],
      "metadata": {
        "id": "Vnt3VxpksEqk"
      },
      "execution_count": null,
      "outputs": []
    },
    {
      "cell_type": "code",
      "source": [
        "import employee\n",
        "employee.nm()\n",
        "employee.idd()"
      ],
      "metadata": {
        "colab": {
          "base_uri": "https://localhost:8080/",
          "height": 363
        },
        "id": "7vD1iQETuzIH",
        "outputId": "83909719-0e77-4f82-bb1b-4648ed18356e"
      },
      "execution_count": null,
      "outputs": [
        {
          "output_type": "error",
          "ename": "ModuleNotFoundError",
          "evalue": "No module named 'employee'",
          "traceback": [
            "\u001b[0;31m---------------------------------------------------------------------------\u001b[0m",
            "\u001b[0;31mModuleNotFoundError\u001b[0m                       Traceback (most recent call last)",
            "\u001b[0;32m<ipython-input-4-1c6169c37e52>\u001b[0m in \u001b[0;36m<cell line: 1>\u001b[0;34m()\u001b[0m\n\u001b[0;32m----> 1\u001b[0;31m \u001b[0;32mimport\u001b[0m \u001b[0memployee\u001b[0m\u001b[0;34m\u001b[0m\u001b[0;34m\u001b[0m\u001b[0m\n\u001b[0m\u001b[1;32m      2\u001b[0m \u001b[0memployee\u001b[0m\u001b[0;34m.\u001b[0m\u001b[0mnm\u001b[0m\u001b[0;34m(\u001b[0m\u001b[0;34m)\u001b[0m\u001b[0;34m\u001b[0m\u001b[0;34m\u001b[0m\u001b[0m\n\u001b[1;32m      3\u001b[0m \u001b[0memployee\u001b[0m\u001b[0;34m.\u001b[0m\u001b[0midd\u001b[0m\u001b[0;34m(\u001b[0m\u001b[0;34m)\u001b[0m\u001b[0;34m\u001b[0m\u001b[0;34m\u001b[0m\u001b[0m\n",
            "\u001b[0;31mModuleNotFoundError\u001b[0m: No module named 'employee'",
            "",
            "\u001b[0;31m---------------------------------------------------------------------------\u001b[0;32m\nNOTE: If your import is failing due to a missing package, you can\nmanually install dependencies using either !pip or !apt.\n\nTo view examples of installing some common dependencies, click the\n\"Open Examples\" button below.\n\u001b[0;31m---------------------------------------------------------------------------\u001b[0m\n"
          ],
          "errorDetails": {
            "actions": [
              {
                "action": "open_url",
                "actionText": "Open Examples",
                "url": "/notebooks/snippets/importing_libraries.ipynb"
              }
            ]
          }
        }
      ]
    },
    {
      "cell_type": "markdown",
      "source": [
        "Math module"
      ],
      "metadata": {
        "id": "sj4rBOCFvQJI"
      }
    },
    {
      "cell_type": "code",
      "source": [
        "import math\n",
        "dir(math)"
      ],
      "metadata": {
        "colab": {
          "base_uri": "https://localhost:8080/"
        },
        "id": "sRsh8gV4vSWb",
        "outputId": "c5eb6b89-38b6-4b91-d8b9-79b853a4d4b9"
      },
      "execution_count": null,
      "outputs": [
        {
          "output_type": "execute_result",
          "data": {
            "text/plain": [
              "['__doc__',\n",
              " '__loader__',\n",
              " '__name__',\n",
              " '__package__',\n",
              " '__spec__',\n",
              " 'acos',\n",
              " 'acosh',\n",
              " 'asin',\n",
              " 'asinh',\n",
              " 'atan',\n",
              " 'atan2',\n",
              " 'atanh',\n",
              " 'ceil',\n",
              " 'comb',\n",
              " 'copysign',\n",
              " 'cos',\n",
              " 'cosh',\n",
              " 'degrees',\n",
              " 'dist',\n",
              " 'e',\n",
              " 'erf',\n",
              " 'erfc',\n",
              " 'exp',\n",
              " 'expm1',\n",
              " 'fabs',\n",
              " 'factorial',\n",
              " 'floor',\n",
              " 'fmod',\n",
              " 'frexp',\n",
              " 'fsum',\n",
              " 'gamma',\n",
              " 'gcd',\n",
              " 'hypot',\n",
              " 'inf',\n",
              " 'isclose',\n",
              " 'isfinite',\n",
              " 'isinf',\n",
              " 'isnan',\n",
              " 'isqrt',\n",
              " 'lcm',\n",
              " 'ldexp',\n",
              " 'lgamma',\n",
              " 'log',\n",
              " 'log10',\n",
              " 'log1p',\n",
              " 'log2',\n",
              " 'modf',\n",
              " 'nan',\n",
              " 'nextafter',\n",
              " 'perm',\n",
              " 'pi',\n",
              " 'pow',\n",
              " 'prod',\n",
              " 'radians',\n",
              " 'remainder',\n",
              " 'sin',\n",
              " 'sinh',\n",
              " 'sqrt',\n",
              " 'tan',\n",
              " 'tanh',\n",
              " 'tau',\n",
              " 'trunc',\n",
              " 'ulp']"
            ]
          },
          "metadata": {},
          "execution_count": 5
        }
      ]
    },
    {
      "cell_type": "code",
      "source": [
        "import math\n",
        "math.pi\n",
        "math.e\n",
        "math.factorial(5)\n",
        "math.floor(1122.35)\n",
        "math.gcd(50,90)"
      ],
      "metadata": {
        "colab": {
          "base_uri": "https://localhost:8080/"
        },
        "id": "w_QzrdkHw0bd",
        "outputId": "145fb1c9-6585-4ec9-d8df-98245d3858c2"
      },
      "execution_count": null,
      "outputs": [
        {
          "output_type": "execute_result",
          "data": {
            "text/plain": [
              "10"
            ]
          },
          "metadata": {},
          "execution_count": 6
        }
      ]
    },
    {
      "cell_type": "markdown",
      "source": [
        "Importing the individual resurces"
      ],
      "metadata": {
        "id": "yJndfzEWxA35"
      }
    },
    {
      "cell_type": "code",
      "source": [
        "from math import pi,e\n",
        "print(pi)\n",
        "print(e) # we cant import other than pi,e"
      ],
      "metadata": {
        "colab": {
          "base_uri": "https://localhost:8080/"
        },
        "id": "YaDrd-gHw_KZ",
        "outputId": "3e96557c-d6a5-494a-a424-2ec1985a59f2"
      },
      "execution_count": null,
      "outputs": [
        {
          "output_type": "stream",
          "name": "stdout",
          "text": [
            "3.141592653589793\n",
            "2.718281828459045\n"
          ]
        }
      ]
    },
    {
      "cell_type": "markdown",
      "source": [
        "time Module"
      ],
      "metadata": {
        "id": "bHL_-mVTxsxj"
      }
    },
    {
      "cell_type": "code",
      "source": [
        "import time\n",
        "dir(time)"
      ],
      "metadata": {
        "colab": {
          "base_uri": "https://localhost:8080/"
        },
        "id": "Yg_J7v0GxuSa",
        "outputId": "f9366bcc-7f8d-41dc-fa77-a75ee455c17d"
      },
      "execution_count": null,
      "outputs": [
        {
          "output_type": "execute_result",
          "data": {
            "text/plain": [
              "['CLOCK_BOOTTIME',\n",
              " 'CLOCK_MONOTONIC',\n",
              " 'CLOCK_MONOTONIC_RAW',\n",
              " 'CLOCK_PROCESS_CPUTIME_ID',\n",
              " 'CLOCK_REALTIME',\n",
              " 'CLOCK_TAI',\n",
              " 'CLOCK_THREAD_CPUTIME_ID',\n",
              " '_STRUCT_TM_ITEMS',\n",
              " '__doc__',\n",
              " '__loader__',\n",
              " '__name__',\n",
              " '__package__',\n",
              " '__spec__',\n",
              " 'altzone',\n",
              " 'asctime',\n",
              " 'clock_getres',\n",
              " 'clock_gettime',\n",
              " 'clock_gettime_ns',\n",
              " 'clock_settime',\n",
              " 'clock_settime_ns',\n",
              " 'ctime',\n",
              " 'daylight',\n",
              " 'get_clock_info',\n",
              " 'gmtime',\n",
              " 'localtime',\n",
              " 'mktime',\n",
              " 'monotonic',\n",
              " 'monotonic_ns',\n",
              " 'perf_counter',\n",
              " 'perf_counter_ns',\n",
              " 'process_time',\n",
              " 'process_time_ns',\n",
              " 'pthread_getcpuclockid',\n",
              " 'sleep',\n",
              " 'strftime',\n",
              " 'strptime',\n",
              " 'struct_time',\n",
              " 'thread_time',\n",
              " 'thread_time_ns',\n",
              " 'time',\n",
              " 'time_ns',\n",
              " 'timezone',\n",
              " 'tzname',\n",
              " 'tzset']"
            ]
          },
          "metadata": {},
          "execution_count": 8
        }
      ]
    },
    {
      "cell_type": "code",
      "source": [
        "time.time()"
      ],
      "metadata": {
        "colab": {
          "base_uri": "https://localhost:8080/"
        },
        "id": "ayGRgnYNx_Tx",
        "outputId": "df830c80-f9a0-4608-b587-c7efa4eb1af1"
      },
      "execution_count": null,
      "outputs": [
        {
          "output_type": "execute_result",
          "data": {
            "text/plain": [
              "1734928241.5997267"
            ]
          },
          "metadata": {},
          "execution_count": 9
        }
      ]
    },
    {
      "cell_type": "code",
      "source": [
        "time.altzone"
      ],
      "metadata": {
        "colab": {
          "base_uri": "https://localhost:8080/"
        },
        "id": "8C_BbztSyHrg",
        "outputId": "b1c403c1-a76b-4147-a433-13a879b046b3"
      },
      "execution_count": null,
      "outputs": [
        {
          "output_type": "execute_result",
          "data": {
            "text/plain": [
              "0"
            ]
          },
          "metadata": {},
          "execution_count": 12
        }
      ]
    },
    {
      "cell_type": "code",
      "source": [
        "time.asctime()"
      ],
      "metadata": {
        "colab": {
          "base_uri": "https://localhost:8080/",
          "height": 36
        },
        "id": "SkbOk0lEyP6c",
        "outputId": "42e15aa2-c7e1-415c-a840-8380050add99"
      },
      "execution_count": null,
      "outputs": [
        {
          "output_type": "execute_result",
          "data": {
            "text/plain": [
              "'Mon Dec 23 04:31:48 2024'"
            ],
            "application/vnd.google.colaboratory.intrinsic+json": {
              "type": "string"
            }
          },
          "metadata": {},
          "execution_count": 13
        }
      ]
    },
    {
      "cell_type": "code",
      "source": [
        "time.clock_getres"
      ],
      "metadata": {
        "colab": {
          "base_uri": "https://localhost:8080/"
        },
        "id": "-wYSqJdFyaGR",
        "outputId": "cdb32b5e-6fec-4bd3-f23b-cee5e10890f4"
      },
      "execution_count": null,
      "outputs": [
        {
          "output_type": "execute_result",
          "data": {
            "text/plain": [
              "<function time.clock_getres>"
            ]
          },
          "metadata": {},
          "execution_count": 15
        }
      ]
    },
    {
      "cell_type": "code",
      "source": [
        "time.clock_gettime"
      ],
      "metadata": {
        "colab": {
          "base_uri": "https://localhost:8080/"
        },
        "id": "VrjxSj43ymPr",
        "outputId": "320907bf-2526-431a-9065-adf581259858"
      },
      "execution_count": null,
      "outputs": [
        {
          "output_type": "execute_result",
          "data": {
            "text/plain": [
              "<function time.clock_gettime>"
            ]
          },
          "metadata": {},
          "execution_count": 16
        }
      ]
    },
    {
      "cell_type": "code",
      "source": [
        "time.daylight"
      ],
      "metadata": {
        "colab": {
          "base_uri": "https://localhost:8080/"
        },
        "id": "mqTD7DP3yvwT",
        "outputId": "baf68746-07cb-43da-d7f7-c4fdb6bf846a"
      },
      "execution_count": null,
      "outputs": [
        {
          "output_type": "execute_result",
          "data": {
            "text/plain": [
              "0"
            ]
          },
          "metadata": {},
          "execution_count": 18
        }
      ]
    },
    {
      "cell_type": "code",
      "source": [
        "time.sleep(5)"
      ],
      "metadata": {
        "id": "6zHMMAeUy60M"
      },
      "execution_count": null,
      "outputs": []
    },
    {
      "cell_type": "code",
      "source": [
        "time.localtime()"
      ],
      "metadata": {
        "colab": {
          "base_uri": "https://localhost:8080/"
        },
        "id": "CqT0oPqnzQ64",
        "outputId": "bc06222e-1f51-4c82-b74a-78ea92675298"
      },
      "execution_count": null,
      "outputs": [
        {
          "output_type": "execute_result",
          "data": {
            "text/plain": [
              "time.struct_time(tm_year=2024, tm_mon=12, tm_mday=23, tm_hour=4, tm_min=36, tm_sec=17, tm_wday=0, tm_yday=358, tm_isdst=0)"
            ]
          },
          "metadata": {},
          "execution_count": 23
        }
      ]
    },
    {
      "cell_type": "code",
      "source": [
        "time.gmtime()"
      ],
      "metadata": {
        "colab": {
          "base_uri": "https://localhost:8080/"
        },
        "id": "crfBc21-4iqe",
        "outputId": "9b4f4cf6-2316-4493-d3e1-14143d108ac3"
      },
      "execution_count": null,
      "outputs": [
        {
          "output_type": "execute_result",
          "data": {
            "text/plain": [
              "time.struct_time(tm_year=2024, tm_mon=12, tm_mday=23, tm_hour=4, tm_min=59, tm_sec=19, tm_wday=0, tm_yday=358, tm_isdst=0)"
            ]
          },
          "metadata": {},
          "execution_count": 35
        }
      ]
    },
    {
      "cell_type": "code",
      "source": [
        "t=time.localtime()\n",
        "print(t.tm_mday,':',t.tm_mon,':',t.tm_year)\n",
        "print(t.tm_mon)\n",
        "print(t.tm_mday)\n",
        "t1=time.asctime()\n",
        "print(t1)#\n",
        "print(t.tm_year,',',t1 [ 4:7],t.tm_mday )"
      ],
      "metadata": {
        "colab": {
          "base_uri": "https://localhost:8080/"
        },
        "id": "uHJ-zWUyztTP",
        "outputId": "a3367882-e770-46b9-c9bd-67fb540b3def"
      },
      "execution_count": null,
      "outputs": [
        {
          "output_type": "stream",
          "name": "stdout",
          "text": [
            "23 : 12 : 2024\n",
            "12\n",
            "23\n",
            "Mon Dec 23 04:58:13 2024\n",
            "2024 , Dec 23\n"
          ]
        }
      ]
    },
    {
      "cell_type": "code",
      "source": [
        "print(time.strftime('%H:%M:%S'))"
      ],
      "metadata": {
        "colab": {
          "base_uri": "https://localhost:8080/"
        },
        "id": "XZ4m6NP05_Xq",
        "outputId": "e940df7f-07d9-40ec-fe8e-25bcf7d0c3b7"
      },
      "execution_count": null,
      "outputs": [
        {
          "output_type": "stream",
          "name": "stdout",
          "text": [
            "05:06:07\n"
          ]
        }
      ]
    },
    {
      "cell_type": "code",
      "source": [
        "import time\n",
        "def trffcsgnl():\n",
        "  print( \"Red light - Stop!\")\n",
        "  time.sleep(10)\n",
        "  print(\"Yellow light - Prepare to stop!\")\n",
        "  time.sleep(5)\n",
        "  print(\"Green light - Go!\")\n",
        "for _ in range(3):\n",
        "  trffcsgnl()"
      ],
      "metadata": {
        "colab": {
          "base_uri": "https://localhost:8080/"
        },
        "id": "D93lQ2_66RTR",
        "outputId": "03a0d768-6443-402d-be38-c6f290e77e80"
      },
      "execution_count": null,
      "outputs": [
        {
          "output_type": "stream",
          "name": "stdout",
          "text": [
            "Red light - Stop!\n",
            "Yellow light - Prepare to stop!\n",
            "Green light - Go!\n",
            "Red light - Stop!\n",
            "Yellow light - Prepare to stop!\n",
            "Green light - Go!\n",
            "Red light - Stop!\n",
            "Yellow light - Prepare to stop!\n",
            "Green light - Go!\n"
          ]
        }
      ]
    },
    {
      "cell_type": "markdown",
      "source": [
        "random Module"
      ],
      "metadata": {
        "id": "9r-yPTbABgTT"
      }
    },
    {
      "cell_type": "code",
      "source": [
        "import random\n",
        "dir(random)"
      ],
      "metadata": {
        "colab": {
          "base_uri": "https://localhost:8080/"
        },
        "id": "hclzqdkaBiPw",
        "outputId": "c34fd088-19dc-4ad7-cc71-afabbf54a43d"
      },
      "execution_count": null,
      "outputs": [
        {
          "output_type": "execute_result",
          "data": {
            "text/plain": [
              "['BPF',\n",
              " 'LOG4',\n",
              " 'NV_MAGICCONST',\n",
              " 'RECIP_BPF',\n",
              " 'Random',\n",
              " 'SG_MAGICCONST',\n",
              " 'SystemRandom',\n",
              " 'TWOPI',\n",
              " '_ONE',\n",
              " '_Sequence',\n",
              " '_Set',\n",
              " '__all__',\n",
              " '__builtins__',\n",
              " '__cached__',\n",
              " '__doc__',\n",
              " '__file__',\n",
              " '__loader__',\n",
              " '__name__',\n",
              " '__package__',\n",
              " '__spec__',\n",
              " '_accumulate',\n",
              " '_acos',\n",
              " '_bisect',\n",
              " '_ceil',\n",
              " '_cos',\n",
              " '_e',\n",
              " '_exp',\n",
              " '_floor',\n",
              " '_index',\n",
              " '_inst',\n",
              " '_isfinite',\n",
              " '_log',\n",
              " '_os',\n",
              " '_pi',\n",
              " '_random',\n",
              " '_repeat',\n",
              " '_sha512',\n",
              " '_sin',\n",
              " '_sqrt',\n",
              " '_test',\n",
              " '_test_generator',\n",
              " '_urandom',\n",
              " '_warn',\n",
              " 'betavariate',\n",
              " 'choice',\n",
              " 'choices',\n",
              " 'expovariate',\n",
              " 'gammavariate',\n",
              " 'gauss',\n",
              " 'getrandbits',\n",
              " 'getstate',\n",
              " 'lognormvariate',\n",
              " 'normalvariate',\n",
              " 'paretovariate',\n",
              " 'randbytes',\n",
              " 'randint',\n",
              " 'random',\n",
              " 'randrange',\n",
              " 'sample',\n",
              " 'seed',\n",
              " 'setstate',\n",
              " 'shuffle',\n",
              " 'triangular',\n",
              " 'uniform',\n",
              " 'vonmisesvariate',\n",
              " 'weibullvariate']"
            ]
          },
          "metadata": {},
          "execution_count": 41
        }
      ]
    },
    {
      "cell_type": "code",
      "source": [
        "import random as rn\n",
        "rn.random()"
      ],
      "metadata": {
        "colab": {
          "base_uri": "https://localhost:8080/"
        },
        "id": "VkjUaHxlB-Q3",
        "outputId": "779e66fb-4448-4c8f-b447-e367d6674229"
      },
      "execution_count": null,
      "outputs": [
        {
          "output_type": "execute_result",
          "data": {
            "text/plain": [
              "0.6139484321233536"
            ]
          },
          "metadata": {},
          "execution_count": 48
        }
      ]
    },
    {
      "cell_type": "code",
      "source": [
        "rn.choice('jasper')"
      ],
      "metadata": {
        "colab": {
          "base_uri": "https://localhost:8080/",
          "height": 36
        },
        "id": "JCf2BqMTCSk0",
        "outputId": "463a99e3-0132-46d2-f5fc-41bea4f1a390"
      },
      "execution_count": null,
      "outputs": [
        {
          "output_type": "execute_result",
          "data": {
            "text/plain": [
              "'j'"
            ],
            "application/vnd.google.colaboratory.intrinsic+json": {
              "type": "string"
            }
          },
          "metadata": {},
          "execution_count": 57
        }
      ]
    },
    {
      "cell_type": "code",
      "source": [
        "rn.choices('jasper',k=3)"
      ],
      "metadata": {
        "colab": {
          "base_uri": "https://localhost:8080/"
        },
        "id": "0gD7_xNOClgc",
        "outputId": "055608d5-b33c-43d0-e1f4-82dfdd263d56"
      },
      "execution_count": null,
      "outputs": [
        {
          "output_type": "execute_result",
          "data": {
            "text/plain": [
              "['s', 'r', 'a']"
            ]
          },
          "metadata": {},
          "execution_count": 59
        }
      ]
    },
    {
      "cell_type": "code",
      "source": [
        "rn.randint(123,1234)"
      ],
      "metadata": {
        "colab": {
          "base_uri": "https://localhost:8080/"
        },
        "id": "JmRjKULxDCJ3",
        "outputId": "c83c822d-e157-443c-f4ea-accd78bff9c6"
      },
      "execution_count": null,
      "outputs": [
        {
          "output_type": "execute_result",
          "data": {
            "text/plain": [
              "905"
            ]
          },
          "metadata": {},
          "execution_count": 72
        }
      ]
    },
    {
      "cell_type": "code",
      "source": [
        "lst=[11,22,33,44,55]\n",
        "rn.shuffle(lst)\n",
        "print(lst)"
      ],
      "metadata": {
        "colab": {
          "base_uri": "https://localhost:8080/"
        },
        "id": "xWLADtmTDQkk",
        "outputId": "fd2b9661-fbb3-477e-d830-92e89b6fa9d1"
      },
      "execution_count": null,
      "outputs": [
        {
          "output_type": "stream",
          "name": "stdout",
          "text": [
            "[44, 11, 22, 33, 55]\n"
          ]
        }
      ]
    },
    {
      "cell_type": "code",
      "source": [
        "rn.sample(lst,2)"
      ],
      "metadata": {
        "colab": {
          "base_uri": "https://localhost:8080/"
        },
        "id": "W66JwKH7EDWq",
        "outputId": "87a014f9-f3cb-4a79-e0ca-43c69eaee843"
      },
      "execution_count": null,
      "outputs": [
        {
          "output_type": "execute_result",
          "data": {
            "text/plain": [
              "[22, 11]"
            ]
          },
          "metadata": {},
          "execution_count": 76
        }
      ]
    },
    {
      "cell_type": "code",
      "source": [
        "rn.seed()"
      ],
      "metadata": {
        "id": "imk_MVebEkxC"
      },
      "execution_count": null,
      "outputs": []
    },
    {
      "cell_type": "code",
      "source": [
        "import random\n",
        "def adharnum(count=12):\n",
        "  nums=[]\n",
        "  for _ in range(count):\n",
        "    randnums = random.randint(10**11, 10**12 - 1)\n",
        "    nums.append(randnums)\n",
        "  return nums\n",
        "print( adharnum())\n",
        "\n",
        "\n"
      ],
      "metadata": {
        "colab": {
          "base_uri": "https://localhost:8080/"
        },
        "id": "KlyxTXAXE9ig",
        "outputId": "212f132d-6fb4-40d4-97fe-e27ce2c16081"
      },
      "execution_count": null,
      "outputs": [
        {
          "output_type": "stream",
          "name": "stdout",
          "text": [
            "[762907389678, 703451093268, 555068306542, 214839527422, 622465805779, 966676157509, 726108710660, 580158930613, 497458517551, 847005452417, 374556282170, 867842745143]\n"
          ]
        }
      ]
    },
    {
      "cell_type": "markdown",
      "source": [
        "Packages : folder must contain `__init__`.py file"
      ],
      "metadata": {
        "id": "5Z613hyDIUZa"
      }
    },
    {
      "cell_type": "code",
      "source": [],
      "metadata": {
        "id": "ZC1_mEI9IWaa"
      },
      "execution_count": null,
      "outputs": []
    },
    {
      "cell_type": "markdown",
      "source": [
        "Errors  \n",
        "1. Syntax errors: poor understanding of the language\n",
        "2. Logic errors: poor understanding of problem and its solution"
      ],
      "metadata": {
        "id": "3RRGkLdER1rU"
      }
    },
    {
      "cell_type": "markdown",
      "source": [
        "Exceptions:\n",
        "\n",
        "\n",
        "*   exceptions , are events that occur during execution of a program that disrupt the normal flow of the programs instructions.\n",
        "*   Two type\n",
        "1. Synchronous exceptions can be controlled by the program.\n",
        "  * divide by zero, array index out of bound\n",
        "2. Asynchronous exceptions are caused by events that are beyond the control of the program.\n",
        "  * interrupt from the keyboard, hardware malfunction, or disk failure\n",
        "  \n",
        "\n"
      ],
      "metadata": {
        "id": "s3-u9BPTSzDI"
      }
    },
    {
      "cell_type": "code",
      "source": [
        "n=int(input(\"Enter numerator: \"))\n",
        "d=int(input(\"Enter denominator: \"))\n",
        "q=n/d\n",
        "print(\"Quotient: \",q)"
      ],
      "metadata": {
        "colab": {
          "base_uri": "https://localhost:8080/",
          "height": 238
        },
        "id": "sv-mdLDrio8a",
        "outputId": "8a9d67de-0ac5-4a1c-989d-c7219cc64e99"
      },
      "execution_count": null,
      "outputs": [
        {
          "name": "stdout",
          "output_type": "stream",
          "text": [
            "Enter numerator: 10\n",
            "Enter denominator: 0\n"
          ]
        },
        {
          "output_type": "error",
          "ename": "ZeroDivisionError",
          "evalue": "division by zero",
          "traceback": [
            "\u001b[0;31m---------------------------------------------------------------------------\u001b[0m",
            "\u001b[0;31mZeroDivisionError\u001b[0m                         Traceback (most recent call last)",
            "\u001b[0;32m<ipython-input-87-8c54abf5ae46>\u001b[0m in \u001b[0;36m<cell line: 3>\u001b[0;34m()\u001b[0m\n\u001b[1;32m      1\u001b[0m \u001b[0mn\u001b[0m\u001b[0;34m=\u001b[0m\u001b[0mint\u001b[0m\u001b[0;34m(\u001b[0m\u001b[0minput\u001b[0m\u001b[0;34m(\u001b[0m\u001b[0;34m\"Enter numerator: \"\u001b[0m\u001b[0;34m)\u001b[0m\u001b[0;34m)\u001b[0m\u001b[0;34m\u001b[0m\u001b[0;34m\u001b[0m\u001b[0m\n\u001b[1;32m      2\u001b[0m \u001b[0md\u001b[0m\u001b[0;34m=\u001b[0m\u001b[0mint\u001b[0m\u001b[0;34m(\u001b[0m\u001b[0minput\u001b[0m\u001b[0;34m(\u001b[0m\u001b[0;34m\"Enter denominator: \"\u001b[0m\u001b[0;34m)\u001b[0m\u001b[0;34m)\u001b[0m\u001b[0;34m\u001b[0m\u001b[0;34m\u001b[0m\u001b[0m\n\u001b[0;32m----> 3\u001b[0;31m \u001b[0mq\u001b[0m\u001b[0;34m=\u001b[0m\u001b[0mn\u001b[0m\u001b[0;34m/\u001b[0m\u001b[0md\u001b[0m\u001b[0;34m\u001b[0m\u001b[0;34m\u001b[0m\u001b[0m\n\u001b[0m\u001b[1;32m      4\u001b[0m \u001b[0mprint\u001b[0m\u001b[0;34m(\u001b[0m\u001b[0;34m\"Quotient: \"\u001b[0m\u001b[0;34m,\u001b[0m\u001b[0mq\u001b[0m\u001b[0;34m)\u001b[0m\u001b[0;34m\u001b[0m\u001b[0;34m\u001b[0m\u001b[0m\n",
            "\u001b[0;31mZeroDivisionError\u001b[0m: division by zero"
          ]
        }
      ]
    },
    {
      "cell_type": "code",
      "source": [
        "n=int(input(\"Enter numerator: \"))\n",
        "d=int(input(\"Enter denominator: \"))\n",
        "q=n/d\n",
        "try:\n",
        "  print(\"Quotient: \",q)\n",
        "except ZeroDivisionError:\n",
        "  print(\"Denominator cannot be ZERO. Exception Handled Successfully\")"
      ],
      "metadata": {
        "colab": {
          "base_uri": "https://localhost:8080/",
          "height": 256
        },
        "id": "b4RqSCXfjA2K",
        "outputId": "282cf1da-5dfb-48e6-e5e1-5765348ad7af"
      },
      "execution_count": null,
      "outputs": [
        {
          "name": "stdout",
          "output_type": "stream",
          "text": [
            "Enter numerator: 10\n",
            "Enter denominator: 0\n"
          ]
        },
        {
          "output_type": "error",
          "ename": "ZeroDivisionError",
          "evalue": "division by zero",
          "traceback": [
            "\u001b[0;31m---------------------------------------------------------------------------\u001b[0m",
            "\u001b[0;31mZeroDivisionError\u001b[0m                         Traceback (most recent call last)",
            "\u001b[0;32m<ipython-input-88-d9b0e8591452>\u001b[0m in \u001b[0;36m<cell line: 3>\u001b[0;34m()\u001b[0m\n\u001b[1;32m      1\u001b[0m \u001b[0mn\u001b[0m\u001b[0;34m=\u001b[0m\u001b[0mint\u001b[0m\u001b[0;34m(\u001b[0m\u001b[0minput\u001b[0m\u001b[0;34m(\u001b[0m\u001b[0;34m\"Enter numerator: \"\u001b[0m\u001b[0;34m)\u001b[0m\u001b[0;34m)\u001b[0m\u001b[0;34m\u001b[0m\u001b[0;34m\u001b[0m\u001b[0m\n\u001b[1;32m      2\u001b[0m \u001b[0md\u001b[0m\u001b[0;34m=\u001b[0m\u001b[0mint\u001b[0m\u001b[0;34m(\u001b[0m\u001b[0minput\u001b[0m\u001b[0;34m(\u001b[0m\u001b[0;34m\"Enter denominator: \"\u001b[0m\u001b[0;34m)\u001b[0m\u001b[0;34m)\u001b[0m\u001b[0;34m\u001b[0m\u001b[0;34m\u001b[0m\u001b[0m\n\u001b[0;32m----> 3\u001b[0;31m \u001b[0mq\u001b[0m\u001b[0;34m=\u001b[0m\u001b[0mn\u001b[0m\u001b[0;34m/\u001b[0m\u001b[0md\u001b[0m\u001b[0;34m\u001b[0m\u001b[0;34m\u001b[0m\u001b[0m\n\u001b[0m\u001b[1;32m      4\u001b[0m \u001b[0;32mtry\u001b[0m\u001b[0;34m:\u001b[0m\u001b[0;34m\u001b[0m\u001b[0;34m\u001b[0m\u001b[0m\n\u001b[1;32m      5\u001b[0m   \u001b[0mprint\u001b[0m\u001b[0;34m(\u001b[0m\u001b[0;34m\"Quotient: \"\u001b[0m\u001b[0;34m,\u001b[0m\u001b[0mq\u001b[0m\u001b[0;34m)\u001b[0m\u001b[0;34m\u001b[0m\u001b[0;34m\u001b[0m\u001b[0m\n",
            "\u001b[0;31mZeroDivisionError\u001b[0m: division by zero"
          ]
        }
      ]
    },
    {
      "cell_type": "code",
      "source": [
        "n=int(input(\"Enter numerator: \"))\n",
        "d=int(input(\"Enter denominator: \"))\n",
        "try:\n",
        "  q=n/d\n",
        "  print(\"Quotient: \",q)\n",
        "except ZeroDivisionError:\n",
        "  print(\"Denominator cannot be ZERO. Exception Handled Successfully\")"
      ],
      "metadata": {
        "colab": {
          "base_uri": "https://localhost:8080/"
        },
        "id": "UNC8NalMVCor",
        "outputId": "3f663e59-4d86-4389-b9d3-dc02792f2e8e"
      },
      "execution_count": null,
      "outputs": [
        {
          "output_type": "stream",
          "name": "stdout",
          "text": [
            "Enter numerator: 123\n",
            "Enter denominator: 0\n",
            "Denominator cannot be ZERO. Exception Handled Successfully\n"
          ]
        }
      ]
    },
    {
      "cell_type": "code",
      "source": [
        "n=int(input(\"Enter numerator: \"))\n",
        "d=int(input(\"Enter denominator: \"))\n",
        "try:\n",
        "  q=n/d\n",
        "  print(\"Quotient: \",q)\n",
        "except ZeroDivisionError:\n",
        "  print(\"Denominator cannot be ZERO. Exception Handled Successfully\")"
      ],
      "metadata": {
        "colab": {
          "base_uri": "https://localhost:8080/",
          "height": 238
        },
        "id": "ET-8b6s6jXpi",
        "outputId": "2b6a918c-e60d-49f1-aa7b-588a37e99081"
      },
      "execution_count": null,
      "outputs": [
        {
          "name": "stdout",
          "output_type": "stream",
          "text": [
            "Enter numerator: sdf3\n"
          ]
        },
        {
          "output_type": "error",
          "ename": "ValueError",
          "evalue": "invalid literal for int() with base 10: 'sdf3'",
          "traceback": [
            "\u001b[0;31m---------------------------------------------------------------------------\u001b[0m",
            "\u001b[0;31mValueError\u001b[0m                                Traceback (most recent call last)",
            "\u001b[0;32m<ipython-input-90-43059665de15>\u001b[0m in \u001b[0;36m<cell line: 1>\u001b[0;34m()\u001b[0m\n\u001b[0;32m----> 1\u001b[0;31m \u001b[0mn\u001b[0m\u001b[0;34m=\u001b[0m\u001b[0mint\u001b[0m\u001b[0;34m(\u001b[0m\u001b[0minput\u001b[0m\u001b[0;34m(\u001b[0m\u001b[0;34m\"Enter numerator: \"\u001b[0m\u001b[0;34m)\u001b[0m\u001b[0;34m)\u001b[0m\u001b[0;34m\u001b[0m\u001b[0;34m\u001b[0m\u001b[0m\n\u001b[0m\u001b[1;32m      2\u001b[0m \u001b[0md\u001b[0m\u001b[0;34m=\u001b[0m\u001b[0mint\u001b[0m\u001b[0;34m(\u001b[0m\u001b[0minput\u001b[0m\u001b[0;34m(\u001b[0m\u001b[0;34m\"Enter denominator: \"\u001b[0m\u001b[0;34m)\u001b[0m\u001b[0;34m)\u001b[0m\u001b[0;34m\u001b[0m\u001b[0;34m\u001b[0m\u001b[0m\n\u001b[1;32m      3\u001b[0m \u001b[0;32mtry\u001b[0m\u001b[0;34m:\u001b[0m\u001b[0;34m\u001b[0m\u001b[0;34m\u001b[0m\u001b[0m\n\u001b[1;32m      4\u001b[0m   \u001b[0mq\u001b[0m\u001b[0;34m=\u001b[0m\u001b[0mn\u001b[0m\u001b[0;34m/\u001b[0m\u001b[0md\u001b[0m\u001b[0;34m\u001b[0m\u001b[0;34m\u001b[0m\u001b[0m\n\u001b[1;32m      5\u001b[0m   \u001b[0mprint\u001b[0m\u001b[0;34m(\u001b[0m\u001b[0;34m\"Quotient: \"\u001b[0m\u001b[0;34m,\u001b[0m\u001b[0mq\u001b[0m\u001b[0;34m)\u001b[0m\u001b[0;34m\u001b[0m\u001b[0;34m\u001b[0m\u001b[0m\n",
            "\u001b[0;31mValueError\u001b[0m: invalid literal for int() with base 10: 'sdf3'"
          ]
        }
      ]
    },
    {
      "cell_type": "code",
      "source": [
        "\n",
        "try:\n",
        "  n=int(input(\"Enter numerator: \"))\n",
        "  d=int(input(\"Enter denominator: \"))\n",
        "  q=n/d\n",
        "  print(\"Quotient: \",q)\n",
        "except ZeroDivisionError:\n",
        "  print(\"Denominator cannot be ZERO. Exception Handled Successfully\")"
      ],
      "metadata": {
        "colab": {
          "base_uri": "https://localhost:8080/",
          "height": 256
        },
        "id": "wOCOY0XGjcuX",
        "outputId": "c926848e-66da-4139-88e0-a9e3b3193786"
      },
      "execution_count": null,
      "outputs": [
        {
          "name": "stdout",
          "output_type": "stream",
          "text": [
            "Enter numerator: 10\n",
            "Enter denominator: dsf\n"
          ]
        },
        {
          "output_type": "error",
          "ename": "ValueError",
          "evalue": "invalid literal for int() with base 10: 'dsf'",
          "traceback": [
            "\u001b[0;31m---------------------------------------------------------------------------\u001b[0m",
            "\u001b[0;31mValueError\u001b[0m                                Traceback (most recent call last)",
            "\u001b[0;32m<ipython-input-91-7830f3b35c48>\u001b[0m in \u001b[0;36m<cell line: 1>\u001b[0;34m()\u001b[0m\n\u001b[1;32m      1\u001b[0m \u001b[0;32mtry\u001b[0m\u001b[0;34m:\u001b[0m\u001b[0;34m\u001b[0m\u001b[0;34m\u001b[0m\u001b[0m\n\u001b[1;32m      2\u001b[0m   \u001b[0mn\u001b[0m\u001b[0;34m=\u001b[0m\u001b[0mint\u001b[0m\u001b[0;34m(\u001b[0m\u001b[0minput\u001b[0m\u001b[0;34m(\u001b[0m\u001b[0;34m\"Enter numerator: \"\u001b[0m\u001b[0;34m)\u001b[0m\u001b[0;34m)\u001b[0m\u001b[0;34m\u001b[0m\u001b[0;34m\u001b[0m\u001b[0m\n\u001b[0;32m----> 3\u001b[0;31m   \u001b[0md\u001b[0m\u001b[0;34m=\u001b[0m\u001b[0mint\u001b[0m\u001b[0;34m(\u001b[0m\u001b[0minput\u001b[0m\u001b[0;34m(\u001b[0m\u001b[0;34m\"Enter denominator: \"\u001b[0m\u001b[0;34m)\u001b[0m\u001b[0;34m)\u001b[0m\u001b[0;34m\u001b[0m\u001b[0;34m\u001b[0m\u001b[0m\n\u001b[0m\u001b[1;32m      4\u001b[0m   \u001b[0mq\u001b[0m\u001b[0;34m=\u001b[0m\u001b[0mn\u001b[0m\u001b[0;34m/\u001b[0m\u001b[0md\u001b[0m\u001b[0;34m\u001b[0m\u001b[0;34m\u001b[0m\u001b[0m\n\u001b[1;32m      5\u001b[0m   \u001b[0mprint\u001b[0m\u001b[0;34m(\u001b[0m\u001b[0;34m\"Quotient: \"\u001b[0m\u001b[0;34m,\u001b[0m\u001b[0mq\u001b[0m\u001b[0;34m)\u001b[0m\u001b[0;34m\u001b[0m\u001b[0;34m\u001b[0m\u001b[0m\n",
            "\u001b[0;31mValueError\u001b[0m: invalid literal for int() with base 10: 'dsf'"
          ]
        }
      ]
    },
    {
      "cell_type": "code",
      "source": [
        "\n",
        "try:\n",
        "  n=int(input(\"Enter numerator: \"))\n",
        "  d=int(input(\"Enter denominator: \"))\n",
        "  q=n/d\n",
        "  print(\"Quotient: \",q)\n",
        "except ZeroDivisionError:\n",
        "  print(\"Denominator cannot be ZERO. Exception Handled Successfully\")\n",
        "except ValueError:\n",
        "  print(\"Numerator and Denominator must be integers. Exception Handled Successfully\")"
      ],
      "metadata": {
        "colab": {
          "base_uri": "https://localhost:8080/"
        },
        "id": "VyrnqPgzjml7",
        "outputId": "c8ad8afc-ab30-4b82-b772-90701fc23e95"
      },
      "execution_count": null,
      "outputs": [
        {
          "output_type": "stream",
          "name": "stdout",
          "text": [
            "Enter numerator: sdf\n",
            "Numerator and Denominator must be integers. Exception Handled Successfully\n"
          ]
        }
      ]
    },
    {
      "cell_type": "markdown",
      "source": [
        "Multiple Except Blocks"
      ],
      "metadata": {
        "id": "33vcHkXukiXz"
      }
    },
    {
      "cell_type": "code",
      "source": [
        "\n",
        "try:\n",
        "  n=int(input(\"Enter numerator: \"))\n",
        "  d=int(input(\"Enter denominator: \"))\n",
        "  q=n/d\n",
        "  print(\"Quotient: \",q)\n",
        "except ZeroDivisionError:\n",
        "  print(\"Denominator cannot be ZERO. Exception Handled Successfully\")\n",
        "except ValueError:\n",
        "  print(\"Numerator and Denominator must be integers. Exception Handled Successfully\")"
      ],
      "metadata": {
        "colab": {
          "base_uri": "https://localhost:8080/"
        },
        "id": "Jw02OMLLklWc",
        "outputId": "27e3778f-9b79-4d2c-f643-d7e51a82a377"
      },
      "execution_count": null,
      "outputs": [
        {
          "output_type": "stream",
          "name": "stdout",
          "text": [
            "Enter numerator: dsf\n",
            "Numerator and Denominator must be integers. Exception Handled Successfully\n"
          ]
        }
      ]
    },
    {
      "cell_type": "code",
      "source": [
        "str1='jasper'\n",
        "try:\n",
        "  print(str1[6] )\n",
        "except IndexError:\n",
        "  print(\"Index Error\")"
      ],
      "metadata": {
        "colab": {
          "base_uri": "https://localhost:8080/"
        },
        "id": "PtcuHZwElTIk",
        "outputId": "b5a7674a-db11-4166-f1a7-b6cda0c4dded"
      },
      "execution_count": null,
      "outputs": [
        {
          "output_type": "stream",
          "name": "stdout",
          "text": [
            "Index Error\n"
          ]
        }
      ]
    },
    {
      "cell_type": "markdown",
      "source": [
        "Multiple except in a single block"
      ],
      "metadata": {
        "id": "U6MVfOZKmJDM"
      }
    },
    {
      "cell_type": "code",
      "source": [
        "try:\n",
        "  n=int(input(\"Enter numerator: \"))\n",
        "  d=int(input(\"Enter denominator: \"))\n",
        "  q=n/d\n",
        "  print(\"Quotient: \",q)\n",
        "except (ZeroDivisionError,ValueError):\n",
        "  print(\"Denominator cannot be ZERO or Invalid Data Type. Exception Handled Successfully!\")"
      ],
      "metadata": {
        "colab": {
          "base_uri": "https://localhost:8080/"
        },
        "id": "o1WcTCcamMx9",
        "outputId": "03121e7e-0a8c-4ff4-9526-9ffb9d2d96a2"
      },
      "execution_count": null,
      "outputs": [
        {
          "output_type": "stream",
          "name": "stdout",
          "text": [
            "Enter numerator: 13\n",
            "Enter denominator: 0\n",
            "Denominator cannot be ZERO or Invalid Data Type. Exception Handled Successfully!\n"
          ]
        }
      ]
    },
    {
      "cell_type": "markdown",
      "source": [
        "except Block without Exception"
      ],
      "metadata": {
        "id": "jA1XH2xcnk9i"
      }
    },
    {
      "cell_type": "code",
      "source": [
        "try:\n",
        "  n=int(input(\"Enter numerator: \"))\n",
        "  d=int(input(\"Enter denominator: \"))\n",
        "  q=n/d\n",
        "  print(\"Quotient: \",q)\n",
        "except (ZeroDivisionError ):\n",
        "  print(\"Denominator cannot be ZERO . Exception Handled Successfully!\")\n",
        "except :\n",
        "  print('Unkown Error')"
      ],
      "metadata": {
        "colab": {
          "base_uri": "https://localhost:8080/"
        },
        "id": "1bKFkz-Fnpev",
        "outputId": "360b7241-b88d-44a8-e0cd-1c835c3fe889"
      },
      "execution_count": null,
      "outputs": [
        {
          "output_type": "stream",
          "name": "stdout",
          "text": [
            "Enter numerator: 234df\n",
            "Unkown Error\n"
          ]
        }
      ]
    },
    {
      "cell_type": "markdown",
      "source": [
        "The else Clause\n",
        ": This is optional"
      ],
      "metadata": {
        "id": "vHkN4CMLoNqC"
      }
    },
    {
      "cell_type": "code",
      "source": [
        "try:\n",
        "  n=int(input(\"Enter numerator: \"))\n",
        "  d=int(input(\"Enter denominator: \"))\n",
        "  q=n/d\n",
        "  print(\"Quotient: \",q)\n",
        "except (ZeroDivisionError,ValueError):\n",
        "  print(\"Denominator cannot be ZERO or Invalid Data Type. Exception Handled Successfully!\")\n",
        "else:\n",
        "  print('Succesfully Terminating..')"
      ],
      "metadata": {
        "colab": {
          "base_uri": "https://localhost:8080/"
        },
        "id": "YY0TrRCsoUwR",
        "outputId": "aac038bd-8b99-479c-e5b7-2391c559d04c"
      },
      "execution_count": null,
      "outputs": [
        {
          "output_type": "stream",
          "name": "stdout",
          "text": [
            "Enter numerator: 12\n",
            "Enter denominator: 3\n",
            "Quotient:  4.0\n",
            "Succesfully Terminating..\n"
          ]
        }
      ]
    },
    {
      "cell_type": "markdown",
      "source": [
        "Raising Exceptions"
      ],
      "metadata": {
        "id": "9qevXfEIpZzO"
      }
    },
    {
      "cell_type": "code",
      "source": [
        "n=int(input(\"Enter a number: \"))\n",
        "if n<0:\n",
        "  raise Exception(\"Number cannot be negative\")"
      ],
      "metadata": {
        "colab": {
          "base_uri": "https://localhost:8080/",
          "height": 201
        },
        "id": "ACOLwTEhpbk-",
        "outputId": "09ea721b-d057-433f-b573-d93caf414a26"
      },
      "execution_count": null,
      "outputs": [
        {
          "name": "stdout",
          "output_type": "stream",
          "text": [
            "Enter a number: -23\n"
          ]
        },
        {
          "output_type": "error",
          "ename": "Exception",
          "evalue": "Number cannot be negative",
          "traceback": [
            "\u001b[0;31m---------------------------------------------------------------------------\u001b[0m",
            "\u001b[0;31mException\u001b[0m                                 Traceback (most recent call last)",
            "\u001b[0;32m<ipython-input-113-eafcc247cba4>\u001b[0m in \u001b[0;36m<cell line: 2>\u001b[0;34m()\u001b[0m\n\u001b[1;32m      1\u001b[0m \u001b[0mn\u001b[0m\u001b[0;34m=\u001b[0m\u001b[0mint\u001b[0m\u001b[0;34m(\u001b[0m\u001b[0minput\u001b[0m\u001b[0;34m(\u001b[0m\u001b[0;34m\"Enter a number: \"\u001b[0m\u001b[0;34m)\u001b[0m\u001b[0;34m)\u001b[0m\u001b[0;34m\u001b[0m\u001b[0;34m\u001b[0m\u001b[0m\n\u001b[1;32m      2\u001b[0m \u001b[0;32mif\u001b[0m \u001b[0mn\u001b[0m\u001b[0;34m<\u001b[0m\u001b[0;36m0\u001b[0m\u001b[0;34m:\u001b[0m\u001b[0;34m\u001b[0m\u001b[0;34m\u001b[0m\u001b[0m\n\u001b[0;32m----> 3\u001b[0;31m   \u001b[0;32mraise\u001b[0m \u001b[0mException\u001b[0m\u001b[0;34m(\u001b[0m\u001b[0;34m\"Number cannot be negative\"\u001b[0m\u001b[0;34m)\u001b[0m\u001b[0;34m\u001b[0m\u001b[0;34m\u001b[0m\u001b[0m\n\u001b[0m",
            "\u001b[0;31mException\u001b[0m: Number cannot be negative"
          ]
        }
      ]
    },
    {
      "cell_type": "markdown",
      "source": [
        "finally Block: finnally block will be executed irrespective of whether an exception is handled or not"
      ],
      "metadata": {
        "id": "i9Vlgu5IqM0N"
      }
    },
    {
      "cell_type": "code",
      "source": [
        "try:\n",
        "  print('raising an error')\n",
        "  raise SyntaxError\n",
        "\n",
        "finally:\n",
        "  print('In finally block')"
      ],
      "metadata": {
        "id": "rU_fqMReqPKs",
        "colab": {
          "base_uri": "https://localhost:8080/",
          "height": 256
        },
        "outputId": "687e28a5-e1b0-43d9-cb15-24ee1d391e23"
      },
      "execution_count": null,
      "outputs": [
        {
          "output_type": "stream",
          "name": "stdout",
          "text": [
            "raising an error\n",
            "In finally block\n"
          ]
        },
        {
          "output_type": "error",
          "ename": "SyntaxError",
          "evalue": "None (<string>)",
          "traceback": [
            "Traceback \u001b[0;36m(most recent call last)\u001b[0m:\n",
            "  File \u001b[1;32m\"/usr/local/lib/python3.10/dist-packages/IPython/core/interactiveshell.py\"\u001b[0m, line \u001b[1;32m3553\u001b[0m, in \u001b[1;35mrun_code\u001b[0m\n    exec(code_obj, self.user_global_ns, self.user_ns)\n",
            "\u001b[0;36m  File \u001b[0;32m\"<ipython-input-116-a97f22726c7e>\"\u001b[0;36m, line \u001b[0;32m3\u001b[0;36m, in \u001b[0;35m<cell line: 1>\u001b[0;36m\u001b[0m\n\u001b[0;31m    raise SyntaxError\u001b[0m\n",
            "\u001b[0;36m  File \u001b[0;32m\"<string>\"\u001b[0;36m, line \u001b[0;32munknown\u001b[0m\n\u001b[0;31mSyntaxError\u001b[0m\n"
          ]
        }
      ]
    },
    {
      "cell_type": "code",
      "source": [
        "try:\n",
        "  print('raising an error')\n",
        "  raise SyntaxError\n",
        "except:\n",
        "  print('Syntax Error')\n",
        "finally:\n",
        "  print('In finally block')"
      ],
      "metadata": {
        "colab": {
          "base_uri": "https://localhost:8080/"
        },
        "id": "HQs9RkKlsbYw",
        "outputId": "a78e19ae-bdcf-4b96-efac-9622a4edbdb0"
      },
      "execution_count": null,
      "outputs": [
        {
          "output_type": "stream",
          "name": "stdout",
          "text": [
            "raising an error\n",
            "Syntax Error\n",
            "In finally block\n"
          ]
        }
      ]
    },
    {
      "cell_type": "markdown",
      "source": [
        "### **Rock Paper Scissor Game Project using Python**"
      ],
      "metadata": {
        "id": "HAred5mNQh1p"
      }
    },
    {
      "cell_type": "code",
      "source": [
        "import random\n",
        "\n",
        "class RockPaperScissors:\n",
        "    def __init__(self):\n",
        "        self.rounds = []  # stores game rounds\n",
        "        self.p_score = 0\n",
        "        self.c_score = 0\n",
        "\n",
        "    def add_round(self, player_choice, computer_choice, result):\n",
        "        self.rounds.append({\n",
        "            \"round\": len(self.rounds) + 1,\n",
        "            \"player_choice\": player_choice,\n",
        "            \"computer_choice\": computer_choice,\n",
        "            \"result\": result\n",
        "        })\n",
        "\n",
        "    def display_rounds(self):\n",
        "        if not self.rounds:\n",
        "            print(\"No rounds played yet.\")\n",
        "            return\n",
        "        for round in self.rounds:\n",
        "            print(f\"Round {round['round']}: Player - {round['player_choice']}, \"\n",
        "                  f\"Computer - {round['computer_choice']}, Result - {round['result']}\")\n",
        "\n",
        "    def display_scores(self):\n",
        "        print(f\"Player Score: {self.p_score}, Computer Score: {self.c_score}\")\n",
        "\n",
        "    def determine_winner(self, player_choice, computer_choice):\n",
        "        opts = ['Rock', 'Paper', 'Scissors']\n",
        "        p_ch = opts.index(player_choice) + 1\n",
        "\n",
        "        if (p_ch == 1 and computer_choice == 'Scissors') or \\\n",
        "           (p_ch == 2 and computer_choice == 'Rock') or \\\n",
        "           (p_ch == 3 and computer_choice == 'Paper'):\n",
        "            return \"Player Wins\"\n",
        "        elif player_choice == computer_choice:\n",
        "            return \"Tie\"\n",
        "        else:\n",
        "            return \"Computer Wins\"\n",
        "\n",
        "    def update_round(self, round_number):\n",
        "        # First, find the round\n",
        "        round_to_update = None\n",
        "        for round in self.rounds:\n",
        "            if round['round'] == round_number:\n",
        "                round_to_update = round\n",
        "                break\n",
        "\n",
        "        if not round_to_update:\n",
        "            print(\"Round not found.\")\n",
        "            return\n",
        "\n",
        "        # Store old result to adjust scores\n",
        "        old_result = round_to_update['result']\n",
        "\n",
        "        # Reverse the previous score\n",
        "        if old_result == \"Player Wins\":\n",
        "            self.p_score -= 1\n",
        "        elif old_result == \"Computer Wins\":\n",
        "            self.c_score -= 1\n",
        "\n",
        "        # Get new choices\n",
        "        opts = ['Rock', 'Paper', 'Scissors']\n",
        "        try:\n",
        "            print(\"\\nUpdating Round\", round_number)\n",
        "            p_ch = int(input('Enter your choice (1. Rock, 2. Paper, 3. Scissors): '))\n",
        "            if p_ch not in [1, 2, 3]:\n",
        "                raise ValueError\n",
        "        except ValueError:\n",
        "            print(\"Invalid input. Please enter a number between 1 and 3.\")\n",
        "            return\n",
        "\n",
        "        player_choice = opts[p_ch - 1]\n",
        "        computer_choice = random.choice(opts)\n",
        "\n",
        "        print(f\"Your choice: {player_choice}\")\n",
        "        print(f\"Computer's choice: {computer_choice}\")\n",
        "\n",
        "        # Determine new result\n",
        "        result = self.determine_winner(player_choice, computer_choice)\n",
        "\n",
        "        # Update scores based on new result\n",
        "        if result == \"Player Wins\":\n",
        "            self.p_score += 1\n",
        "        elif result == \"Computer Wins\":\n",
        "            self.c_score += 1\n",
        "\n",
        "        # Update the round\n",
        "        round_to_update['player_choice'] = player_choice\n",
        "        round_to_update['computer_choice'] = computer_choice\n",
        "        round_to_update['result'] = result\n",
        "\n",
        "        print(f\"Round {round_number} updated with new result: {result}\")\n",
        "        self.display_scores()\n",
        "\n",
        "    def delete_round(self, round_number):\n",
        "        for round in self.rounds:\n",
        "            if round['round'] == round_number:\n",
        "                if round['result'] == \"Player Wins\":\n",
        "                    self.p_score -= 1\n",
        "                elif round['result'] == \"Computer Wins\":\n",
        "                    self.c_score -= 1\n",
        "        self.rounds = [round for round in self.rounds if round['round'] != round_number]\n",
        "        print(f\"Round {round_number} deleted.\")\n",
        "\n",
        "    def reset_game(self):\n",
        "        self.rounds.clear()\n",
        "        self.p_score = 0\n",
        "        self.c_score = 0\n",
        "        print(\"Game reset.\")\n",
        "\n",
        "    def play_round(self):\n",
        "        opts = ['Rock', 'Paper', 'Scissors']\n",
        "\n",
        "        try:\n",
        "            p_ch = int(input('Enter your choice (1. Rock, 2. Paper, 3. Scissors): '))\n",
        "            if p_ch not in [1, 2, 3]:\n",
        "                raise ValueError\n",
        "        except ValueError:\n",
        "            print(\"Invalid input. Please enter a number between 1 and 3.\")\n",
        "            return\n",
        "\n",
        "        player_choice = opts[p_ch - 1]\n",
        "        computer_choice = random.choice(opts)\n",
        "\n",
        "        print(f\"Your choice: {player_choice}\")\n",
        "        print(f\"Computer's choice: {computer_choice}\")\n",
        "\n",
        "        result = self.determine_winner(player_choice, computer_choice)\n",
        "\n",
        "        if result == \"Player Wins\":\n",
        "            self.p_score += 1\n",
        "        elif result == \"Computer Wins\":\n",
        "            self.c_score += 1\n",
        "\n",
        "        print(f\"Result: {result}\")\n",
        "        self.add_round(player_choice, computer_choice, result)\n",
        "\n",
        "game = RockPaperScissors()\n",
        "\n",
        "while True:\n",
        "    print(\"\\n1. Play Round\\n2. Display Rounds\\n3. Display Scores\\n4. Update Round\\n5. Delete Round\\n6. Reset Game\\n7. Exit\")\n",
        "    choice = input(\"Enter your choice: \").strip()\n",
        "\n",
        "    if choice == '1':\n",
        "        game.play_round()\n",
        "    elif choice == '2':\n",
        "        game.display_rounds()\n",
        "    elif choice == '3':\n",
        "        game.display_scores()\n",
        "    elif choice == '4':\n",
        "        try:\n",
        "            round_number = int(input(\"Enter the round number to update: \"))\n",
        "            game.update_round(round_number)\n",
        "        except ValueError:\n",
        "            print(\"Invalid round number\")\n",
        "    elif choice == '5':\n",
        "        try:\n",
        "            round_number = int(input(\"Enter the round number to delete: \"))\n",
        "            game.delete_round(round_number)\n",
        "        except ValueError:\n",
        "            print(\"Invalid round number\")\n",
        "    elif choice == '6':\n",
        "        game.reset_game()\n",
        "    elif choice == '7':\n",
        "        print(\"Exiting the game.\")\n",
        "        break\n",
        "    else:\n",
        "        print(\"Invalid choice. Please try again.\")"
      ],
      "metadata": {
        "colab": {
          "base_uri": "https://localhost:8080/"
        },
        "id": "T9itk2WvMBlo",
        "outputId": "d74223d4-638b-4fca-89ba-5ef16fb42f7f"
      },
      "execution_count": 1,
      "outputs": [
        {
          "output_type": "stream",
          "name": "stdout",
          "text": [
            "\n",
            "1. Play Round\n",
            "2. Display Rounds\n",
            "3. Display Scores\n",
            "4. Update Round\n",
            "5. Delete Round\n",
            "6. Reset Game\n",
            "7. Exit\n",
            "Enter your choice: 7\n",
            "Exiting the game.\n"
          ]
        }
      ]
    },
    {
      "cell_type": "markdown",
      "source": [
        "# **Assessment Practice**\n",
        "\n"
      ],
      "metadata": {
        "id": "niA28Mf-PE3Q"
      }
    },
    {
      "cell_type": "code",
      "source": [
        "def divide(x,y):\n",
        "  try:\n",
        "    return x/y\n",
        "  except ZeroDivisionError:\n",
        "    return \"Error\"\n",
        "  finally:\n",
        "    print('finally block')\n",
        "print(divide(10,0))"
      ],
      "metadata": {
        "colab": {
          "base_uri": "https://localhost:8080/"
        },
        "id": "9PKzHvdBPOhX",
        "outputId": "3d693e2f-9619-4496-aa0c-9e6959cf2805"
      },
      "execution_count": null,
      "outputs": [
        {
          "output_type": "stream",
          "name": "stdout",
          "text": [
            "finally block\n",
            "Error\n"
          ]
        }
      ]
    },
    {
      "cell_type": "code",
      "source": [
        "def memoizedfib(n,memo={}):\n",
        "  if n in memo:\n",
        "    return memo[n]\n",
        "  if n<=1:\n",
        "    return n\n",
        "  memo[n]=memoizedfib(n-1,memo)+memoizedfib(n-2,memo)\n",
        "  return memo[n]\n",
        "print(memoizedfib(8))"
      ],
      "metadata": {
        "colab": {
          "base_uri": "https://localhost:8080/"
        },
        "id": "IScxI3N0Prcd",
        "outputId": "f1fc5c5b-0e83-4ed5-e088-15efb1e677b9"
      },
      "execution_count": null,
      "outputs": [
        {
          "output_type": "stream",
          "name": "stdout",
          "text": [
            "21\n"
          ]
        }
      ]
    },
    {
      "cell_type": "code",
      "source": [
        "import random\n",
        "try:\n",
        "  weights=[0.3,0.5 ]\n",
        "  result=random.choices(population=[1,2,3],weights=weights,k=5)\n",
        "  print(result)\n",
        "except Exception as e:\n",
        "  print(f\"Error: {e}\")"
      ],
      "metadata": {
        "colab": {
          "base_uri": "https://localhost:8080/"
        },
        "id": "8arcLt_TRE0o",
        "outputId": "0ebd1ce4-ad10-49bb-bddc-dcc07ef6e81b"
      },
      "execution_count": null,
      "outputs": [
        {
          "output_type": "stream",
          "name": "stdout",
          "text": [
            "[1, 2, 2, 2, 1]\n"
          ]
        }
      ]
    },
    {
      "cell_type": "code",
      "source": [
        "try:\n",
        "  x=1/0\n",
        "except (ZeroDivisionError,TypeError):\n",
        "  print('Error')\n"
      ],
      "metadata": {
        "colab": {
          "base_uri": "https://localhost:8080/"
        },
        "id": "RrSeYWwmSlSk",
        "outputId": "7a970941-b044-4479-ed38-748ac1d71972"
      },
      "execution_count": null,
      "outputs": [
        {
          "output_type": "stream",
          "name": "stdout",
          "text": [
            "Error\n"
          ]
        }
      ]
    },
    {
      "cell_type": "code",
      "source": [
        "import random\n",
        "try:\n",
        "  result=random.choices([],k=3)\n",
        "except IndexError as e:\n",
        "  print(f\"Index error: {e}\")\n",
        "except ValueError as e:\n",
        "  print(f\"Value error: {e}\")\n",
        "except Exception as e:\n",
        "  print(f\"Error: {e}\")"
      ],
      "metadata": {
        "colab": {
          "base_uri": "https://localhost:8080/"
        },
        "id": "qE3_4K1MS2w2",
        "outputId": "e47e1f68-0479-4782-c7d2-b8233edcc7f7"
      },
      "execution_count": null,
      "outputs": [
        {
          "output_type": "stream",
          "name": "stdout",
          "text": [
            "Index error: list index out of range\n"
          ]
        }
      ]
    },
    {
      "cell_type": "code",
      "source": [
        "import math\n",
        "try:\n",
        "  result=math.sqrt(-1)\n",
        "except ValueError as e:\n",
        "  print(f\"Value error: {e}\")\n",
        "except Exception as e:\n",
        "  print(f\"Error: {e}\")"
      ],
      "metadata": {
        "colab": {
          "base_uri": "https://localhost:8080/"
        },
        "id": "8CQhlAb8TOqL",
        "outputId": "3345c0c2-dc9f-4729-89d7-148e6cc8677a"
      },
      "execution_count": null,
      "outputs": [
        {
          "output_type": "stream",
          "name": "stdout",
          "text": [
            "Value error: math domain error\n"
          ]
        }
      ]
    },
    {
      "cell_type": "code",
      "source": [
        "import math\n",
        "try:\n",
        "  print(math.factorial(10.5))\n",
        "except ValueError as e:\n",
        "  print(f\"Value error: {e}\")\n",
        "except TypeError as e:\n",
        "  print(f\"Type Error: {e}\")"
      ],
      "metadata": {
        "colab": {
          "base_uri": "https://localhost:8080/"
        },
        "id": "jxQhB3pATS8-",
        "outputId": "5320a67a-1f96-4463-b783-254072a41fd7"
      },
      "execution_count": null,
      "outputs": [
        {
          "output_type": "stream",
          "name": "stdout",
          "text": [
            "Type Error: 'float' object cannot be interpreted as an integer\n"
          ]
        }
      ]
    }
  ]
}